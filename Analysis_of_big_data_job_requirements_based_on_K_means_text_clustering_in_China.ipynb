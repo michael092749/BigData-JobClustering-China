{
  "cells": [
    {
      "cell_type": "markdown",
      "metadata": {
        "id": "YoLTHpWp-Rfb"
      },
      "source": [
        "# **Analysis of big data job requirements based on K-means text clustering in China**\n",
        "\n",
        "## **Introduction**\n",
        "\n",
        "An analysis of job requirements related to big data in China using K-means text clustering will be conducted. The dataset required for this analysis can be obtained from [https://doi.org/10.1371/journal.pone.0255419](https://doi.org/10.1371/journal.pone.0255419). For more detailed information about the dataset, please refer to the corresponding article at [https://doi.org/10.1371/journal.pone.0255419](https://doi.org/10.1371/journal.pone.0255419). Prior to applying K-means text clustering, it is necessary to preprocess the data. Additionally, after clustering the data, you will need to visualise the clustered data in order to perform data analysis on the resulting cluster groups.\n"
      ]
    },
    {
      "cell_type": "markdown",
      "metadata": {
        "id": "6r8rVH_wrVFN"
      },
      "source": [
        "# **Global Constants**"
      ]
    },
    {
      "cell_type": "code",
      "execution_count": null,
      "metadata": {
        "id": "_GumGWC6reG6"
      },
      "outputs": [],
      "source": [
        "JAVA_HOME = \"/usr/lib/jvm/java-8-openjdk-amd64\"\n",
        "GDRIVE_DIR = \"/content/gdrive\"\n",
        "GDRIVE_HOME_DIR = GDRIVE_DIR + \"/My Drive\"\n",
        "GDRIVE_DATA_DIR = GDRIVE_HOME_DIR + \"/BDC Datasets\"\n",
        "DATASET_URL = \"https://ndownloader.figstatic.com/files/29057940\"\n",
        "GDRIVE_DATASET_FILE = GDRIVE_DATA_DIR + \"/\" + DATASET_URL.split(\"/\")[-1]\n",
        "\n",
        "RANDOM_SEED = 42 # for reproducibility\n",
        "MAX_K_CLUSTERS = 10 # max number of clusters"
      ]
    },
    {
      "cell_type": "markdown",
      "metadata": {
        "id": "iNQWYxnsMqQv"
      },
      "source": [
        "# **Spark + Google Colab Setup**"
      ]
    },
    {
      "cell_type": "markdown",
      "metadata": {
        "id": "tFudfLCRNvXT"
      },
      "source": [
        "## **1.** Install PySpark and related dependencies"
      ]
    },
    {
      "cell_type": "code",
      "execution_count": null,
      "metadata": {
        "colab": {
          "base_uri": "https://localhost:8080/"
        },
        "id": "l6vtwpPGKn9W",
        "outputId": "916bc8ce-7cfb-4a25-b113-65becdb39c75"
      },
      "outputs": [
        {
          "output_type": "stream",
          "name": "stdout",
          "text": [
            "\u001b[2K     \u001b[90m━━━━━━━━━━━━━━━━━━━━━━━━━━━━━━━━━━━━━━━\u001b[0m \u001b[32m310.8/310.8 MB\u001b[0m \u001b[31m1.6 MB/s\u001b[0m eta \u001b[36m0:00:00\u001b[0m\n",
            "\u001b[?25h  Preparing metadata (setup.py) ... \u001b[?25l\u001b[?25hdone\n",
            "  Building wheel for pyspark (setup.py) ... \u001b[?25l\u001b[?25hdone\n",
            "Selecting previously unselected package libxtst6:amd64.\n",
            "(Reading database ... 122531 files and directories currently installed.)\n",
            "Preparing to unpack .../libxtst6_2%3a1.2.3-1_amd64.deb ...\n",
            "Unpacking libxtst6:amd64 (2:1.2.3-1) ...\n",
            "Selecting previously unselected package openjdk-8-jre-headless:amd64.\n",
            "Preparing to unpack .../openjdk-8-jre-headless_8u372-ga~us1-0ubuntu1~20.04_amd64.deb ...\n",
            "Unpacking openjdk-8-jre-headless:amd64 (8u372-ga~us1-0ubuntu1~20.04) ...\n",
            "Selecting previously unselected package openjdk-8-jdk-headless:amd64.\n",
            "Preparing to unpack .../openjdk-8-jdk-headless_8u372-ga~us1-0ubuntu1~20.04_amd64.deb ...\n",
            "Unpacking openjdk-8-jdk-headless:amd64 (8u372-ga~us1-0ubuntu1~20.04) ...\n",
            "Setting up libxtst6:amd64 (2:1.2.3-1) ...\n",
            "Setting up openjdk-8-jre-headless:amd64 (8u372-ga~us1-0ubuntu1~20.04) ...\n",
            "update-alternatives: using /usr/lib/jvm/java-8-openjdk-amd64/jre/bin/orbd to provide /usr/bin/orbd (orbd) in auto mode\n",
            "update-alternatives: using /usr/lib/jvm/java-8-openjdk-amd64/jre/bin/servertool to provide /usr/bin/servertool (servertool) in auto mode\n",
            "update-alternatives: using /usr/lib/jvm/java-8-openjdk-amd64/jre/bin/tnameserv to provide /usr/bin/tnameserv (tnameserv) in auto mode\n",
            "Setting up openjdk-8-jdk-headless:amd64 (8u372-ga~us1-0ubuntu1~20.04) ...\n",
            "update-alternatives: using /usr/lib/jvm/java-8-openjdk-amd64/bin/idlj to provide /usr/bin/idlj (idlj) in auto mode\n",
            "update-alternatives: using /usr/lib/jvm/java-8-openjdk-amd64/bin/wsimport to provide /usr/bin/wsimport (wsimport) in auto mode\n",
            "update-alternatives: using /usr/lib/jvm/java-8-openjdk-amd64/bin/jsadebugd to provide /usr/bin/jsadebugd (jsadebugd) in auto mode\n",
            "update-alternatives: using /usr/lib/jvm/java-8-openjdk-amd64/bin/native2ascii to provide /usr/bin/native2ascii (native2ascii) in auto mode\n",
            "update-alternatives: using /usr/lib/jvm/java-8-openjdk-amd64/bin/javah to provide /usr/bin/javah (javah) in auto mode\n",
            "update-alternatives: using /usr/lib/jvm/java-8-openjdk-amd64/bin/clhsdb to provide /usr/bin/clhsdb (clhsdb) in auto mode\n",
            "update-alternatives: using /usr/lib/jvm/java-8-openjdk-amd64/bin/jhat to provide /usr/bin/jhat (jhat) in auto mode\n",
            "update-alternatives: using /usr/lib/jvm/java-8-openjdk-amd64/bin/extcheck to provide /usr/bin/extcheck (extcheck) in auto mode\n",
            "update-alternatives: using /usr/lib/jvm/java-8-openjdk-amd64/bin/hsdb to provide /usr/bin/hsdb (hsdb) in auto mode\n",
            "update-alternatives: using /usr/lib/jvm/java-8-openjdk-amd64/bin/schemagen to provide /usr/bin/schemagen (schemagen) in auto mode\n",
            "update-alternatives: using /usr/lib/jvm/java-8-openjdk-amd64/bin/xjc to provide /usr/bin/xjc (xjc) in auto mode\n",
            "update-alternatives: using /usr/lib/jvm/java-8-openjdk-amd64/bin/wsgen to provide /usr/bin/wsgen (wsgen) in auto mode\n",
            "Processing triggers for libc-bin (2.31-0ubuntu9.9) ...\n"
          ]
        }
      ],
      "source": [
        "!pip install -q pyspark\n",
        "# Alternatively, if you want to install a specific version of pyspark:\n",
        "#!pip install -q pyspark==3.2.1\n",
        "!pip install -q -U -q PyDrive # To use files that are stored in Google Drive directly (e.g., without downloading them from an external URL)\n",
        "!apt install -q openjdk-8-jdk-headless -qq\n",
        "import os\n",
        "os.environ[\"JAVA_HOME\"] = JAVA_HOME"
      ]
    },
    {
      "cell_type": "markdown",
      "metadata": {
        "id": "YOrmY8FiOMwa"
      },
      "source": [
        "## **2.** Import useful Python packages"
      ]
    },
    {
      "cell_type": "code",
      "execution_count": null,
      "metadata": {
        "id": "Fh8zPg5APmYv"
      },
      "outputs": [],
      "source": [
        "import requests\n",
        "import pandas as pd\n",
        "import numpy as np\n",
        "import matplotlib.pyplot as plt\n",
        "import seaborn as sns\n",
        "%matplotlib inline\n",
        "\n",
        "import pyspark\n",
        "from pyspark.sql import *\n",
        "from pyspark.sql.types import *\n",
        "from pyspark.sql.functions import *\n",
        "from pyspark import SparkContext, SparkConf"
      ]
    },
    {
      "cell_type": "markdown",
      "metadata": {
        "id": "hbT2rM-4tvnB"
      },
      "source": [
        "## **3.** Create Spark context"
      ]
    },
    {
      "cell_type": "code",
      "execution_count": null,
      "metadata": {
        "id": "xXQOJijlEz3I"
      },
      "outputs": [],
      "source": [
        "# create the session\n",
        "conf = SparkConf().set(\"spark.ui.port\", \"4050\").set('spark.executor.memory', '4G').set('spark.driver.memory', '10G').set('spark.driver.maxResultSize', '10G')\n",
        "\n",
        "# create the context\n",
        "sc = pyspark.SparkContext(conf=conf)\n",
        "spark = SparkSession.builder.getOrCreate()"
      ]
    },
    {
      "cell_type": "markdown",
      "metadata": {
        "id": "on0pzpMiOA_L"
      },
      "source": [
        "## **4.** Link Colab to our Google Drive"
      ]
    },
    {
      "cell_type": "code",
      "execution_count": null,
      "metadata": {
        "id": "yzUd3JdGS1Tp",
        "colab": {
          "base_uri": "https://localhost:8080/"
        },
        "outputId": "adfd9adf-a090-4267-aeba-64a57baa62bd"
      },
      "outputs": [
        {
          "output_type": "stream",
          "name": "stdout",
          "text": [
            "Mounted at /content/gdrive\n"
          ]
        }
      ],
      "source": [
        "# Point Colaboratory to our Google Drive\n",
        "\n",
        "from google.colab import drive\n",
        "\n",
        "drive.mount(GDRIVE_DIR, force_remount=True)"
      ]
    },
    {
      "cell_type": "markdown",
      "metadata": {
        "id": "_eRvyl2xwCV6"
      },
      "source": [
        "## **5.** Check everything is ok"
      ]
    },
    {
      "cell_type": "code",
      "execution_count": null,
      "metadata": {
        "id": "4fqJ5f0JE3BL",
        "colab": {
          "base_uri": "https://localhost:8080/",
          "height": 219
        },
        "outputId": "26e7d27d-bbcc-4de4-9da7-2f88ab5e3a5d"
      },
      "outputs": [
        {
          "output_type": "execute_result",
          "data": {
            "text/plain": [
              "<pyspark.sql.session.SparkSession at 0x7f41276068f0>"
            ],
            "text/html": [
              "\n",
              "            <div>\n",
              "                <p><b>SparkSession - in-memory</b></p>\n",
              "                \n",
              "        <div>\n",
              "            <p><b>SparkContext</b></p>\n",
              "\n",
              "            <p><a href=\"http://47f97df8bd8b:4050\">Spark UI</a></p>\n",
              "\n",
              "            <dl>\n",
              "              <dt>Version</dt>\n",
              "                <dd><code>v3.4.0</code></dd>\n",
              "              <dt>Master</dt>\n",
              "                <dd><code>local[*]</code></dd>\n",
              "              <dt>AppName</dt>\n",
              "                <dd><code>pyspark-shell</code></dd>\n",
              "            </dl>\n",
              "        </div>\n",
              "        \n",
              "            </div>\n",
              "        "
            ]
          },
          "metadata": {},
          "execution_count": 6
        }
      ],
      "source": [
        "spark"
      ]
    },
    {
      "cell_type": "code",
      "execution_count": null,
      "metadata": {
        "id": "qhTN342EEOYZ",
        "colab": {
          "base_uri": "https://localhost:8080/"
        },
        "outputId": "12b99678-6b9d-4db3-d666-f9a05488aa68"
      },
      "outputs": [
        {
          "output_type": "execute_result",
          "data": {
            "text/plain": [
              "[('spark.app.startTime', '1684522822106'),\n",
              " ('spark.driver.port', '34427'),\n",
              " ('spark.executor.id', 'driver'),\n",
              " ('spark.driver.memory', '10G'),\n",
              " ('spark.sql.warehouse.dir', 'file:/content/spark-warehouse'),\n",
              " ('spark.driver.maxResultSize', '10G'),\n",
              " ('spark.app.name', 'pyspark-shell'),\n",
              " ('spark.driver.extraJavaOptions',\n",
              "  '-Djava.net.preferIPv6Addresses=false -XX:+IgnoreUnrecognizedVMOptions --add-opens=java.base/java.lang=ALL-UNNAMED --add-opens=java.base/java.lang.invoke=ALL-UNNAMED --add-opens=java.base/java.lang.reflect=ALL-UNNAMED --add-opens=java.base/java.io=ALL-UNNAMED --add-opens=java.base/java.net=ALL-UNNAMED --add-opens=java.base/java.nio=ALL-UNNAMED --add-opens=java.base/java.util=ALL-UNNAMED --add-opens=java.base/java.util.concurrent=ALL-UNNAMED --add-opens=java.base/java.util.concurrent.atomic=ALL-UNNAMED --add-opens=java.base/sun.nio.ch=ALL-UNNAMED --add-opens=java.base/sun.nio.cs=ALL-UNNAMED --add-opens=java.base/sun.security.action=ALL-UNNAMED --add-opens=java.base/sun.util.calendar=ALL-UNNAMED --add-opens=java.security.jgss/sun.security.krb5=ALL-UNNAMED -Djdk.reflect.useDirectMethodHandle=false'),\n",
              " ('spark.ui.port', '4050'),\n",
              " ('spark.app.submitTime', '1684522821926'),\n",
              " ('spark.rdd.compress', 'True'),\n",
              " ('spark.serializer.objectStreamReset', '100'),\n",
              " ('spark.master', 'local[*]'),\n",
              " ('spark.submit.pyFiles', ''),\n",
              " ('spark.submit.deployMode', 'client'),\n",
              " ('spark.app.id', 'local-1684522824106'),\n",
              " ('spark.driver.host', '47f97df8bd8b'),\n",
              " ('spark.executor.memory', '4G'),\n",
              " ('spark.ui.showConsoleProgress', 'true'),\n",
              " ('spark.executor.extraJavaOptions',\n",
              "  '-Djava.net.preferIPv6Addresses=false -XX:+IgnoreUnrecognizedVMOptions --add-opens=java.base/java.lang=ALL-UNNAMED --add-opens=java.base/java.lang.invoke=ALL-UNNAMED --add-opens=java.base/java.lang.reflect=ALL-UNNAMED --add-opens=java.base/java.io=ALL-UNNAMED --add-opens=java.base/java.net=ALL-UNNAMED --add-opens=java.base/java.nio=ALL-UNNAMED --add-opens=java.base/java.util=ALL-UNNAMED --add-opens=java.base/java.util.concurrent=ALL-UNNAMED --add-opens=java.base/java.util.concurrent.atomic=ALL-UNNAMED --add-opens=java.base/sun.nio.ch=ALL-UNNAMED --add-opens=java.base/sun.nio.cs=ALL-UNNAMED --add-opens=java.base/sun.security.action=ALL-UNNAMED --add-opens=java.base/sun.util.calendar=ALL-UNNAMED --add-opens=java.security.jgss/sun.security.krb5=ALL-UNNAMED -Djdk.reflect.useDirectMethodHandle=false')]"
            ]
          },
          "metadata": {},
          "execution_count": 7
        }
      ],
      "source": [
        "sc._conf.getAll()"
      ]
    },
    {
      "cell_type": "markdown",
      "metadata": {
        "id": "Mu77QbD2vC_o"
      },
      "source": [
        "# **Data Acquisition**"
      ]
    },
    {
      "cell_type": "markdown",
      "metadata": {
        "id": "j5fI3wiGvKBl"
      },
      "source": [
        "Download the dataset file from URL directly to our Google Drive."
      ]
    },
    {
      "cell_type": "code",
      "execution_count": null,
      "metadata": {
        "id": "kxrLDE_4e7KH"
      },
      "outputs": [],
      "source": [
        "def get_data(dataset_url, dest, chunk_size=1024):\n",
        "  response = requests.get(dataset_url, stream=True)\n",
        "  if response.status_code == 200:\n",
        "    with open(dest, \"wb\") as file:\n",
        "      for block in response.iter_content(chunk_size=chunk_size):\n",
        "        if block:\n",
        "          file.write(block)"
      ]
    },
    {
      "cell_type": "code",
      "execution_count": null,
      "metadata": {
        "id": "quiuGbfyv8vT",
        "colab": {
          "base_uri": "https://localhost:8080/"
        },
        "outputId": "457ce581-36a2-4cfa-ce86-930ef8b5d4f5"
      },
      "outputs": [
        {
          "output_type": "stream",
          "name": "stdout",
          "text": [
            "Retrieving dataset from URL: https://ndownloader.figstatic.com/files/29057940 ...\n",
            "Dataset successfully retrieved and stored at: /content/gdrive/My Drive/BDC Datasets/29057940\n"
          ]
        }
      ],
      "source": [
        "print(\"Retrieving dataset from URL: {} ...\".format(DATASET_URL))\n",
        "get_data(DATASET_URL, GDRIVE_DATASET_FILE)\n",
        "print(\"Dataset successfully retrieved and stored at: {}\".format(GDRIVE_DATASET_FILE))"
      ]
    },
    {
      "cell_type": "markdown",
      "metadata": {
        "id": "DevlrMcPw1ZI"
      },
      "source": [
        "### Read dataset file into a Spark Dataframe"
      ]
    },
    {
      "cell_type": "code",
      "execution_count": null,
      "metadata": {
        "id": "JryCImuxKa8s"
      },
      "outputs": [],
      "source": [
        "advert_df = pd.read_excel(io=GDRIVE_DATASET_FILE, engine='openpyxl')\n",
        "advert_df = spark.createDataFrame(advert_df)\n",
        "advert_df.cache();"
      ]
    },
    {
      "cell_type": "markdown",
      "metadata": {
        "id": "IPTd8ep9x74H"
      },
      "source": [
        "### Check the shape of the loaded dataset, i.e., the numbers of rows and columns [1 Mark]"
      ]
    },
    {
      "cell_type": "code",
      "execution_count": null,
      "metadata": {
        "id": "JyRyYqeXGA4l",
        "colab": {
          "base_uri": "https://localhost:8080/"
        },
        "outputId": "9b0a2adf-a6ef-46a8-cf14-96ad0273c57b"
      },
      "outputs": [
        {
          "output_type": "stream",
          "name": "stdout",
          "text": [
            "The shape of the dataset is 16551 rows by 7 columns\n"
          ]
        }
      ],
      "source": [
        "\n",
        "num_rows = advert_df.count()\n",
        "num_cols = len(advert_df.columns)\n",
        "print(f\"The shape of the dataset is {num_rows} rows by {num_cols} columns\")"
      ]
    },
    {
      "cell_type": "markdown",
      "metadata": {
        "id": "-WC4RPQgyEsB"
      },
      "source": [
        "### Print out the schema of the loaded dataset [1 Mark]"
      ]
    },
    {
      "cell_type": "code",
      "execution_count": null,
      "metadata": {
        "id": "Q3KhtSnvGIwG",
        "colab": {
          "base_uri": "https://localhost:8080/"
        },
        "outputId": "30d45aaa-1854-46f1-b753-b1d7d4638b31"
      },
      "outputs": [
        {
          "output_type": "stream",
          "name": "stdout",
          "text": [
            "root\n",
            " |-- Job title: string (nullable = true)\n",
            " |-- Salary range: string (nullable = true)\n",
            " |-- Location 1: string (nullable = true)\n",
            " |-- Location 2: string (nullable = true)\n",
            " |-- Experience requirement: string (nullable = true)\n",
            " |-- Education requirements: string (nullable = true)\n",
            " |-- Job requirements: string (nullable = true)\n",
            "\n"
          ]
        }
      ],
      "source": [
        "\n",
        "advert_df.printSchema()"
      ]
    },
    {
      "cell_type": "markdown",
      "metadata": {
        "id": "0Pjib1fiylb6"
      },
      "source": [
        "### Display the first 10 rows of the dataset [1 Mark]"
      ]
    },
    {
      "cell_type": "code",
      "execution_count": null,
      "metadata": {
        "id": "a4v-Z92rGXoe",
        "colab": {
          "base_uri": "https://localhost:8080/"
        },
        "outputId": "39f5ef9a-75cd-4fe6-b625-7cda13e43889"
      },
      "outputs": [
        {
          "output_type": "stream",
          "name": "stdout",
          "text": [
            "+--------------------+--------------------+----------+--------------------+----------------------+----------------------+----------------+\n",
            "|           Job title|        Salary range|Location 1|          Location 2|Experience requirement|Education requirements|Job requirements|\n",
            "+--------------------+--------------------+----------+--------------------+----------------------+----------------------+----------------+\n",
            "|Internet data sal...|    15,000 to 20,000|   Beijing|             Beiyuan|             3-5 years|        Junior college|       Full time|\n",
            "|Internet data sal...|    15,000 to 20,000|   Beijing|             Beiyuan|             3-5 years|        Junior college|       Full time|\n",
            "|Research and Deve...|    15,000 to 20,000|   Beijing|western informal ...|             3-5 years|                master|       Full time|\n",
            "|Procurement data ...|7 thousand-12 tho...|   Beijing|  Gaobeidian village|             1-3 years|        Junior college|       Full time|\n",
            "|Product Manager (...|15 thousand-25 th...|   Beijing|   Fengtai Gymnasium|            5-10 years|  Undergraduate course|       Full time|\n",
            "|Data analysis ass...|6 thousand -9 tho...|   Beijing|       chao yang men|          Under 1 year|  Undergraduate course|       Full time|\n",
            "|E-commerce Operat...|7 thousand-10 tho...|   Beijing|   Weifang community|             1-3 years|  Undergraduate course|       Full time|\n",
            "|Data product manager|    15,000 to 20,000|   Beijing|            Houshayu|             3-5 years|  Undergraduate course|       Full time|\n",
            "|        data analyst|8 thousand-12 tho...|   Beijing|            Houshayu|             1-3 years|  Undergraduate course|       Full time|\n",
            "|  Big data architect|    20,000 to 30,000|   Beijing|          Deshengmen|            5-10 years|        Junior college|       Full time|\n",
            "+--------------------+--------------------+----------+--------------------+----------------------+----------------------+----------------+\n",
            "only showing top 10 rows\n",
            "\n"
          ]
        }
      ],
      "source": [
        "\n",
        "advert_df.show(10)"
      ]
    },
    {
      "cell_type": "markdown",
      "metadata": {
        "id": "h1GCwSBLxNSc"
      },
      "source": [
        "### Count the number of records with any missing value (i.e., `NULL`, `NAN`, etc. ) along all columns [2 Marks]"
      ]
    },
    {
      "cell_type": "code",
      "execution_count": null,
      "metadata": {
        "id": "AcAb0fv9xWAX",
        "colab": {
          "base_uri": "https://localhost:8080/"
        },
        "outputId": "7706ce21-42ca-4c5c-dab6-17057fea7278"
      },
      "outputs": [
        {
          "output_type": "stream",
          "name": "stdout",
          "text": [
            "+---------+------------+----------+----------+----------------------+----------------------+----------------+\n",
            "|Job title|Salary range|Location 1|Location 2|Experience requirement|Education requirements|Job requirements|\n",
            "+---------+------------+----------+----------+----------------------+----------------------+----------------+\n",
            "|        0|           0|         0|      1073|                     0|                     0|               0|\n",
            "+---------+------------+----------+----------+----------------------+----------------------+----------------+\n",
            "\n"
          ]
        }
      ],
      "source": [
        "\n",
        "advert_df.select([count(when(isnan(c) | col(c).isNull(), c)).alias(c) for c in advert_df.columns]\n",
        "   ).show()"
      ]
    },
    {
      "cell_type": "markdown",
      "metadata": {
        "id": "i5BI66YzxerD"
      },
      "source": [
        "### Show the corresponding 10 `NULL` and `NAN` entry/ies [1 Mark]"
      ]
    },
    {
      "cell_type": "code",
      "execution_count": null,
      "metadata": {
        "id": "ACA5SstuxgSL",
        "colab": {
          "base_uri": "https://localhost:8080/"
        },
        "outputId": "6c63d84d-e00c-43ec-ce89-a9284e17cee2"
      },
      "outputs": [
        {
          "output_type": "stream",
          "name": "stdout",
          "text": [
            "+--------------------+--------------------+----------+----------+----------------------+----------------------+--------------------+\n",
            "|           Job title|        Salary range|Location 1|Location 2|Experience requirement|Education requirements|    Job requirements|\n",
            "+--------------------+--------------------+----------+----------+----------------------+----------------------+--------------------+\n",
            "|     camera operator|4 thousand -6 tho...|   Xi ' an|       NaN|             Ring Road|             1-3 years|      Junior college|\n",
            "|    Data entry clerk|     2.8 -4 thousand|   Xi ' an|       NaN|           Zhangjiabao|             1-3 years|Technical seconda...|\n",
            "|Quality control s...|4 thousand -7 tho...|   Xi ' an|       NaN|           Xishao gate|  Experience is unl...|      Junior college|\n",
            "|Data Processing S...|4 thousand -6 tho...|   Xi ' an|       NaN|                Xiguan|  Experience is unl...|      Junior college|\n",
            "|Data entry specia...|6 thousand -8 tho...|   Xi ' an|       NaN|           Xishao gate|  Experience is unl...|Education is not ...|\n",
            "|Consultant (Power...|8 thousand-16 tho...|   Xi ' an|       NaN|             Yuhuazhai|             3-5 years|Undergraduate course|\n",
            "|  Big data architect|15 thousand-25 th...|   Xi ' an|       NaN|          Gaoke garden|             3-5 years|Undergraduate course|\n",
            "|4-8K financial da...|5 thousand -8 tho...|   Xi ' an|       NaN|         tang yan road|  Experience is unl...|Undergraduate course|\n",
            "|Data analyst assi...|6 thousand -8 tho...|   Xi ' an|       NaN|  Xi'an Jiaotong Un...|  Experience is unl...|      Junior college|\n",
            "|Data analysis spe...|4 thousand -6 tho...|   Xi ' an|       NaN|              Wuli pai|             1-3 years|      Junior college|\n",
            "+--------------------+--------------------+----------+----------+----------------------+----------------------+--------------------+\n",
            "only showing top 10 rows\n",
            "\n"
          ]
        }
      ],
      "source": [
        "\n",
        "advert_df.filter((isnan(col(\"Location 2\")) | col(\"Location 2\").isNull())).show(10)"
      ]
    },
    {
      "cell_type": "markdown",
      "metadata": {
        "id": "RCXHgJ3txz2d"
      },
      "source": [
        "### Remove `NULL` and `NAN` entry/ies  [2 Marks]"
      ]
    },
    {
      "cell_type": "code",
      "execution_count": null,
      "metadata": {
        "id": "-FIr1UGdx1JA",
        "colab": {
          "base_uri": "https://localhost:8080/"
        },
        "outputId": "4a0b02c6-ca41-4fb8-d714-3518a5a004bf"
      },
      "outputs": [
        {
          "output_type": "stream",
          "name": "stdout",
          "text": [
            "The shape of the dataset is 15478 rows by 7 columns\n"
          ]
        }
      ],
      "source": [
        "\n",
        "\n",
        "def to_null(c):\n",
        "    return when(~(isnan(col(c))), col(c))\n",
        "\n",
        "advert_df=advert_df.select([to_null(c).alias(c) for c in advert_df.columns]).na.drop()\n",
        "\n",
        "print(f\"The shape of the dataset is {advert_df.count()} rows by {len(advert_df.columns)} columns\")\n"
      ]
    },
    {
      "cell_type": "markdown",
      "metadata": {
        "id": "fLqGRb1oMtwl"
      },
      "source": [
        "### Count the number of duplicate job adverts (if any) [2 Marks]"
      ]
    },
    {
      "cell_type": "code",
      "execution_count": null,
      "metadata": {
        "id": "MZg8x-_mMwzQ",
        "colab": {
          "base_uri": "https://localhost:8080/"
        },
        "outputId": "23c356a5-09af-4bcb-dc85-c09b48812716"
      },
      "outputs": [
        {
          "output_type": "stream",
          "name": "stdout",
          "text": [
            "The total number of duplicate job adverts is 1013 out of 15478 \n"
          ]
        }
      ],
      "source": [
        "\n",
        "duplicates = advert_df.count() - advert_df.dropDuplicates().count()\n",
        "print(f\"The total number of duplicate job adverts is {duplicates} out of {advert_df.count()} \")\n"
      ]
    },
    {
      "cell_type": "markdown",
      "metadata": {
        "id": "xpamfWtbNdSF"
      },
      "source": [
        "### Display all duplicate job adverts  [2 Marks]"
      ]
    },
    {
      "cell_type": "code",
      "execution_count": null,
      "metadata": {
        "id": "4IywTJTbH1Lq",
        "colab": {
          "base_uri": "https://localhost:8080/"
        },
        "outputId": "703a80a1-2a55-43b8-b164-0f84f7d132a7"
      },
      "outputs": [
        {
          "output_type": "stream",
          "name": "stdout",
          "text": [
            "+----------------------+--------------------+--------------------+--------------------+----------------------+----------------------+-------------------+-----+\n",
            "|             Job title|        Salary range|          Location 1|          Location 2|Experience requirement|Education requirements|   Job requirements|count|\n",
            "+----------------------+--------------------+--------------------+--------------------+----------------------+----------------------+-------------------+-----+\n",
            "|  The data entry st...|4 thousand -6 tho...|Xihu District, Ha...|           West lake|  Experience is unl...|           High school|          Full time|    7|\n",
            "|  Data communicatio...|4 thousand -8 tho...|           Changchun|               Linhe|             1-3 years|        Junior college|          Full time|    6|\n",
            "|  Financial data an...|6 thousand -8 tho...|              Dalian|      Zhongshan Road|             1-3 years|  Undergraduate course|          Full time|    5|\n",
            "|  Japanese data pro...|Two thousand-four...|              Dalian| Maritime University|  Experience is unl...|  Education is not ...|          Full time|    5|\n",
            "|  The data entry st...|4 thousand -6 tho...|Xihu District, Ha...|                Xixi|  Experience is unl...|           High school|          Full time|    5|\n",
            "|  Data product manager|10 thousand-15 th...|             Beijing|          Guangqumen|          Under 1 year|  Undergraduate course|          Full time|    4|\n",
            "|          data analyst|10 thousand-15 th...|             Beijing|          Guangqumen|  Experience is unl...|        Junior college|          Full time|    4|\n",
            "|      Statistics Clerk|4 thousand -6 tho...|              Dalian|             Dongcai|             1-3 years|  Undergraduate course|          Full time|    4|\n",
            "|          data analyst|10 thousand-15 th...|            Shenzhen|Science and techn...|             1-3 years|  Undergraduate course|          Full time|    4|\n",
            "|  Big data developm...|    15,000 to 20,000|            Shenzhen|       Shopping park|             3-5 years|        Junior college|          Full time|    4|\n",
            "|  Data warehouse de...|          8000-15000|           Changchun|   Nanling Mountains|             3-5 years|  Undergraduate course|          Full time|    4|\n",
            "|  Urgent recruitmen...|   3.5 -5.5 thousand|Dalian high-tech ...|          Huoju road|  Experience is unl...|  Technical seconda...|          Full time|    3|\n",
            "|        Data operation|6 thousand -8 tho...|Dalian high-tech ...|          Huoju road|  Experience is unl...|        Junior college|          Full time|    3|\n",
            "|  Data Auditor (dou...|4 thousand -6 tho...|Dalian high-tech ...|          Huoju road|  Experience is unl...|  Technical seconda...|          Full time|    3|\n",
            "|  Data requirement ...|4 thousand -6 tho...|              Dalian|          Huoju road|  Experience is unl...|        Junior college|          Full time|    3|\n",
            "|     Data statistician|4 thousand -6 tho...|              Dalian|      Zhongshan Road|             1-3 years|        Junior college|          Full time|    3|\n",
            "|  English data anal...|4 thousand -6 tho...|              Dalian|       Software park|             1-3 years|  Undergraduate course|          Full time|    3|\n",
            "|  IT Data Analysis ...|   3.5 -5.5 thousand|              Dalian|          Huoju road|  Experience is unl...|  Education is not ...|          Full time|    3|\n",
            "|  Real Estate Busin...|6 thousand -8 tho...|              Dalian|      Zhongshan Road|             1-3 years|  Undergraduate course|          Full time|    3|\n",
            "|        Data processor|Two thousand-four...|Shahekou District...|      Zhongshan Road|          Under 1 year|        Junior college|          Full time|    3|\n",
            "|     Big data analysis|          Negotiable|              Dalian|      Zhongshan Road|             1-3 years|  Undergraduate course|          Full time|    3|\n",
            "|  datician\\data min...|4 thousand -8 tho...|              Dalian|         White cloud|             1-3 years|        Junior college|          Full time|    3|\n",
            "|  Urgent employment...|     4.5 -6 thousand|              Dalian|      Zhongshan Road|             1-3 years|  Undergraduate course|          Full time|    3|\n",
            "|     Data statistician|4 thousand -6 tho...|Xigang District, ...|      Zhongshan Road|  Experience is unl...|           High school|          Full time|    3|\n",
            "|  Sales data analys...|8 thousand-10 tho...|Ganjingzi Distric...|       Spring willow|  Experience is unl...|  Undergraduate course|          Full time|    3|\n",
            "|  Data Analysis Spe...|4 thousand -6 tho...|Shahekou District...|          Xinghaiwan|             1-3 years|  Undergraduate course|          Full time|    3|\n",
            "|  Java development ...|          8000-15000|              Dalian| Maritime University|             3-5 years|  Undergraduate course|          Full time|    3|\n",
            "|       Data annotation|           1.5k-2.5k|Dalian high-tech ...|        Huangpu road|          inexperience|        Junior college|         Internship|    3|\n",
            "|  Data Audit Entry ...|   3.5 -5.5 thousand|Dalian high-tech ...|          Huoju road|  Experience is unl...|  Technical seconda...|          Full time|    3|\n",
            "|  Big data analyst ...|5 thousand -9 tho...|              Dalian|      Zhongshan Road|  Experience is unl...|  Education is not ...|          Full time|    3|\n",
            "|  European and Amer...|8 thousand-10 tho...|Dalian high-tech ...|          Qixianling|             3-5 years|        Junior college|          Full time|    3|\n",
            "|     Data statistician|4 thousand -6 tho...|              Dalian|    Zhongshan square|             3-5 years|        Junior college|          Full time|    3|\n",
            "|  Data analyst (tec...|6 thousand -8 tho...|Zhongshan Distric...|      Shanping steet|             1-3 years|  Undergraduate course|          Full time|    3|\n",
            "|  JAVA software tra...|8 thousand-10 tho...|              Dalian| Golden Pebble Beach|             3-5 years|  Undergraduate course|          Full time|    3|\n",
            "|  Recruitment of Da...|   3.5 -5.5 thousand|              Dalian|          Huoju road|  Experience is unl...|        Junior college|          Full time|    3|\n",
            "|  (Part-time) Chann...|8 thousand-10 tho...|              Dalian|          Qixianling|             1-3 years|        Junior college|Part-time/temporary|    3|\n",
            "|     Data statistician|3 thousand -4 tho...|              Dalian|   Liangjiadian town|             1-3 years|        Junior college|          Full time|    3|\n",
            "|  2021 Dalian Big D...|Two thousand-four...|Dalian high-tech ...|        Huangpu road|          inexperience|  Undergraduate course|             Campus|    3|\n",
            "|   Purchase data entry|Two thousand-four...|Ganjingzi Distric...|       Spring willow|  Experience is unl...|        Junior college|          Full time|    3|\n",
            "|  Government Projec...|    13,000 to 18,000|              Dalian|       Software park|             3-5 years|        Junior college|          Full time|    3|\n",
            "|  Senior data analy...|    30,000 to 50,000|              Dalian|       Software park|            5-10 years|                master|          Full time|    3|\n",
            "|  Urgent recruitmen...|   3.5 -5.5 thousand|Dalian high-tech ...|          Huoju road|  Experience is unl...|  Technical seconda...|          Full time|    3|\n",
            "|  Financial product...|4 thousand -6 tho...|Dalian high-tech ...|          Qixianling|             1-3 years|        Junior college|          Full time|    3|\n",
            "|  Data analysis ass...|3 thousand -4.5 t...|              Dalian|      Zhongshan Road|             1-3 years|  Undergraduate course|          Full time|    3|\n",
            "|    Big data architect|    20,000 to 30,000|Dalian high-tech ...|          Xinghaiwan|  Experience is unl...|  Undergraduate course|          Full time|    3|\n",
            "|  Procurement data ...|4 thousand -6 tho...|Dalian developmen...|          Dongjiagou|             1-3 years|  Undergraduate course|          Full time|    3|\n",
            "|    Sales data analyst|5 thousand-10 tho...|              Dalian|        Shuangd port|             3-5 years|  Undergraduate course|          Full time|    3|\n",
            "|  Big data developm...|8 thousand-12 tho...|Shahekou District...|          Xinghaiwan|             1-3 years|  Undergraduate course|          Full time|    3|\n",
            "|     Data statistician|3 thousand -4 tho...|              Dalian|      Zhongshan Road|  Experience is unl...|        Junior college|          Full time|    3|\n",
            "|       Data specialist|8 thousand-16 tho...|Shahekou District...|             Liaoshi|             1-3 years|  Undergraduate course|          Full time|    3|\n",
            "|  Data annotation i...|Two thousand-four...|Dalian high-tech ...|          Huoju road|          inexperience|  Undergraduate course|          Full time|    3|\n",
            "|  Big data developm...|        7,000-14,000|Shahekou District...|      Zhongshan Road|             3-5 years|  Undergraduate course|          Full time|    3|\n",
            "|          data analyst|8 thousand-10 tho...|              Dalian|     civil liberties|  Experience is unl...|        Junior college|          Full time|    3|\n",
            "|  Financial product...|8 thousand-10 tho...|Zhongshan Distric...|             Zhanbei|             1-3 years|        Junior college|          Full time|    3|\n",
            "|  Data product manager|8 thousand-13 tho...|Dalian high-tech ...|          Qixianling|            5-10 years|  Undergraduate course|          Full time|    3|\n",
            "|       Data annotation|          Negotiable|              Dalian|       Software park|          inexperience|        Junior college|         Internship|    3|\n",
            "|  Big data developm...|    15,000 to 30,000|              Dalian|             Neusoft|  Experience is unl...|  Education is not ...|          Full time|    3|\n",
            "|  Java engineer (da...|8 thousand-10 tho...|Dalian high-tech ...|            Lingshui|             3-5 years|        Junior college|          Full time|    3|\n",
            "|  Data analyst spec...|4 thousand -6 tho...|Shahekou District...|          Xinghaiwan|             1-3 years|  Undergraduate course|          Full time|    3|\n",
            "|    Big data architect|    20,000 to 30,000|Dalian high-tech ...|          Qixianling|  Experience is unl...|  Undergraduate course|          Full time|    3|\n",
            "|  Data analysis spe...|4 thousand -6 tho...|Zhongshan Distric...|         Erqi square|             1-3 years|  Undergraduate course|          Full time|    3|\n",
            "|   Sales data analysis|4 thousand -6 tho...|Shahekou District...|   Yellow river road|             1-3 years|        Junior college|          Full time|    3|\n",
            "|  Technology- Big D...|          Negotiable|              Dalian|          Huoju road|             3-5 years|        Junior college|          Full time|    3|\n",
            "|          data analyst|8 thousand-10 tho...|              Dalian|       Software park|             1-3 years|  Undergraduate course|          Full time|    3|\n",
            "|  Big Data Cloud Co...|4 thousand -6 tho...|              Dalian|      Jiefang Square|  Experience is unl...|        Junior college|          Full time|    3|\n",
            "|  DWH Support/ data...|15 thousand-25 th...|              Dalian|             Neusoft|             3-5 years|        Junior college|          Full time|    3|\n",
            "|  Data development ...|8 thousand-10 tho...|Dalian high-tech ...|        Huangpu road|             1-3 years|        Junior college|          Full time|    3|\n",
            "|  Japanese data pro...|5.5 thousand -7 t...|Ganjingzi Distric...|           Xinzhaizi|  Experience is unl...|        Junior college|          Full time|    3|\n",
            "|  Data analysis spe...|4 thousand -6 tho...|Dalian high-tech ...|          Huoju road|  Experience is unl...|        Junior college|          Full time|    3|\n",
            "|       IT data auditor|4 thousand -6 tho...|Dalian high-tech ...|          Huoju road|  Experience is unl...|  Technical seconda...|          Full time|    3|\n",
            "|  Recruitment of Da...|4 thousand -6 tho...|              Dalian|          Huoju road|  Experience is unl...|  Education is not ...|          Full time|    3|\n",
            "|          data analyst|8 thousand-10 tho...|Zhongshan Distric...|             Zhanbei|  Experience is unl...|        Junior college|          Full time|    3|\n",
            "|  Big data developm...|          Negotiable|              Dalian|      Zhongshan Road|             1-3 years|  Undergraduate course|          Full time|    3|\n",
            "|  Data Clerk (Civil...|          Negotiable|Ganjingzi Distric...|           Xinzhaizi|             1-3 years|        Junior college|          Full time|    3|\n",
            "|  Japanese Data Pro...|4 thousand -6 tho...|              Dalian|       Software park|             1-3 years|        Junior college|          Full time|    3|\n",
            "|  Data Analysis Aud...|4 thousand -6 tho...|              Dalian|          Huoju road|  Experience is unl...|  Education is not ...|          Full time|    3|\n",
            "|     data manipulation|6 thousand -8 tho...|Dalian high-tech ...|          Huoju road|  Experience is unl...|        Junior college|          Full time|    3|\n",
            "|  Big Data Product ...|          Negotiable|              Dalian|     civil liberties|            5-10 years|  Undergraduate course|          Full time|    3|\n",
            "|  Data analysis spe...|   3.5 -5.5 thousand|Dalian high-tech ...|          Huoju road|  Experience is unl...|  Technical seconda...|          Full time|    3|\n",
            "|  Data Specialist (...|     2.5 -5 thousand|Dalian developmen...| Golden Pebble Beach|             1-3 years|        Junior college|          Full time|    3|\n",
            "|        Data processor|3 thousand -3.5 t...|Shahekou District...|      Zhongshan Road|  Experience is unl...|        Junior college|          Full time|    3|\n",
            "|  Java development ...|6 thousand -8 tho...|              Dalian|            Lingshui|             3-5 years|  Undergraduate course|          Full time|    3|\n",
            "|  Independent resea...|15 thousand-25 th...|              Dalian|          Huoju road|            5-10 years|        Junior college|          Full time|    3|\n",
            "|  Data capture engi...|3 thousand -6 tho...|              Dalian|          Qixianling|             1-3 years|        Junior college|          Full time|    3|\n",
            "|  Independent resea...|10 thousand-15 th...|              Dalian|       Software park|             3-5 years|        Junior college|          Full time|    3|\n",
            "|  Data Analyst- dat...|10 thousand-15 th...|              Dalian|             Neusoft|  Experience is unl...|  Undergraduate course|          Full time|    3|\n",
            "|  Urgent employment...|4 thousand -6 tho...|              Dalian|      Zhongshan Road|             1-3 years|  Undergraduate course|          Full time|    3|\n",
            "|  Data center custo...|           2.5k-3.5k|Zhongshan Distric...|    Zhongshan square|             1-3 years|  Undergraduate course|          Full time|    3|\n",
            "|  Mechanical data c...|Two thousand-four...|Shahekou District...|       Software park|             1-3 years|        Junior college|          Full time|    3|\n",
            "|  Japanese drug dat...|5 thousand -9 tho...|              Dalian|          Huoju road|  Experience is unl...|  Education is not ...|          Full time|    3|\n",
            "|  Japanese Enterpri...|4 thousand -6 tho...|Dalian high-tech ...|          Qixianling|  Experience is unl...|        Junior college|          Full time|    3|\n",
            "|          data analyst|8 thousand-12 tho...|              Dalian|         Renmin Road|          Under 1 year|        Junior college|          Full time|    3|\n",
            "|  Data development ...|8 thousand-10 tho...|              Dalian|      Zhongshan Road|  Experience is unl...|  Undergraduate course|          Full time|    3|\n",
            "|  Big data developm...|10 thousand-15 th...|              Dalian|             Liaoshi|             3-5 years|  Undergraduate course|          Full time|    3|\n",
            "|  Data product manager|          8000-14000|              Dalian|          Huoju road|             3-5 years|  Undergraduate course|          Full time|    3|\n",
            "|       Data evaluation|          Negotiable|              Dalian|      Zhongshan Road|             1-3 years|  Undergraduate course|          Full time|    3|\n",
            "|  Data processing (...|3 thousand -3.5 t...|Shahekou District...|      Zhongshan Road|  Experience is unl...|        Junior college|          Full time|    3|\n",
            "|    Big data architect|    18,000 to 25,000|              Dalian|          Huoju road|            5-10 years|  Undergraduate course|          Full time|    3|\n",
            "|  Looking for a dat...|   3.5 -5.5 thousand|              Dalian|          Huoju road|  Experience is unl...|        Junior college|          Full time|    3|\n",
            "|     Data statistician|6 thousand -8 tho...|              Dalian|             Airport|             3-5 years|  Undergraduate course|          Full time|    3|\n",
            "|  Data Analyst Mana...|    20,000 to 30,000|Dalian high-tech ...|          Huoju road|            5-10 years|        Junior college|          Full time|    3|\n",
            "|  Big data developm...|6 thousand -8 tho...|              Dalian|      Zhongshan Road|             1-3 years|  Undergraduate course|          Full time|    3|\n",
            "|        Data processor|3 thousand -6 tho...|              Dalian|      Zhongshan Road|  Experience is unl...|        Junior college|          Full time|    3|\n",
            "|  Big data developm...|4 thousand -6 tho...|Dalian high-tech ...|          Huoju road|  Experience is unl...|        Junior college|          Full time|    3|\n",
            "|  Japanese Data Pro...|4 thousand -6 tho...|              Dalian|          Huoju road|  Experience is unl...|        Junior college|          Full time|    3|\n",
            "|  Data Operations A...|4 thousand -6 tho...|              Dalian|         South China|          inexperience|        Junior college|         Internship|    3|\n",
            "|  Big data developm...|          8000-15000|              Dalian|          Huoju road|             3-5 years|  Undergraduate course|          Full time|    3|\n",
            "|          data analyst|6 thousand -8 tho...|Dalian high-tech ...|          Huoju road|  Experience is unl...|  Undergraduate course|          Full time|    3|\n",
            "|  Big data developm...|8 thousand-11 tho...|              Dalian|         Erqi square|             3-5 years|        Junior college|          Full time|    3|\n",
            "|  Sales data analys...|    15,000 to 20,000|              Dalian|       Software park|  Experience is unl...|  Undergraduate course|          Full time|    3|\n",
            "|  Chief Expert of S...|    50,000 to 70,000|Dalian high-tech ...|          Huoju road|            5-10 years|                master|          Full time|    3|\n",
            "|  Independent R&D P...|10 thousand-18 th...|              Dalian|          Huoju road|             3-5 years|  Undergraduate course|          Full time|    3|\n",
            "|           Data entry.|     3.5 -6 thousand|Dalian developmen...|          Dongjiagou|             1-3 years|  Undergraduate course|          Full time|    3|\n",
            "|  Audit and analysi...|4 thousand -6 tho...|              Dalian|          Huoju road|  Experience is unl...|        Junior college|          Full time|    3|\n",
            "|  Data processor (e...|Two thousand-four...|Shahekou District...|      Zhongshan Road|          inexperience|  Undergraduate course|          Full time|    3|\n",
            "|  Japanese data ana...|     3.5 -6 thousand|Dalian high-tech ...|          Huoju road|  Experience is unl...|        Junior college|          Full time|    3|\n",
            "|  Java development ...|8 thousand-10 tho...|Dalian high-tech ...|            Lingshui|             3-5 years|        Junior college|          Full time|    3|\n",
            "|       Data specialist|3 thousand -5 tho...|Dalian high-tech ...| Maritime University|  Experience is unl...|  Education is not ...|          Full time|    3|\n",
            "|  Information/Mathe...|4 thousand -6 tho...|Dalian high-tech ...|          Huoju road|  Experience is unl...|  Technical seconda...|          Full time|    3|\n",
            "|  Japanese Process ...|4 thousand -6 tho...|Dalian high-tech ...|          Qixianling|             1-3 years|        Junior college|          Full time|    3|\n",
            "|  Data engineer intern|Two thousand-four...|Shahekou District...|       Software park|          inexperience|  Undergraduate course|         Internship|    3|\n",
            "|  Big data developm...|    20,000 to 30,000|Dalian high-tech ...|        Huangpu road|            5-10 years|  Undergraduate course|          Full time|    3|\n",
            "|          Data analyst|           3.5k-4.5k|Dalian developmen...|            Advanced|             3-5 years|  Technical seconda...|          Full time|    3|\n",
            "|  Famous Top 500 Fo...|4 thousand -8 tho...|              Dalian|       Software park|  Experience is unl...|        Junior college|          Full time|    3|\n",
            "|  Assistant data co...|4 thousand -6 tho...|              Dalian|          Huoju road|  Experience is unl...|        Junior college|          Full time|    3|\n",
            "|  Real estate busin...|6 thousand -8 tho...|              Dalian|      Zhongshan Road|             1-3 years|  Undergraduate course|          Full time|    3|\n",
            "|  Software Test Qua...|    14,000 to 18,000|              Dalian|       Software park|            5-10 years|  Undergraduate course|          Full time|    3|\n",
            "|  Big data development|10 thousand-15 th...|              Dalian|          Qixianling|             3-5 years|        Junior college|          Full time|    3|\n",
            "|          Data analyst|Two thousand-four...|Ganjingzi Distric...|               Malan|             1-3 years|        Junior college|          Full time|    3|\n",
            "|         Data engineer|8 thousand-10 tho...|              Dalian|          Qixianling|             3-5 years|  Undergraduate course|          Full time|    3|\n",
            "|  Technology- data ...|          Negotiable|              Dalian|       Software park|            5-10 years|        Junior college|          Full time|    3|\n",
            "|  Image data collec...|4 thousand -6 tho...|Dalian high-tech ...|          Qixianling|  Experience is unl...|  Undergraduate course|          Full time|    3|\n",
            "|  Big data algorith...|          Negotiable|              Dalian|      Zhongshan Road|  Experience is unl...|  Undergraduate course|          Full time|    3|\n",
            "|  Urgent recruitmen...|   3.5 -5.5 thousand|Dalian high-tech ...|          Huoju road|  Experience is unl...|  Technical seconda...|          Full time|    3|\n",
            "|   Data analysis clerk|4 thousand -6 tho...|              Dalian|          Huoju road|  Experience is unl...|        Junior college|          Full time|    3|\n",
            "|  Data product manager|10 thousand-15 th...|Shahekou District...|       Software park|            5-10 years|  Undergraduate course|          Full time|    3|\n",
            "|  Big data developm...|10 thousand-18 th...|              Dalian|      Zhongshan Road|             3-5 years|  Undergraduate course|          Full time|    3|\n",
            "|  Data processor-da...|Two thousand-four...|              Dalian|      Zhongshan Road|  Experience is unl...|        Junior college|          Full time|    3|\n",
            "|  A clerk (data ana...|3 thousand -4.5 t...|              Dalian|      Zhongshan Road|             1-3 years|  Undergraduate course|          Full time|    3|\n",
            "|  Data Processing o...|Two thousand-four...|              Dalian|Polytechnic unive...|  Experience is unl...|  Education is not ...|          Full time|    3|\n",
            "|       Data specialist|3 thousand -4.5 t...|              Dalian|      Zhongshan Road|  Experience is unl...|        Junior college|          Full time|    3|\n",
            "|  Financial data sp...|8 thousand-10 tho...|Shahekou District...|       Software park|             1-3 years|  Undergraduate course|          Full time|    3|\n",
            "|  Junior middle-lev...|6 thousand-10 tho...|Shahekou District...|      Zhongshan Road|             1-3 years|  Undergraduate course|          Full time|    3|\n",
            "|  Recruitment of Co...|   3.5 -5.5 thousand|              Dalian|          Huoju road|  Experience is unl...|        Junior college|          Full time|    3|\n",
            "|  Senior Data Opera...|5 thousand -6.5 t...|              Dalian|      Zhongshan Road|             1-3 years|  Undergraduate course|          Full time|    3|\n",
            "|  Data annotation i...|          Negotiable|              Dalian|       Software park|  Experience is unl...|        Junior college|          Full time|    3|\n",
            "|  Senior data produ...|          Negotiable|             Beijing|            Wangjing|             1-3 years|  Undergraduate course|          Full time|    3|\n",
            "|  Data analysis ass...|   4.6 -5.8 thousand|              Dalian|          Huoju road|  Experience is unl...|        Junior college|          Full time|    3|\n",
            "|  Big data developm...|4 thousand -6 tho...|              Dalian|            Lingshui|  Experience is unl...|        Junior college|          Full time|    3|\n",
            "|  Data Analyst (San...|4 thousand -8 tho...|Zhongshan Distric...|         Tiger Beach|             1-3 years|  Undergraduate course|          Full time|    3|\n",
            "|  Data development ...|8 thousand-13 tho...|              Dalian|               Lijia|  Experience is unl...|  Undergraduate course|          Full time|    3|\n",
            "|  Data Processing o...|7 thousand-12 tho...|Shahekou District...|       Software park|             1-3 years|  Technical seconda...|          Full time|    3|\n",
            "|  Senior Java devel...|10 thousand-15 th...|              Dalian| Maritime University|             3-5 years|        Junior college|          Full time|    3|\n",
            "|  AI data annotatio...|          Negotiable|Shahekou District...|       Software park|          inexperience|        Junior college|          Full time|    3|\n",
            "|   Sales data analysis|6 thousand -8 tho...|              Dalian|      Zhongshan Road|  Experience is unl...|        Junior college|          Full time|    3|\n",
            "|  Big data developm...|    12,000 to 20,000|Dalian high-tech ...|        Huangpu road|             3-5 years|  Undergraduate course|          Full time|    3|\n",
            "|          data analyst|8 thousand-12 tho...|              Dalian|          Qixianling|             3-5 years|  Undergraduate course|          Full time|    3|\n",
            "|          Data analyst|10 thousand-15 th...|              Dalian|      Zhongshan Road|             3-5 years|  Undergraduate course|          Full time|    3|\n",
            "|  Data center opera...|10 thousand-15 th...|              Dalian|     civil liberties|  Experience is unl...|        Junior college|          Full time|    3|\n",
            "|  Data acquisition ...|3 thousand -6 tho...|Ganjingzi Distric...|           Xinzhaizi|             1-3 years|        Junior college|          Full time|    3|\n",
            "|  Senior developmen...|10 thousand-20 th...|Shahekou District...|      Zhongshan Road|             3-5 years|  Undergraduate course|          Full time|    3|\n",
            "|  (part-time) data ...|8 thousand-10 tho...|              Dalian|          Qixianling|             1-3 years|        Junior college|Part-time/temporary|    3|\n",
            "|  Big Data and Indu...|10 thousand-20 th...|              Dalian|           Xiangyang|             3-5 years|  Undergraduate course|          Full time|    3|\n",
            "|  Head of data cent...|    15,000 to 20,000|              Dalian|    Zhongshan square|         Over 10 years|  Undergraduate course|          Full time|    3|\n",
            "|  Big data developm...|4 thousand -6 tho...|              Dalian|          Qixianling|  Experience is unl...|        Junior college|          Full time|    3|\n",
            "|  Japanese input (J...|     2.5 -5 thousand|              Dalian|       Youhao square|  Experience is unl...|  Education is not ...|          Full time|    3|\n",
            "|       data processing|3 thousand -5 tho...|              Dalian|          Xinghaiwan|  Experience is unl...|        Junior college|          Full time|    3|\n",
            "|     Data statistician|4 thousand -6 tho...|              Dalian|      Zhongshan Road|          Under 1 year|  Technical seconda...|          Full time|    3|\n",
            "|  Data Processing o...|Two thousand-four...|              Dalian|Polytechnic unive...|  Experience is unl...|  Education is not ...|          Full time|    3|\n",
            "|        Data processor|3 thousand -4 tho...|              Dalian|      Zhongshan Road|  Experience is unl...|        Junior college|          Full time|    3|\n",
            "|  Senior position i...|    15,000 to 20,000|Shahekou District...|      Xinghai Square|            5-10 years|  Undergraduate course|          Full time|    3|\n",
            "|  Big data developm...|    15,000 to 20,000|Ganjingzi Distric...|          Qixianling|             3-5 years|  Undergraduate course|          Full time|    3|\n",
            "|  Technology-Bigdat...|          Negotiable|              Dalian|       Software park|            5-10 years|        Junior college|          Full time|    3|\n",
            "|     Data statistician|4 thousand -6 tho...|              Dalian|      Zhongshan Road|             3-5 years|        Junior college|          Full time|    3|\n",
            "|        Data processor|Two thousand-four...|              Dalian|      Zhongshan Road|          Under 1 year|        Junior college|          Full time|    3|\n",
            "|  Japanese and Engl...|6 thousand -8 tho...|Shahekou District...|       Software park|  Experience is unl...|        Junior college|          Full time|    3|\n",
            "|        Data processor|4 thousand -6 tho...|Zhongshan Distric...|    Zhongshan square|             1-3 years|  Undergraduate course|          Full time|    3|\n",
            "|  Data development ...|5 thousand-10 tho...|              Dalian|    Zhongshan square|             3-5 years|  Undergraduate course|          Full time|    3|\n",
            "|  Japanese Biomedic...|4 thousand -7 tho...|              Dalian|          Qixianling|  Experience is unl...|  Education is not ...|          Full time|    3|\n",
            "|  Lanzhou data analyst|8 thousand-10 tho...|              Dalian|          Huoju road|             3-5 years|  Undergraduate course|          Full time|    3|\n",
            "|  Data/Picture Exam...|4 thousand -6 tho...|              Dalian|          Huoju road|  Experience is unl...|        Junior college|          Full time|    3|\n",
            "|  Data announcer (9...|4 thousand -6 tho...|               Jinan|Convention and Ex...|  Experience is unl...|        Junior college|          Full time|    3|\n",
            "|  Data Operations D...|    15,000 to 30,000|Minhang District,...|        pujiang town|             3-5 years|  Undergraduate course|          Full time|    3|\n",
            "|  Software sales ma...|          8000-15000|            Hangzhou|           West lake|  Experience is unl...|        Junior college|          Full time|    3|\n",
            "|  Big data developm...|    15,000 to 20,000|Yuhuatai District...|            Xiaohang|             3-5 years|  Undergraduate course|          Full time|    3|\n",
            "|  Big data developm...|10 thousand-15 th...|               Jinan|Convention and Ex...|             3-5 years|  Undergraduate course|          Full time|    3|\n",
            "|  Financial data an...|6 thousand -8 tho...|             Tianjin|              Nanshi|             1-3 years|        Junior college|          Full time|    3|\n",
            "|      Data entry clerk|4 thousand -6 tho...|Hongshan District...|      Optical valley|  Experience is unl...|  Education is not ...|          Full time|    3|\n",
            "|  Big data developm...|10 thousand-15 th...|            Shenzhen|       Shopping park|             1-3 years|  Undergraduate course|          Full time|    3|\n",
            "|      Data entry clerk|4 thousand -6 tho...|Tianjin Binhai Ne...|             Newport|  Experience is unl...|        Junior college|          Full time|    3|\n",
            "|  5G Cloud Computin...|4 thousand -6 tho...|           Changchun|The Middle East M...|  Experience is unl...|  Education is not ...|          Full time|    3|\n",
            "|  Data warehouse ar...|          8000-15000|           Changchun|High tech Develop...|             3-5 years|  Undergraduate course|          Full time|    3|\n",
            "|  Technical Directo...|    15,000 to 20,000|           Changchun|     People's street|         Over 10 years|  Undergraduate course|          Full time|    3|\n",
            "|  Data warehouse /E...|5 thousand-10 tho...|           Changchun|          Jingyuetan|             3-5 years|  Undergraduate course|          Full time|    3|\n",
            "|  Operational data ...|7 thousand-12 tho...|Chaoyang District...|              Puyang|  Experience is unl...|        Junior college|          Full time|    3|\n",
            "|  Market Big Data S...|4 thousand -6 tho...|           Changchun|               Xinfa|  Experience is unl...|  Education is not ...|          Full time|    3|\n",
            "|  Data information ...|3.5 thousand -5 t...|           Changchun|Nanguan passenger...|  Experience is unl...|        Junior college|          Full time|    3|\n",
            "|  The data developm...|4 thousand -6 tho...|           Changchun|         Xi 'an road|  Experience is unl...|  Education is not ...|          Full time|    3|\n",
            "|  8k big data analy...|          8000-15000|           Changchun|     People's street|  Experience is unl...|        Junior college|          Full time|    3|\n",
            "|     Big data engineer|6 thousand -8 tho...|           Changchun|        happy street|             1-3 years|  Undergraduate course|          Full time|    3|\n",
            "|  Data management e...|4 thousand -6 tho...|Changchun High-te...|High tech Develop...|             3-5 years|  Undergraduate course|          Full time|    3|\n",
            "|  Customer service ...|4 thousand -6 tho...|           Changchun|Nanguan passenger...|             1-3 years|  Undergraduate course|          Full time|    3|\n",
            "|  School Recruitmen...|5 thousand -8 tho...|Nanguan District,...|               Xinfa|          inexperience|  Undergraduate course|          Full time|    3|\n",
            "|    Data analysis post|4 thousand -6 tho...|           Changchun|               Pearl|          inexperience|  Undergraduate course|          Full time|    3|\n",
            "|  School Recruitmen...|10 thousand-15 th...|Nanguan District,...|     People's street|          inexperience|  Undergraduate course|             Campus|    3|\n",
            "|            Data clerk|4 thousand -6 tho...|Kuancheng Distric...|            Zhanqian|             3-5 years|        Junior college|          Full time|    3|\n",
            "|  Enterprises direc...|8 thousand-10 tho...|Kuancheng Distric...|        Kaixuan road|          inexperience|  Technical seconda...|          Full time|    3|\n",
            "|  Big data developm...|4 thousand -6 tho...|           Changchun|   Nanling Mountains|             1-3 years|  Undergraduate course|          Full time|    3|\n",
            "|  5G engineering ne...|4 thousand -6 tho...|           Changchun|         Xi 'an road|  Experience is unl...|  Education is not ...|          Full time|    3|\n",
            "|            Data clerk|4 thousand -6 tho...|           Changchun|             Hsinchu|  Experience is unl...|  Technical seconda...|          Full time|    3|\n",
            "|  Big data algorith...|10 thousand-15 th...|           Changchun|           Net month|             3-5 years|  Undergraduate course|          Full time|    3|\n",
            "|  Data communicatio...|4 thousand -8 tho...|Nanguan District,...|               Linhe|             1-3 years|        Junior college|          Full time|    3|\n",
            "|  Internet software...|4 thousand -8 tho...|           Changchun|    Societe Generale|  Experience is unl...|  Education is not ...|          Full time|    3|\n",
            "|  Data analysis eng...|10 thousand-12 th...|Changchun High-te...|      Qianjin avenue|             3-5 years|  Undergraduate course|          Full time|    3|\n",
            "|  Python data analysis|6 thousand -8 tho...|Nanguan District,...|               Pearl|             1-3 years|  Undergraduate course|          Full time|    3|\n",
            "|  Commissioner of E...|4 thousand -6 tho...|           Changchun|         Xi 'an road|  Experience is unl...|  Education is not ...|          Full time|    3|\n",
            "|  Data analysis spe...|4 thousand -6 tho...|Changchun High-te...|High tech Develop...|             3-5 years|  Undergraduate course|          Full time|    3|\n",
            "|    Stock data analyst|6 thousand -8 tho...|           Changchun|              Puyang|          Under 1 year|  Education is not ...|          Full time|    3|\n",
            "|  5G engineering ne...|4 thousand -6 tho...|           Changchun|      Dongnanhu road|  Experience is unl...|  Education is not ...|          Full time|    3|\n",
            "|  Data development ...|8 thousand-10 tho...|Changchun Economi...|          Ziyou road|             3-5 years|  Undergraduate course|          Full time|    3|\n",
            "|  Product Director ...|    15,000 to 20,000|           Changchun|     People's street|         Over 10 years|  Undergraduate course|          Full time|    3|\n",
            "|  Big Data Analyst-...|8 thousand-10 tho...|           Changchun|           east wind|             3-5 years|        Junior college|          Full time|    3|\n",
            "|  8-12k big data an...|          8000-15000|           Changchun|     People's street|  Experience is unl...|        Junior college|          Full time|    3|\n",
            "|  Big data lecturer...|8 thousand-10 tho...|           Changchun|High tech Develop...|             1-3 years|        Junior college|          Full time|    3|\n",
            "|  Big data developm...|10 thousand-15 th...|           Changchun|           Net month|             1-3 years|  Undergraduate course|          Full time|    3|\n",
            "|  Data analysis spe...|3 thousand -6 tho...|           Changchun|              Qinghe|  Experience is unl...|  Undergraduate course|          Full time|    3|\n",
            "|  Data analysis spe...|3 thousand -5 tho...|Kuancheng Distric...|               Tiexi|             1-3 years|        Junior college|          Full time|    3|\n",
            "|  Teachers of Big D...|4 thousand -6 tho...|           Changchun|      Qianjin avenue|  Experience is unl...|  Undergraduate course|          Full time|    3|\n",
            "|  Big data artifici...|          8000-15000|           Changchun|               Baiju|             3-5 years|  Undergraduate course|          Full time|    3|\n",
            "|  bigdata analyst/d...|5 thousand-10 tho...|           Changchun|   Nanling Mountains|             3-5 years|  Undergraduate course|          Full time|    3|\n",
            "|  Big Data Developm...|8 thousand -9 tho...|Changchun Economi...|High tech Develop...|             1-3 years|  Education is not ...|          Full time|    3|\n",
            "|  Data test 4.5K we...|4 thousand -6 tho...|           Changchun|          Ziyou road|  Experience is unl...|  Technical seconda...|          Full time|    3|\n",
            "|  Sales data assistant|3 thousand -4 tho...|           Changchun|           Net month|  Experience is unl...|        Junior college|          Full time|    3|\n",
            "|  Data Implementati...|10 thousand-15 th...|           Changchun|Northeast Normal ...|             3-5 years|        Junior college|          Full time|    3|\n",
            "|  Big Data Operatio...|6 thousand-12 tho...|           Changchun|           Net month|             3-5 years|  Undergraduate course|          Full time|    3|\n",
            "|  bigdata analyst/d...|8 thousand-16 tho...|Nanguan District,...|          Jingyuetan|            5-10 years|  Undergraduate course|          Full time|    3|\n",
            "|  The data developm...|4 thousand -6 tho...|           Changchun|     People's street|  Experience is unl...|        Junior college|          Full time|    3|\n",
            "|  Data Science and ...|10 thousand-15 th...|Changchun High-te...|      Qianjin avenue|            5-10 years|                master|          Full time|    3|\n",
            "|  Data development ...|    20,000 to 30,000|           Changchun|           east wind|          inexperience|  Undergraduate course|          Full time|    3|\n",
            "|  Data development ...|5 thousand-10 tho...|           Changchun|          Jingyuetan|             3-5 years|  Undergraduate course|          Full time|    3|\n",
            "|   Big data instructor|8 thousand-10 tho...|           Changchun|High tech Develop...|             1-3 years|  Undergraduate course|          Full time|    3|\n",
            "|  Statistical analy...|4 thousand -6 tho...|Changchun Green Park|           east wind|  Experience is unl...|  Undergraduate course|          Full time|    3|\n",
            "|  Data statistician...|4 thousand -6 tho...|           Changchun|The Middle East M...|  Experience is unl...|  Education is not ...|          Full time|    3|\n",
            "|  Changchun-Senior ...|6 thousand-10 tho...|Changchun Green Park|           east wind|             3-5 years|  Undergraduate course|          Full time|    3|\n",
            "|            Data Clerk|4 thousand -6 tho...|Jinshui District,...|           Yanzhuang|             1-3 years|        Junior college|          Full time|    3|\n",
            "|  Data development ...|8 thousand-10 tho...|           Changchun|          South Lake|             3-5 years|  Undergraduate course|          Full time|    3|\n",
            "|  Data development ...|5 thousand -8 tho...|           Changchun|            Zhanqian|             1-3 years|  Undergraduate course|          Full time|    3|\n",
            "|  Development Engin...|          8000-14000|           Changchun|           Net month|            5-10 years|  Undergraduate course|          Full time|    3|\n",
            "|   Sales data analysis|Two thousand-four...|           Changchun|              Puyang|  Experience is unl...|  Education is not ...|          Full time|    3|\n",
            "|  Big Data Product ...|          8000-15000|           Changchun|           Net month|             3-5 years|  Undergraduate course|          Full time|    3|\n",
            "|  Big data analysis...|10 thousand-15 th...|           Changchun|           Net month|             3-5 years|  Undergraduate course|          Full time|    3|\n",
            "|  Operational data ...|4 thousand -6 tho...|Erdao District, C...|               Linhe|             1-3 years|        Junior college|          Full time|    3|\n",
            "|  Interactive Data-...|6 thousand-10 tho...|Chaoyang District...|High tech Develop...|             1-3 years|  Undergraduate course|          Full time|    3|\n",
            "|  Statisticians and...|4 thousand -6 tho...|           Zhengzhou|     Arc de Triomphe|             1-3 years|        Junior college|          Full time|    3|\n",
            "|          data analyst|8 thousand-12 tho...|           Changchun|     People's street|             1-3 years|  Undergraduate course|          Full time|    3|\n",
            "|  Internet software...|4 thousand -8 tho...|           Changchun|    Societe Generale|  Experience is unl...|  Education is not ...|          Full time|    3|\n",
            "|   Senior data analyst|10 thousand-20 th...|           Changchun|        happy street|             3-5 years|  Undergraduate course|          Full time|    3|\n",
            "|  Data processing e...|         2,000-2,500|           Changchun|     People's street|          inexperience|  Undergraduate course|          Full time|    3|\n",
            "|  Big data developm...|          8000-15000|           Changchun|     People's street|             1-3 years|        Junior college|          Full time|    3|\n",
            "|              big data|5 thousand -6 tho...|Kuancheng Distric...|      Dongnanhu road|  Experience is unl...|  Undergraduate course|          Full time|    3|\n",
            "|  Ke Holdings Inc.-...|4 thousand -6 tho...|           Changchun|              Quanan|             1-3 years|  Undergraduate course|          Full time|    3|\n",
            "|  Big Data Visualiz...|    15,000 to 20,000|           Changchun|           Net month|             3-5 years|  Undergraduate course|          Full time|    3|\n",
            "|  Data implementati...|10 thousand-15 th...|Chaoyang District...|           Yongchang|            5-10 years|        Junior college|          Full time|    3|\n",
            "|  Senior Data R&D E...|10 thousand-18 th...|           Changchun|      Dongnanhu road|            5-10 years|  Undergraduate course|          Full time|    3|\n",
            "|  Data (ETL) Engine...|5 thousand-10 tho...|Nanguan District,...|          Jingyuetan|             3-5 years|  Undergraduate course|          Full time|    3|\n",
            "|     Gis data engineer|7 thousand-10 tho...|           Changchun|     People's street|             3-5 years|  Undergraduate course|          Full time|    3|\n",
            "|  4k data communica...|     3.5 -6 thousand|           Changchun|               Xinfa|  Experience is unl...|        Junior college|          Full time|    3|\n",
            "|  Instructors can w...|8 thousand-10 tho...|           Changchun|High tech Develop...|             1-3 years|  Undergraduate course|          Full time|    3|\n",
            "|  Exhibition hall d...|Two thousand-four...|           Changchun|     Auto trade city|             1-3 years|        Junior college|          Full time|    3|\n",
            "|  8k mechanical des...|          8000-15000|           Changchun|     People's street|  Experience is unl...|        Junior college|          Full time|    3|\n",
            "|          data analyst|          8000-15000|           Changchun|               Pearl|             3-5 years|  Undergraduate course|          Full time|    3|\n",
            "|  Marketing Special...|           3.5k-4.5k|           Changchun|              Quanan|             1-3 years|  Undergraduate course|          Full time|    3|\n",
            "|  Software sales ma...|4 thousand -8 tho...|           Changchun|    Societe Generale|  Experience is unl...|        Junior college|          Full time|    3|\n",
            "|  [Anjuke] Real Est...|4 thousand -6 tho...|           Changchun|         Guilin Road|             1-3 years|  Undergraduate course|          Full time|    3|\n",
            "|  Big Data Project ...|10 thousand-15 th...|Changchun High-te...|      Qianjin avenue|             3-5 years|        Junior college|          Full time|    3|\n",
            "|        Data architect|    15,000 to 30,000|           Changchun|Northeast Normal ...|            5-10 years|        Junior college|          Full time|    3|\n",
            "|  Recruitment of Bi...|6 thousand -8 tho...|           Changchun|High tech Develop...|             1-3 years|        Junior college|Part-time/temporary|    3|\n",
            "|  Software sales ma...|4 thousand -8 tho...|           Changchun|    Societe Generale|  Experience is unl...|  Education is not ...|          Full time|    3|\n",
            "|          data analyst|4 thousand -8 tho...|Changchun Economi...|High tech Develop...|             1-3 years|  Undergraduate course|          Full time|    3|\n",
            "|          data analyst|4 thousand -6 tho...|Chaoyang District...|                Huxi|  Experience is unl...|  Education is not ...|          Full time|    3|\n",
            "|  Administration an...|4 thousand -6 tho...|Shapingba Distric...|              Xiyong|  Experience is unl...|  Education is not ...|          Full time|    3|\n",
            "|  Big Data Departme...|5 thousand-10 tho...|           Changchun|      Qianjin avenue|             3-5 years|  Undergraduate course|          Full time|    3|\n",
            "|  Data Development ...|          Negotiable|Nanguan District,...|     People's street|  Experience is unl...|  Undergraduate course|          Full time|    3|\n",
            "|  Big data artifici...|          8000-15000|           Changchun|     People's street|             1-3 years|        Junior college|          Full time|    3|\n",
            "|  Remote sensing /G...|Two thousand-four...|Chaoyang District...|         Guilin Road|          inexperience|  Undergraduate course|         Internship|    3|\n",
            "|  Aerial survey dat...|4 thousand -6 tho...|Nanguan District,...|      Dongnanhu road|             3-5 years|  Undergraduate course|          Full time|    3|\n",
            "|  Remote sensing da...|6 thousand -8 tho...|           Changchun|          Jilin road|             1-3 years|  Undergraduate course|          Full time|    3|\n",
            "|  Big data analysis...|15 thousand-25 th...|           Changchun|High tech Develop...|            5-10 years|  Undergraduate course|          Full time|    3|\n",
            "|  Big data mining e...|10 thousand-20 th...|           Changchun|High tech Develop...|  Experience is unl...|  Undergraduate course|          Full time|    3|\n",
            "|  Data Information ...|4 thousand -6 tho...|           Changchun|      Dongnanhu road|  Experience is unl...|  Education is not ...|          Full time|    3|\n",
            "|  Commodity/data ma...|6 thousand -8 tho...|           Changchun|               Linhe|             3-5 years|        Junior college|          Full time|    3|\n",
            "|          data analyst|8 thousand-10 tho...|           Changchun|           As far as|             1-3 years|        Junior college|          Full time|    3|\n",
            "|  Data technology m...|    15,000 to 30,000|           Changchun|Northeast Normal ...|            5-10 years|        Junior college|          Full time|    3|\n",
            "|  Big Data Project ...|10 thousand-15 th...|           Changchun|      Qianjin avenue|             3-5 years|        Junior college|          Full time|    3|\n",
            "|     Member management|4 thousand -6 tho...|           Changchun|              gentle|             1-3 years|  Undergraduate course|          Full time|    3|\n",
            "|  Data inspectors w...|4 thousand -6 tho...|           Changchun|Nanguan passenger...|          inexperience|        Junior college|         Internship|    3|\n",
            "|  bigdata analyst/d...|15 thousand-25 th...|           Changchun|High tech Develop...|             1-3 years|        Junior college|          Full time|    3|\n",
            "|     Big data engineer|6 thousand -8 tho...|Changchun High-te...|High tech Develop...|             1-3 years|  Undergraduate course|          Full time|    3|\n",
            "|  Algorithm enginee...|          8000-14000|           Changchun|           Net month|            5-10 years|                master|          Full time|    3|\n",
            "|  Data development ...|8 thousand-13 tho...|           Changchun|     People's street|  Experience is unl...|  Undergraduate course|          Full time|    3|\n",
            "|     Data statistician|3 thousand -4 tho...|           Changchun|      Chongqing road|  Experience is unl...|        Junior college|          Full time|    3|\n",
            "|  Administration an...|4 thousand -6 tho...|Jiulongpo Distric...|             Kowloon|  Experience is unl...|  Education is not ...|          Full time|    3|\n",
            "|  Data Operations E...|6 thousand -8 tho...|Changchun High-te...|      Qianjin avenue|            5-10 years|  Undergraduate course|          Full time|    3|\n",
            "|  GIS data processi...|4 thousand -6 tho...|Chaoyang District...|         Guilin Road|  Experience is unl...|  Undergraduate course|          Full time|    3|\n",
            "|  Data Intelligent ...|          Negotiable|           Changchun|     People's street|          inexperience|  Undergraduate course|          Full time|    3|\n",
            "|  datician\\data min...|10 thousand-20 th...|           Changchun|High tech Develop...|             1-3 years|        Junior college|          Full time|    3|\n",
            "|  Data Operation Re...|          Negotiable|Chaoyang District...|               Xinfa|             1-3 years|  Undergraduate course|          Full time|    3|\n",
            "|  Big data analyst ...|15 thousand-25 th...|           Changchun|      Qianjin avenue|            5-10 years|  Undergraduate course|          Full time|    3|\n",
            "|        Data scientist|          9000-18000|           Changchun|           Net month|            5-10 years|  Undergraduate course|          Full time|    3|\n",
            "|  4k data communica...|4 thousand -6 tho...|           Changchun|               Xinfa|  Experience is unl...|        Junior college|          Full time|    3|\n",
            "|  Data Officer of W...|   2.5 -3.2 thousand|Changchun High-te...|High tech Develop...|  Experience is unl...|  Technical seconda...|          Full time|    3|\n",
            "|  Network data uplo...|6 thousand -8 tho...|           Changchun|               Xinfa|  Experience is unl...|  Education is not ...|          Full time|    3|\n",
            "|  Big data developm...|5 thousand-10 tho...|           Changchun|           Yongchang|             1-3 years|        Junior college|          Full time|    3|\n",
            "|  ETL data developm...|4 thousand -8 tho...|           Changchun|               Linhe|             1-3 years|  Undergraduate course|          Full time|    3|\n",
            "|            Data clerk|Two thousand-four...|           Changchun|               Linhe|             1-3 years|        Junior college|          Full time|    3|\n",
            "|  Data processing e...|4 thousand -8 tho...|Nanguan District,...|      Dongnanhu road|             3-5 years|  Undergraduate course|          Full time|    3|\n",
            "|  Data statistician...|3.5 thousand -5 t...|           Changchun|          Ziyou road|  Experience is unl...|        Junior college|          Full time|    3|\n",
            "|  Big Data Division...|          8000-15000|           Changchun|      Qianjin avenue|             3-5 years|  Undergraduate course|          Full time|    3|\n",
            "|  Data analysis/sta...|4 thousand -6 tho...|Changchun Automob...|      Dongnanhu road|             1-3 years|        Junior college|          Full time|    3|\n",
            "|          Data manager|4 thousand -6 tho...|           Changchun|               Baiju|          inexperience|        Junior college|          Full time|    3|\n",
            "|  Sales Specialist/...|4 thousand -8 tho...|           Changchun|    Societe Generale|  Experience is unl...|        Junior college|          Full time|    3|\n",
            "|  Data development ...|8 thousand-10 tho...|Chaoyang District...|           Yongchang|             3-5 years|  Undergraduate course|          Full time|    3|\n",
            "|   Sales-data analysis|4 thousand -6 tho...|           Changchun|              Puyang|  Experience is unl...|  Education is not ...|          Full time|    3|\n",
            "|  Data Operations S...|4 thousand -6 tho...|           Changchun|      Qianjin avenue|             1-3 years|  Undergraduate course|          Full time|    3|\n",
            "|  Statisticians/aud...|4 thousand -6 tho...|           Changchun|Nanguan passenger...|             1-3 years|  Undergraduate course|          Full time|    3|\n",
            "|          Data analyst|4 thousand -6 tho...|           Changchun|      Qianjin avenue|  Experience is unl...|  Undergraduate course|          Full time|    3|\n",
            "|  Operational data ...|3 thousand -4.5 t...|           Changchun|High tech Develop...|             1-3 years|  Undergraduate course|          Full time|    3|\n",
            "|     Data statistician|Two thousand-four...|Chaoyang District...|High tech Develop...|             1-3 years|        Junior college|          Full time|    3|\n",
            "|   System data auditor|4 thousand -6 tho...|           Changchun|   Nanling Mountains|          Under 1 year|  Undergraduate course|          Full time|    3|\n",
            "|     Data statistician|Two thousand-four...|Nanguan District,...|               Linhe|  Experience is unl...|  Undergraduate course|          Full time|    3|\n",
            "|  Data Development ...|4 thousand -6 tho...|           Changchun|          Ziyou road|  Experience is unl...|  Technical seconda...|          Full time|    3|\n",
            "|  Big data mining e...|          8000-15000|           Changchun|   Jida south school|  Experience is unl...|        Junior college|          Full time|    3|\n",
            "|  Teacher of Big Da...|Two thousand-four...|           Changchun|      Qianjin avenue|  Experience is unl...|  Undergraduate course|          Full time|    3|\n",
            "|  Data Analysis (Di...|          Negotiable|           Changchun|     People's street|          inexperience|  Undergraduate course|          Full time|    3|\n",
            "|  Data Planner (J10...|    15,000 to 20,000|Changchun Automob...|           east wind|            5-10 years|  Undergraduate course|          Full time|    3|\n",
            "|  Audit data analys...|5 thousand-10 tho...|Nanguan District,...|     People's street|             1-3 years|  Undergraduate course|          Full time|    3|\n",
            "|  Energy big data a...|          Negotiable|           Changchun|     People's street|            5-10 years|  Undergraduate course|          Full time|    3|\n",
            "|  Big Data Project ...|10 thousand-15 th...|           Changchun|High tech Develop...|             3-5 years|  Undergraduate course|          Full time|    3|\n",
            "|  Data Mining Engin...|8 thousand-10 tho...|Chaoyang District...|        Jiefang road|             3-5 years|  Undergraduate course|          Full time|    3|\n",
            "|  Software R&D-Big ...|          8000-15000|           Changchun|High tech Develop...|            5-10 years|  Undergraduate course|          Full time|    3|\n",
            "|  bigdata analyst/d...|10 thousand-20 th...|           Changchun|   Jida south school|  Experience is unl...|        Junior college|          Full time|    3|\n",
            "|       Data specialist|3 thousand -5 tho...|           Changchun|High tech Develop...|             1-3 years|        Junior college|          Full time|    3|\n",
            "|  Data development ...|10 thousand-15 th...|Nanguan District,...|               Pearl|             3-5 years|  Undergraduate course|          Full time|    3|\n",
            "|  Data technology c...|10 thousand-15 th...|           Changchun|     Red flag street|  Experience is unl...|  Undergraduate course|          Full time|    3|\n",
            "|          data analyst|4 thousand -7 tho...|Lianhu District o...|         Xishao gate|  Experience is unl...|        Junior college|          Full time|    3|\n",
            "|    Big data collation|   5.5 -6.2 thousand|           Changchun|           Net month|             1-3 years|  Undergraduate course|          Full time|    3|\n",
            "|  Big data developm...|        7,000-14,000|           Changchun|               Linhe|             3-5 years|  Undergraduate course|          Full time|    3|\n",
            "|        Data operation|6 thousand -9 tho...|              Dalian|             Airport|            5-10 years|  Undergraduate course|          Full time|    2|\n",
            "|       Data specialist|     2.5 -3 thousand|              Harbin|               build|             1-3 years|        Junior college|          Full time|    2|\n",
            "|  The person in cha...|4 thousand -6 tho...|              Harbin|    Pearl river road|  Experience is unl...|        Junior college|          Full time|    2|\n",
            "|  JAVA software eng...|4 thousand -6 tho...|              Dalian|         Yingchengzi|          inexperience|  Undergraduate course|          Full time|    2|\n",
            "|  Data product manager|    20,000 to 30,000|             Beijing|            Wangjing|             3-5 years|  Undergraduate course|          Full time|    2|\n",
            "|  Big Data Developm...|10 thousand-15 th...|Zhongshan Distric...|             Zhanbei|          Under 1 year|  Undergraduate course|          Full time|    2|\n",
            "|  Database Operatio...|4 thousand -6 tho...|              Dalian|      Zhongshan Road|  Experience is unl...|  Undergraduate course|          Full time|    2|\n",
            "|  Sales manager of ...|25 thousand-40 th...|              Dalian|      Zhongshan Road|             3-5 years|  Undergraduate course|          Full time|    2|\n",
            "|  human resources s...|3 thousand -5 tho...|              Dalian|      Zhongshan Road|  Experience is unl...|        Junior college|          Full time|    2|\n",
            "|  Urgent employment...|6 thousand -8 tho...|              Dalian|      Zhongshan Road|             3-5 years|  Undergraduate course|          Full time|    2|\n",
            "|     Big data engineer|    15,000 to 20,000|Dalian high-tech ...|        Huangpu road|            5-10 years|  Undergraduate course|          Full time|    2|\n",
            "|  Data analysis spe...|4 thousand -5 tho...|             Guiyang|          Huaguoyuan|             1-3 years|        Junior college|          Full time|    2|\n",
            "|          data analyst|6 thousand-10 tho...|             Chengdu|               Guixi|             3-5 years|  Undergraduate course|          Full time|    2|\n",
            "|  Data acquisition ...|3 thousand -6 tho...|Ganjingzi Distric...|           Xinzhaizi|  Experience is unl...|  Education is not ...|          Full time|    2|\n",
            "|  Data Specialist (...|4 thousand -6 tho...|           Guangzhou|              Chebei|  Experience is unl...|        Junior college|          Full time|    2|\n",
            "|       Data specialist|4 thousand -6 tho...|             Guiyang|          Huaguoyuan|             1-3 years|  Undergraduate course|          Full time|    2|\n",
            "|  Curriculum planni...|12 thousand-15 th...|             Beijing|              Wanliu|             1-3 years|  Undergraduate course|          Full time|    2|\n",
            "|  GIS data processi...|Two thousand-four...|              Harbin|peace and tranqui...|  Experience is unl...|  Education is not ...|          Full time|    2|\n",
            "|  Japanese data rec...|4 thousand -5 tho...|Shahekou District...|   Yellow river road|  Experience is unl...|  Education is not ...|          Full time|    2|\n",
            "|   Sales data analysis|6 thousand -8 tho...|Ganjingzi Distric...|         South China|             3-5 years|  Undergraduate course|          Full time|    2|\n",
            "|  English data anal...|4 thousand -6 tho...|Shahekou District...|             Neusoft|  Experience is unl...|  Undergraduate course|          Full time|    2|\n",
            "|  The first batch o...|4 thousand -6 tho...|Qingyang District...|       Taisheng road|  Experience is unl...|           High school|          Full time|    2|\n",
            "|        Data annotator|Two thousand-four...|Xigang District, ...|the land of peach...|  Experience is unl...|  Education is not ...|          Full time|    2|\n",
            "|  Java development ...|4 thousand -6 tho...|              Dalian|      Zhongshan Road|  Experience is unl...|        Junior college|          Full time|    2|\n",
            "|  Online platform K...|6 thousand -8 tho...|              Dalian|              Nansha|  Experience is unl...|  Undergraduate course|          Full time|    2|\n",
            "|  Head of data midd...|10 thousand-15 th...|Shahekou District...|   Yellow river road|             3-5 years|  Undergraduate course|          Full time|    2|\n",
            "|  Clinical data man...|    20,000 to 30,000|Zhongshan Distric...|       Medium length|             3-5 years|  Undergraduate course|          Full time|    2|\n",
            "|        Data assistant|8 thousand-10 tho...|             Beijing|            Beiqijia|  Experience is unl...|        Junior college|          Full time|    2|\n",
            "|  Database developm...|        7,000-14,000|Shahekou District...|      Zhongshan Road|             3-5 years|  Undergraduate course|          Full time|    2|\n",
            "|  Regional Manager ...|    40,000 to 55,000|              Dalian|      Zhongshan Road|            5-10 years|  Undergraduate course|          Full time|    2|\n",
            "|  Data development ...|          8000-15000|              Fuzhou|     Hongshan bridge|             1-3 years|  Undergraduate course|          Full time|    2|\n",
            "|  Data analysis ass...|6 thousand -8 tho...|           Guangzhou|          Ersan road|          inexperience|        Junior college|          Full time|    2|\n",
            "|       Data specialist|6 thousand -8 tho...|              Dalian| Jiaotong University|             1-3 years|  Undergraduate course|          Full time|    2|\n",
            "|            Data Clerk|4 thousand -6 tho...|              Dalian|               Light|             1-3 years|        Junior college|          Full time|    2|\n",
            "|  Group budget and ...|4 thousand -6 tho...|Dalian developmen...|              Faucet|             3-5 years|  Undergraduate course|          Full time|    2|\n",
            "|  Urgent recruitmen...|6 thousand -8 tho...|           Guangzhou|   Zhujiang New Town|  Experience is unl...|        Junior college|          Full time|    2|\n",
            "|  Data storage assi...|6 thousand -8 tho...|             Chengdu|       hongxing road|             1-3 years|        Junior college|          Full time|    2|\n",
            "|        Data operation|4 thousand -6 tho...|              Dalian|      Zhongshan Road|             1-3 years|        Junior college|          Full time|    2|\n",
            "|    Data Administrator|3 thousand -4 tho...|              Dalian|  start construction|  Experience is unl...|        Junior college|          Full time|    2|\n",
            "|  Customer Service ...|3 thousand -4 tho...|              Dalian|         Renmin Road|             1-3 years|        Junior college|          Full time|    2|\n",
            "|    Intensive delivery|Two thousand-four...|              Dalian|     civil liberties|  Experience is unl...|        Junior college|          Full time|    2|\n",
            "|  Data development ...|10 thousand-15 th...|              Dalian|             Zhanbei|  Experience is unl...|  Undergraduate course|          Full time|    2|\n",
            "|  Big data professi...|6 thousand -8 tho...|Dalian developmen...|            Lingshui|             1-3 years|  Undergraduate course|          Full time|    2|\n",
            "|  Japanese-British ...|4 thousand -6 tho...|              Dalian|       Software park|  Experience is unl...|  Undergraduate course|          Full time|    2|\n",
            "|  Japanese data pro...|Two thousand-four...|              Dalian| Maritime University|  Experience is unl...|        Junior college|          Full time|    2|\n",
            "|  Data network tech...|4 thousand -6 tho...|              Harbin|    Pearl river road|  Experience is unl...|        Junior college|          Full time|    2|\n",
            "|【 Jpdbhr2018006 】...|4 thousand -6 tho...|              Dalian| Maritime University|             1-3 years|  Education is not ...|          Full time|    2|\n",
            "|  Data annotation i...|          Negotiable|Shahekou District...|       Software park|          inexperience|        Junior college|         Internship|    2|\n",
            "|  Excel data proces...|6 thousand -8 tho...|Chengdu chenghua ...|           Niushikou|             1-3 years|        Junior college|          Full time|    2|\n",
            "|  Senior web front-...|12 thousand-18 th...|Shahekou District...|       Software park|            5-10 years|  Undergraduate course|          Full time|    2|\n",
            "|  Mobile web front-...|4 thousand -6 tho...|              Dalian|      Zhongshan Road|  Experience is unl...|        Junior college|          Full time|    2|\n",
            "|         Data preparer|3 thousand -4 tho...|              Dalian|         Nanguanling|             1-3 years|  Education is not ...|          Full time|    2|\n",
            "|  Programmer/progra...|4 thousand -6 tho...|             Guiyang|       Yan shan hong|  Experience is unl...|  Undergraduate course|          Full time|    2|\n",
            "|          data analyst|6 thousand -8 tho...|              Dalian|       Software park|             3-5 years|        Junior college|          Full time|    2|\n",
            "|  Data analysis ass...|6 thousand -8 tho...|           Guangzhou|              Chebei|  Experience is unl...|        Junior college|          Full time|    2|\n",
            "|  Data development ...|8 thousand-10 tho...|              Dalian|    Zhongshan square|             3-5 years|        Junior college|          Full time|    2|\n",
            "|       Data specialist|3 thousand -4 tho...|              Dalian|(of the army) sup...|             1-3 years|        Junior college|          Full time|    2|\n",
            "|  Data Analysis Con...|10 thousand-20 th...|              Dalian|          Qixianling|             3-5 years|  Undergraduate course|          Full time|    2|\n",
            "|  Procurement Data ...|4 thousand -6 tho...|              Dalian|          Dongjiagou|             1-3 years|  Undergraduate course|          Full time|    2|\n",
            "|  Recruit real esta...|8 thousand-10 tho...|              Dalian|              Nansha|  Experience is unl...|  Undergraduate course|          Full time|    2|\n",
            "|          Data editing|4 thousand -6 tho...|Dalian developmen...|               Wanli|  Experience is unl...|        Junior college|          Full time|    2|\n",
            "|         Web front end|4 thousand -6 tho...|              Dalian| Maritime University|  Experience is unl...|  Technical seconda...|          Full time|    2|\n",
            "|  Html5 front-end d...|4 thousand -6 tho...|              Dalian|      Zhongshan Road|  Experience is unl...|        Junior college|          Full time|    2|\n",
            "|  Chain home recrui...|4 thousand -6 tho...|              Dalian|              Nansha|  Experience is unl...|  Undergraduate course|          Full time|    2|\n",
            "|     database engineer|10 thousand-15 th...|Dalian high-tech ...| Maritime University|            5-10 years|  Undergraduate course|          Full time|    2|\n",
            "|  Online platform c...|4 thousand -6 tho...|              Dalian|              Nansha|  Experience is unl...|  Undergraduate course|          Full time|    2|\n",
            "|  JAVA software eng...|6 thousand-10 tho...|              Dalian|         Yingchengzi|             1-3 years|  Undergraduate course|          Full time|    2|\n",
            "|  Data dispatching ...|10 thousand-15 th...|Shahekou District...|   Yellow river road|             3-5 years|  Undergraduate course|          Full time|    2|\n",
            "|  Computer data ass...|6 thousand -8 tho...|             Beijing|        Zhongguancun|  Experience is unl...|        Junior college|          Full time|    2|\n",
            "|  Senior Data Opera...|6 thousand -7 tho...|              Dalian|      Zhongshan Road|             1-3 years|  Undergraduate course|          Full time|    2|\n",
            "|  Intermediate-Big ...|8 thousand-11 tho...|              Dalian|          Huoju road|             3-5 years|  Undergraduate course|          Full time|    2|\n",
            "|  Data analysis spe...|3 thousand -5 tho...|              Dalian|            Red flag|  Experience is unl...|  Undergraduate course|          Full time|    2|\n",
            "|  General ledger ac...|6 thousand-12 tho...|Dalian high-tech ...|       Software park|             1-3 years|  Undergraduate course|          Full time|    2|\n",
            "|       Data specialist|8 thousand-10 tho...|             Beijing|            Beiqijia|  Experience is unl...|  Education is not ...|          Full time|    2|\n",
            "|  Data development ...|10 thousand-15 th...|              Dalian|         Renmin Road|             3-5 years|  Undergraduate course|          Full time|    2|\n",
            "|          data analyst|15 thousand-25 th...|             Beijing|            Yizhuang|             3-5 years|  Undergraduate course|          Full time|    2|\n",
            "|  Regional sales su...|6 thousand-10 tho...|              Dalian|      Zhongshan Road|             3-5 years|        Junior college|          Full time|    2|\n",
            "|        Data operation|    15,000 to 20,000|             Beijing|            Wangjing|             3-5 years|  Undergraduate course|          Full time|    2|\n",
            "|  Big data developm...|          Negotiable|Zhongshan Distric...|     Changjiang road|             3-5 years|  Undergraduate course|          Full time|    2|\n",
            "|  In the era of big...|4 thousand -6 tho...|              Dalian|              Nansha|  Experience is unl...|  Undergraduate course|          Full time|    2|\n",
            "|  Database development|4 thousand -6 tho...|              Dalian|       Software park|  Experience is unl...|        Junior college|          Full time|    2|\n",
            "|  Big data developm...|    12,000 to 20,000|Shahekou District...|       Software park|             3-5 years|  Undergraduate course|          Full time|    2|\n",
            "|  Senior Engineer o...|10 thousand-20 th...|              Dalian|      Zhongshan Road|             3-5 years|  Undergraduate course|          Full time|    2|\n",
            "|  Data development ...|8 thousand-10 tho...|              Dalian|       Software park|             3-5 years|  Undergraduate course|          Full time|    2|\n",
            "|  Database Developm...|Two thousand-four...|              Dalian|          Huoju road|          inexperience|        Junior college|         Internship|    2|\n",
            "|  Big Data Operatio...|10 thousand-15 th...|Cangshan District...|             Jinshan|             1-3 years|        Junior college|          Full time|    2|\n",
            "|  Clinical supervis...|4 thousand -6 tho...|              Dalian|          Qixianling|  Experience is unl...|  Undergraduate course|          Full time|    2|\n",
            "|  Internet data sal...|    15,000 to 20,000|             Beijing|             Beiyuan|             3-5 years|        Junior college|          Full time|    2|\n",
            "|  Big data developm...|10 thousand-15 th...|           Guangzhou|   Zhujiang New Town|             1-3 years|  Undergraduate course|          Full time|    2|\n",
            "|  Intermediate-Big ...|8 thousand-11 tho...|Dalian high-tech ...| Maritime University|  Experience is unl...|  Undergraduate course|          Full time|    2|\n",
            "|  BPO Data Processi...|3.6 thousand -5 t...|              Dalian|   Yellow river road|             3-5 years|  Technical seconda...|          Full time|    2|\n",
            "|  Data processing a...|6 thousand -8 tho...|           Guangzhou|          Ersan road|          inexperience|        Junior college|          Full time|    2|\n",
            "|【 Jpdbhr2018043 】...|4 thousand -6 tho...|              Dalian| Maritime University|  Experience is unl...|  Technical seconda...|          Full time|    2|\n",
            "|  Data input and co...|4 thousand -6 tho...|Shahekou District...|       Software park|             1-3 years|        Junior college|          Full time|    2|\n",
            "|  Japanese data pro...|4 thousand -6 tho...|              Dalian| Maritime University|  Experience is unl...|        Junior college|          Full time|    2|\n",
            "|            statistics|10 thousand-15 th...|             Beijing|                 CBD|             1-3 years|  Undergraduate course|          Full time|    2|\n",
            "|          Data analyst|6 thousand -8 tho...|             Chengdu|       hongxing road|             1-3 years|        Junior college|          Full time|    2|\n",
            "|       product manager|          8000-15000|              Dalian|         Yingchengzi|            5-10 years|  Undergraduate course|          Full time|    2|\n",
            "|  Big data (interns...|6 thousand -8 tho...|              Dalian|            Lingshui|  Experience is unl...|        Junior college|          Full time|    2|\n",
            "|  Data middle offic...|10 thousand-18 th...|              Fuzhou|     Hongshan bridge|             1-3 years|  Undergraduate course|          Full time|    2|\n",
            "|  Big Data Junior H...|10 thousand-15 th...|              Dalian|      Zhongshan Road|             1-3 years|  Undergraduate course|          Full time|    2|\n",
            "|    Database Developer|6 thousand -8 tho...|              Dalian|        Huangpu road|  Experience is unl...|        Junior college|          Full time|    2|\n",
            "|         Data engineer|    12,000 to 20,000|           Guangzhou|              Shipai|             3-5 years|  Undergraduate course|          Full time|    2|\n",
            "|          data analyst|8 thousand-10 tho...|              Dalian|    Zhongshan square|             3-5 years|  Undergraduate course|          Full time|    2|\n",
            "|          data analyst|    15,000 to 20,000|             Beijing|            Wangjing|             3-5 years|  Undergraduate course|          Full time|    2|\n",
            "|  Development and m...|          Negotiable|Zhongshan Distric...|     Changjiang road|             1-3 years|  Undergraduate course|          Full time|    2|\n",
            "|    Data mining intern|Two thousand-four...|              Dalian|      Zhongshan Road|          inexperience|  Undergraduate course|          Full time|    2|\n",
            "|  Data Scientist (O...|    30,000 to 60,000|Yangpu District, ...|            Jiangwan|             3-5 years|                Doctor|          Full time|    2|\n",
            "|  Junior data proce...|4 thousand -6 tho...|             Nanjing|    development zone|  Experience is unl...|        Junior college|          Full time|    2|\n",
            "|  Big data developm...|10 thousand-20 th...|             Nanjing|     along the river|             3-5 years|  Undergraduate course|          Full time|    2|\n",
            "|  Data drawing engi...|4 thousand -6 tho...|Yuhuatai District...|          Tiexinqiao|             1-3 years|        Junior college|          Full time|    2|\n",
            "|  Data analysis cle...|4 thousand -6 tho...|Changning Distric...|      Zhongshan park|  Experience is unl...|        Junior college|          Full time|    2|\n",
            "|   Sales data analysis|8 thousand-10 tho...|            Shanghai|          Zhangjiang|  Experience is unl...|  Undergraduate course|          Full time|    2|\n",
            "|  Data implementati...|10 thousand-15 th...|Binjiang District...|              Xixing|             3-5 years|  Undergraduate course|          Full time|    2|\n",
            "|  Data statistician...|4 thousand -6 tho...|               Jinan|Convention and Ex...|  Experience is unl...|        Junior college|          Full time|    2|\n",
            "|          data analyst|    15,000 to 20,000|Yuhuatai District...|             Andemen|  Experience is unl...|  Undergraduate course|          Full time|    2|\n",
            "|  The data entry st...|4 thousand -6 tho...|Xihu District, Ha...|            Longjing|  Experience is unl...|           High school|          Full time|    2|\n",
            "|        Data operation|8 thousand-10 tho...|Qinhuai District,...|       The Jimmy Hat|  Experience is unl...|  Undergraduate course|          Full time|    2|\n",
            "|  bigdata analyst/d...|          Negotiable|             Nanjing|         Xuanwu Lake|             3-5 years|  Undergraduate course|          Full time|    2|\n",
            "|  Data Center Archi...|    20,000 to 40,000|Yangpu District, ...|            Jiangwan|            5-10 years|  Undergraduate course|          Full time|    2|\n",
            "|  Big data developm...|6 thousand -8 tho...|               Jinan|         Shanda road|  Experience is unl...|        Junior college|          Full time|    2|\n",
            "|  Big data algorith...|15 thousand-25 th...|Yuhuatai District...|             Ningnan|             3-5 years|  Undergraduate course|          Full time|    2|\n",
            "|  Sales manager-int...|4 thousand -8 tho...|            Hangzhou|           West lake|  Experience is unl...|        Junior college|          Full time|    2|\n",
            "|       Data specialist|4 thousand -6 tho...|            Shanghai|             Jinqiao|             1-3 years|        Junior college|          Full time|    2|\n",
            "|  Data Analysis dat...|8 thousand-10 tho...|            Shanghai|      Zhongshan park|             1-3 years|  Undergraduate course|          Full time|    2|\n",
            "|  Data analysis ass...|6 thousand -8 tho...|            Shanghai|             Jinqiao|             1-3 years|        Junior college|          Full time|    2|\n",
            "|          data analyst|    15,000 to 20,000|Siming District, ...|            Lianqian|             3-5 years|  Undergraduate course|          Full time|    2|\n",
            "|      Data development|10 thousand-14 th...|Pudong new area, ...|          Zhangjiang|             3-5 years|  Undergraduate course|          Full time|    2|\n",
            "|  IT technical spec...|6 thousand-10 tho...|              Xiamen|          Jiahe Road|             1-3 years|  Undergraduate course|          Full time|    2|\n",
            "|      Data entry clerk|3.5 thousand -5 t...|Changning Distric...|    north jing river|          Under 1 year|        Junior college|          Full time|    2|\n",
            "|  Head of data oper...|8 thousand-10 tho...|Shushan District ...|      Wangjiang road|             3-5 years|  Undergraduate course|          Full time|    2|\n",
            "|        Data operation|8 thousand-10 tho...|Qinhuai District,...|        great palace|  Experience is unl...|  Undergraduate course|          Full time|    2|\n",
            "|  Freshmen/interns/...|3 thousand -5 tho...|               Jinan|Nanxinzhuang comm...|  Experience is unl...|  Education is not ...|          Full time|    2|\n",
            "|  Data management m...|          8000-15000|             Nanjing|       The Jimmy Hat|             1-3 years|  Undergraduate course|          Full time|    2|\n",
            "|  Data analysis spe...|4 thousand -6 tho...|              Xiamen|            Qiaoying|             1-3 years|        Junior college|          Full time|    2|\n",
            "|  Internship Assist...|6 thousand -8 tho...|               Jinan|         Weibei road|          inexperience|        Junior college|          Full time|    2|\n",
            "|      Data entry clerk|4 thousand -6 tho...|Yuhang District, ...|            Cangqian|  Experience is unl...|        Junior college|          Full time|    2|\n",
            "|  Java development ...|          8000-15000|               Jinan|Convention and Ex...|             1-3 years|  Undergraduate course|          Full time|    2|\n",
            "|  Big Data Developm...|10 thousand-20 th...|            Shanghai|            Jiangwan|             3-5 years|  Undergraduate course|          Full time|    2|\n",
            "|  Big data developm...|    15,000 to 30,000|             Nanjing|       Xishan bridge|             3-5 years|  Undergraduate course|          Full time|    2|\n",
            "|     Big data engineer|10 thousand-15 th...|Xuhui District, S...|    Zhaojiabang road|             1-3 years|  Undergraduate course|          Full time|    2|\n",
            "|         data analysis|     4.5 -6 thousand|               Jinan|          Hongjialou|             1-3 years|  Undergraduate course|          Full time|    2|\n",
            "|  Data analyst (bus...|15 thousand-18 th...|              Ningbo|             Zhonghe|          inexperience|  Undergraduate course|             Campus|    2|\n",
            "|  Computer data ent...|8 thousand-10 tho...|               Jinan|     Wuying Mountain|  Experience is unl...|        Junior college|          Full time|    2|\n",
            "|  Data Analysis dat...|8 thousand-10 tho...|Pudong new area, ...|            Lujiazui|             1-3 years|  Undergraduate course|          Full time|    2|\n",
            "|  Sales Manager/Dir...|          8000-15000|            Hangzhou|           West lake|  Experience is unl...|        Junior college|          Full time|    2|\n",
            "|  Big data developm...|10 thousand-15 th...|Xihu District, Ha...|                Xixi|             3-5 years|  Undergraduate course|          Full time|    2|\n",
            "|  Clinical data sta...|8 thousand-12 tho...|             Nanjing|       The Jimmy Hat|  Experience is unl...|                master|          Full time|    2|\n",
            "|          data analyst|8 thousand-10 tho...|            Shanghai|          Long March|  Experience is unl...|        Junior college|          Full time|    2|\n",
            "|  Head of marketing...|6 thousand -9 tho...|Huli District, Xi...|          Recreation|             1-3 years|        Junior college|          Full time|    2|\n",
            "|  Clinical data man...|    15,000 to 30,000|Changning Distric...|            Hongqiao|  Experience is unl...|  Undergraduate course|          Full time|    2|\n",
            "|  Big data developm...|15 thousand-25 th...|Yuhuatai District...|             Ningnan|             3-5 years|  Undergraduate course|          Full time|    2|\n",
            "|  Data analysis man...|10 thousand-18 th...|Putuo district, S...|          Long March|             3-5 years|  Undergraduate course|          Full time|    2|\n",
            "|  Data development ...|6 thousand -8 tho...|            Shanghai|     People's Square|  Experience is unl...|        Junior college|          Full time|    2|\n",
            "|          data analyst|6 thousand -8 tho...|               Jinan|   Zhudian community|  Experience is unl...|  Undergraduate course|          Full time|    2|\n",
            "|  Clinical data man...|    15,000 to 30,000|Jiangning Distric...|        hundred lake|  Experience is unl...|  Undergraduate course|          Full time|    2|\n",
            "|  Data Analysis dat...|8 thousand-10 tho...|Xuhui District, S...|    Zhaojiabang road|             1-3 years|  Undergraduate course|          Full time|    2|\n",
            "|  Recruitment! Copy...|6 thousand -8 tho...|Hongqiao District...|      Shaogongzhuang|  Experience is unl...|        Junior college|          Full time|    2|\n",
            "|  Sales data collec...|4 thousand -8 tho...|               Wuhan|     Qinfen fracture|  Experience is unl...|           High school|          Full time|    2|\n",
            "|  Data information ...|     4.5 -6 thousand|Wuhan huangpi dis...|          the galaxy|             1-3 years|        Junior college|          Full time|    2|\n",
            "|  Assistant Financi...|4 thousand -6 tho...|             Tianjin|              Nanshi|             1-3 years|        Junior college|          Full time|    2|\n",
            "|  Alibaba Collectio...|5 thousand-10 tho...|Jianghan District...|              Xinhua|  Experience is unl...|  Technical seconda...|          Full time|    2|\n",
            "|          Data modeler|6 thousand -8 tho...|            Shenzhen|             Longhua|             1-3 years|        Junior college|          Full time|    2|\n",
            "|  Data center integ...|5 thousand -8 tho...|            Shenzhen|              Nanyou|             1-3 years|        Junior college|          Full time|    2|\n",
            "|         Data engineer|8 thousand-16 tho...| Jiangyin City, Wuxi|       Chaoyang Guan|             3-5 years|  Undergraduate course|          Full time|    2|\n",
            "|        Data operation|8 thousand-10 tho...|            Shenzhen|Science and techn...|             1-3 years|  Undergraduate course|          Full time|    2|\n",
            "|   Sales data analysis|4 thousand -6 tho...|Huishan District ...|            Qianqiao|             1-3 years|        Junior college|          Full time|    2|\n",
            "|  Air quality data ...|3 thousand -5 tho...|Shenyang Hunnan D...|               Baita|  Experience is unl...|  Undergraduate course|          Full time|    2|\n",
            "|  Head of data oper...|6 thousand -8 tho...|Tianjin wuqing di...|     Yangcun village|             1-3 years|  Undergraduate course|          Full time|    2|\n",
            "|  Data clerk and da...|4 thousand -6 tho...|Jianghan District...|      Northwest Lake|  Experience is unl...|        Junior college|          Full time|    2|\n",
            "|  Financial data pr...|4 thousand -6 tho...|Hongshan District...|      Optical valley|  Experience is unl...|  Technical seconda...|          Full time|    2|\n",
            "|          data analyst|          Negotiable|            Shenzhen|Science and techn...|             1-3 years|        Junior college|          Full time|    2|\n",
            "|  Data Operations S...|          9000-12000|            Shenzhen|           East gate|             1-3 years|  Undergraduate course|          Full time|    2|\n",
            "|  AI Data Planning ...|          Negotiable|            Shenzhen|Science and techn...|             3-5 years|  Undergraduate course|          Full time|    2|\n",
            "|  Financial data ed...|4 thousand -6 tho...|Pudong new area, ...|ornamental flower...|             1-3 years|  Undergraduate course|          Full time|    2|\n",
            "|  Data analyst assi...|4 thousand -6 tho...|             Tianjin|              Nanshi|             1-3 years|        Junior college|          Full time|    2|\n",
            "|  Data Operations A...|4 thousand -6 tho...|Tianjin wuqing di...|     Yangcun village|             1-3 years|        Junior college|          Full time|    2|\n",
            "|  I am afraid that ...|10 thousand-15 th...|             Xi ' an|               Guodu|  Experience is unl...|  Technical seconda...|          Full time|    2|\n",
            "|  Statistical analy...|6 thousand -8 tho...|               Wuhan|      Jianshe Avenue|  Experience is unl...|        Junior college|          Full time|    2|\n",
            "|          data analyst|6 thousand -8 tho...|Shenyang Hunnan D...|            Changbai|  Experience is unl...|        Junior college|          Full time|    2|\n",
            "|  Operations Manage...|10 thousand-15 th...|             Tianjin|          Santiaoshi|             1-3 years|        Junior college|          Full time|    2|\n",
            "|  Data entry post (...|4 thousand -6 tho...|xi'an hi tech ind...|       tang yan road|  Experience is unl...|        Junior college|          Full time|    2|\n",
            "|  Management traine...|4 thousand -6 tho...|            Shenzhen|            Henggang|  Experience is unl...|        Junior college|          Full time|    2|\n",
            "|  Air quality data ...|3 thousand -5 tho...|Shenyang Hunnan D...|               Baita|  Experience is unl...|  Undergraduate course|          Full time|    2|\n",
            "|  Financial data an...|6 thousand -8 tho...|Hongshan District...|   leave a good name|  Experience is unl...|  Undergraduate course|          Full time|    2|\n",
            "|  Argis data processor|3 thousand -6 tho...|        Shijiazhuang|           Zhongshan|  Experience is unl...|        Junior college|          Full time|    2|\n",
            "|          data analyst|6 thousand -8 tho...|             Tianjin|         Daying gate|             1-3 years|  Undergraduate course|          Full time|    2|\n",
            "|  Data development ...|    15,000 to 20,000|            Shenzhen|              Nanyou|             3-5 years|  Undergraduate course|          Full time|    2|\n",
            "|   Sales data analysis|6 thousand -8 tho...|            Shenzhen|Science and techn...|             1-3 years|        Junior college|          Full time|    2|\n",
            "|        Data operation|8 thousand-10 tho...|            Shenzhen|Science and techn...|             3-5 years|  Undergraduate course|          Full time|    2|\n",
            "|  Market big data a...|6 thousand -8 tho...|            Shenzhen|             Qianhai|  Experience is unl...|        Junior college|          Full time|    2|\n",
            "|          data analyst|10 thousand-15 th...|            Shenzhen|Science and techn...|             3-5 years|  Undergraduate course|          Full time|    2|\n",
            "|  Big Data Expert-Z...|15 thousand-25 th...|               Wuhan|          Mount Guan|             3-5 years|  Undergraduate course|          Full time|    2|\n",
            "|       Data specialist|4 thousand -6 tho...|            Shenzhen|       Shopping park|  Experience is unl...|        Junior college|          Full time|    2|\n",
            "|  Product line manager|5 thousand -8 tho...|Changchun High-te...|  Donghuancheng road|             1-3 years|                master|          Full time|    2|\n",
            "|  Technical support...|Two thousand-four...|           Changchun|   Jida south school|  Experience is unl...|        Junior college|          Full time|    2|\n",
            "|  Assistant market ...|6 thousand -8 tho...|Nanguan District,...|           Huazhuang|             1-3 years|  Undergraduate course|          Full time|    2|\n",
            "|          Statistician|4 thousand -6 tho...|           Changchun|        Kaixuan road|             1-3 years|  Undergraduate course|          Full time|    2|\n",
            "|  front end web dev...|4 thousand -6 tho...|           Changchun|   Jida south school|  Experience is unl...|  Undergraduate course|          Full time|    2|\n",
            "|  Employ statistici...|4 thousand -6 tho...|           Changchun|Hospital of Tradi...|  Experience is unl...|  Education is not ...|          Full time|    2|\n",
            "|  Data entry is pur...|4 thousand -6 tho...|Shapingba Distric...|           Shapingba|  Experience is unl...|        Junior college|          Full time|    2|\n",
            "|          data analyst|6 thousand-10 tho...|Nan 'an District,...|        nanping town|             1-3 years|  Undergraduate course|          Full time|    2|\n",
            "|  Network pre-sales...|4 thousand -6 tho...|           Changchun|   Jida south school|  Experience is unl...|        Junior college|          Full time|    2|\n",
            "|  Operation and mai...|Two thousand-four...|           Changchun|   Jida south school|  Experience is unl...|        Junior college|          Full time|    2|\n",
            "|  Project operation...|6 thousand-10 tho...|           Changchun|Nanguan passenger...|  Experience is unl...|  Undergraduate course|          Full time|    2|\n",
            "|    Assistant Director|4 thousand -4.5 t...|           Changchun|     Red flag street|          Under 1 year|        Junior college|          Full time|    2|\n",
            "|  Big data analysis...|Two thousand-four...|Yuzhong District,...|              Daping|          inexperience|  Undergraduate course|         Internship|    2|\n",
            "|    Front end engineer|4 thousand -6 tho...|           Changchun|   Jida south school|  Experience is unl...|        Junior college|          Full time|    2|\n",
            "|  Settlement Commis...|3 thousand -4 tho...|Changchun High-te...|High tech Develop...|  Experience is unl...|        Junior college|          Full time|    2|\n",
            "|  Data Scientist (O...|    30,000 to 60,000|            Changsha|          Yinpenling|             3-5 years|                Doctor|          Full time|    2|\n",
            "|    Technical engineer|4 thousand -6 tho...|           Changchun|   Jida south school|  Experience is unl...|        Junior college|          Full time|    2|\n",
            "|  Project Assistant...|4 thousand -6 tho...|           Changchun|         Guilin Road|             1-3 years|  Undergraduate course|          Full time|    2|\n",
            "|  Software pre-sale...|5 thousand -8 tho...|           Changchun|   Jida south school|             1-3 years|        Junior college|          Full time|    2|\n",
            "|  Data Processing S...|4 thousand -6 tho...|Shapingba Distric...|           Shapingba|  Experience is unl...|        Junior college|          Full time|    2|\n",
            "|              Planning|4 thousand -6 tho...|           Changchun|   Jida south school|  Experience is unl...|        Junior college|          Full time|    2|\n",
            "|  Market research m...|4 thousand -6 tho...|Chaoyang District...|         Guilin Road|  Experience is unl...|  Undergraduate course|          Full time|    2|\n",
            "|  Weak current impl...|4 thousand -6 tho...|           Changchun|   Jida south school|  Experience is unl...|        Junior college|          Full time|    2|\n",
            "|  5G big data devel...|4 thousand -6 tho...|           Changchun|      Qianjin avenue|  Experience is unl...|  Education is not ...|          Full time|    2|\n",
            "|      Reptile engineer|6 thousand-12 tho...|           Changchun|High tech Develop...|             3-5 years|        Junior college|          Full time|    2|\n",
            "|      Research manager|7 thousand-10 tho...|           Changchun|     Red flag street|  Experience is unl...|                master|          Full time|    2|\n",
            "|  Big data developm...|8 thousand-10 tho...|Erqi District of ...|         Huaihe road|             1-3 years|  Undergraduate course|          Full time|    2|\n",
            "|         staff auditor|4 thousand -5 tho...|           Changchun|High tech Develop...|             1-3 years|        Junior college|          Full time|    2|\n",
            "|  Patrol on dutySec...|4 thousand -6 tho...|           Changchun|         Long bridge|  Experience is unl...|  Education is not ...|          Full time|    2|\n",
            "|  Financial data an...|6 thousand -8 tho...|           Chongqing|         Wuli branch|  Experience is unl...|        Junior college|          Full time|    2|\n",
            "|  Data acquisition ...|6 thousand-12 tho...|Chang 'an Distric...|            meridian|             1-3 years|        Junior college|          Full time|    2|\n",
            "|  Transportation ma...|6 thousand -8 tho...|           Changchun|            Tuanshan|            5-10 years|  Undergraduate course|          Full time|    2|\n",
            "|  System integratio...|4 thousand -6 tho...|           Changchun|   Jida south school|             1-3 years|        Junior college|          Full time|    2|\n",
            "|        Data collector|4 thousand -6 tho...|           Changchun|               Baiju|          inexperience|        Junior college|          Full time|    2|\n",
            "|  Zabbix developmen...|8 thousand-10 tho...|           Changchun|      Qianjin avenue|             3-5 years|        Junior college|          Full time|    2|\n",
            "|  Commodity special...|4 thousand -6 tho...|           Changchun|              gentle|          Under 1 year|  Undergraduate course|          Full time|    2|\n",
            "|  Cost accounting s...|Two thousand-four...|           Changchun|               Xixin|  Experience is unl...|  Education is not ...|          Full time|    2|\n",
            "|          Statistician|5 thousand -7 tho...|Tianxin District ...|            Xinkaipu|             1-3 years|  Undergraduate course|          Full time|    2|\n",
            "|  Data testing spec...|4 thousand -6 tho...|           Zhengzhou|       Cultural road|  Experience is unl...|  Technical seconda...|          Full time|    2|\n",
            "|  Changchun-Solutio...|8 thousand-13 tho...|Changchun Green Park|              Puyang|             3-5 years|  Undergraduate course|          Full time|    2|\n",
            "|          Statistician|Two thousand-four...|           Changchun|     Red flag street|  Experience is unl...|        Junior college|          Full time|    2|\n",
            "|          data analyst|6 thousand -8 tho...|Yuzhong District,...|          Hongyadong|  Experience is unl...|        Junior college|          Full time|    2|\n",
            "|       sales assistant|Two thousand-four...|           Changchun|   Jida south school|  Experience is unl...|        Junior college|          Full time|    2|\n",
            "|  Factory network m...|4 thousand -6 tho...|           Changchun|         Long bridge|  Experience is unl...|  Education is not ...|          Full time|    2|\n",
            "|     Food statistician|Two thousand-four...|           Changchun|               Pearl|             1-3 years|        Junior college|          Full time|    2|\n",
            "|  Data analyst week...|4 thousand -8 tho...|xi'an hi tech ind...|       tang yan road|  Experience is unl...|        Junior college|          Full time|    2|\n",
            "|  Android developme...|6 thousand -8 tho...|           Changchun|   Jida south school|             1-3 years|  Undergraduate course|          Full time|    2|\n",
            "|  CNC programming c...|6 thousand -8 tho...|           Changchun|         Long bridge|  Experience is unl...|  Education is not ...|          Full time|    2|\n",
            "|  Interns in data d...|3 thousand -4 tho...|Xi 'an weiyang di...|         Zhangjiabao|  Experience is unl...|  Undergraduate course|         Internship|    2|\n",
            "|  APP development e...|6 thousand -8 tho...|           Changchun|   Jida south school|  Experience is unl...|  Undergraduate course|          Full time|    2|\n",
            "|  internetproductma...|8 thousand-10 tho...|           Chongqing|         Wuli branch|  Experience is unl...|        Junior college|          Full time|    2|\n",
            "|  Remote sensing im...|6 thousand-10 tho...|           Changchun|          Jilin road|  Experience is unl...|                master|          Full time|    2|\n",
            "|  sales representative|10 thousand-15 th...|           Changchun|        Guangfu road|             3-5 years|  Undergraduate course|          Full time|    2|\n",
            "|                 Linux|6 thousand -8 tho...|           Changchun|   Jida south school|             1-3 years|        Junior college|          Full time|    2|\n",
            "|  Big data analysis...|    15,000 to 20,000|            Changsha|      yuelu mountain|             1-3 years|  Undergraduate course|          Full time|    2|\n",
            "|       Media operation|4 thousand -6 tho...|           Changchun|   Jida south school|  Experience is unl...|        Junior college|          Full time|    2|\n",
            "|     presales engineer|4 thousand -6 tho...|           Changchun|   Jida south school|             1-3 years|        Junior college|          Full time|    2|\n",
            "|  Data collector (d...|3 thousand -5 tho...|           Zhengzhou| Business inner ring|  Experience is unl...|        Junior college|          Full time|    2|\n",
            "|  Part-time mystery...|Two thousand-four...|           Chongqing|           sand flat|  Experience is unl...|  Education is not ...|Part-time/temporary|    2|\n",
            "|     Market researcher|4 thousand -6 tho...|           Changchun|               Linhe|  Experience is unl...|  Education is not ...|          Full time|    2|\n",
            "|      Data entry clerk|4 thousand -6 tho...|Jinshui District,...|           Yanzhuang|  Experience is unl...|        Junior college|          Full time|    2|\n",
            "|  Quality control s...|4 thousand -7 tho...|Yanta District of...|       chang an road|  Experience is unl...|        Junior college|          Full time|    2|\n",
            "|    Designer assistant|4 thousand -6 tho...|           Chongqing|        Qixing' gang|  Experience is unl...|  Education is not ...|          Full time|    2|\n",
            "|  Marketing Specialist|6 thousand -8 tho...|Changchun Green Park|     Zhengyang steet|             3-5 years|  Undergraduate course|          Full time|    2|\n",
            "|       project manager|10 thousand-20 th...|           Changchun|               Pearl|  Experience is unl...|        Junior college|          Full time|    2|\n",
            "|  Head of data anal...|6 thousand -8 tho...|Furong District o...|         Leek garden|             3-5 years|  Undergraduate course|          Full time|    2|\n",
            "|  Data analysis spe...|4 thousand -6 tho...|           Chongqing|         Wuli branch|          Under 1 year|        Junior college|          Full time|    2|\n",
            "|  Network technicia...|     3.5 -6 thousand|           Changchun|      Qianjin avenue|  Experience is unl...|        Junior college|          Full time|    2|\n",
            "|      network engineer|4 thousand -6 tho...|           Changchun|   Jida south school|  Experience is unl...|        Junior college|          Full time|    2|\n",
            "|        php programmer|6 thousand -8 tho...|           Changchun|   Jida south school|             1-3 years|        Junior college|          Full time|    2|\n",
            "|  IT resident engineer|3 thousand -6 tho...|           Changchun|   Jida south school|  Experience is unl...|        Junior college|          Full time|    2|\n",
            "|             Front end|4 thousand -6 tho...|           Changchun|   Jida south school|  Experience is unl...|        Junior college|          Full time|    2|\n",
            "|  Senior Software D...|10 thousand-20 th...|           Changchun|          Jilin road|             3-5 years|  Undergraduate course|          Full time|    2|\n",
            "|     Commercial bidder|Two thousand-four...|           Changchun|   Jida south school|             1-3 years|        Junior college|          Full time|    2|\n",
            "|  Remote Sensing Mo...|6 thousand-10 tho...|           Changchun|          Jilin road|  Experience is unl...|                master|          Full time|    2|\n",
            "|  Safety service en...|6 thousand -8 tho...|           Changchun|   Jida south school|  Experience is unl...|        Junior college|          Full time|    2|\n",
            "|  Safety protection...|4 thousand -6 tho...|           Changchun|   Jida south school|             1-3 years|        Junior college|          Full time|    2|\n",
            "|  Big Data Developm...|10 thousand-20 th...|            Changsha|          Yinpenling|             3-5 years|  Undergraduate course|          Full time|    2|\n",
            "|  Data analysis spe...|6 thousand -8 tho...|           Chongqing|         Wuli branch|  Experience is unl...|        Junior college|          Full time|    2|\n",
            "|   Market investigator|4 thousand -6 tho...|           Changchun|           Dongsheng|             3-5 years|  Undergraduate course|          Full time|    2|\n",
            "|  Mechanical engine...|6 thousand -8 tho...|           Changchun|         Long bridge|  Experience is unl...|  Education is not ...|          Full time|    2|\n",
            "|     Market researcher|6 thousand -8 tho...|Nanguan District,...|           Huazhuang|             1-3 years|  Undergraduate course|          Full time|    2|\n",
            "|  Information techn...|4 thousand -6 tho...|           Changchun|      Dongnanhu road|  Experience is unl...|        Junior college|          Full time|    2|\n",
            "|   Commodity operation|4 thousand -6 tho...|Nanguan District,...|        Jiefang road|  Experience is unl...|        Junior college|          Full time|    2|\n",
            "|    Database Developer|6 thousand -8 tho...|           Zhengzhou|        Qinling road|  Experience is unl...|        Junior college|          Full time|    2|\n",
            "|                   DBA|8 thousand-10 tho...|           Changchun|           Net month|             3-5 years|  Undergraduate course|          Full time|    2|\n",
            "|  Marketing Special...|3 thousand -5 tho...|           Changchun|High tech Develop...|             1-3 years|  Undergraduate course|          Full time|    2|\n",
            "|  Junior front-end ...|4 thousand -8 tho...|           Changchun|               Linhe|             1-3 years|  Undergraduate course|          Full time|    2|\n",
            "|  Security pre-sale...|6 thousand -8 tho...|           Changchun|   Jida south school|             3-5 years|  Undergraduate course|          Full time|    2|\n",
            "|  Data cooperation ...|10 thousand-15 th...|           Changchun|     People's street|            5-10 years|  Undergraduate course|          Full time|    2|\n",
            "|  Web development e...|4 thousand -6 tho...|           Changchun|   Jida south school|             1-3 years|        Junior college|          Full time|    2|\n",
            "|       project manager|4 thousand -6 tho...|           Changchun|   Jida south school|  Experience is unl...|  Education is not ...|          Full time|    2|\n",
            "|  Agile development...|8 thousand-16 tho...|           Changchun|      Neutralization|            5-10 years|  Undergraduate course|          Full time|    2|\n",
            "|  Report developmen...|4 thousand -6 tho...|           Changchun|           Net month|             1-3 years|        Junior college|          Full time|    2|\n",
            "|  Changchun -ETL En...|4 thousand -8 tho...|Changchun Green Park|         Haoyue road|             1-3 years|  Undergraduate course|          Full time|    2|\n",
            "|  Commodity supervisor|4 thousand -6 tho...|           Changchun|    Clear and Bright|             1-3 years|        Junior college|          Full time|    2|\n",
            "|  Virtualization en...|4 thousand -6 tho...|           Changchun|   Jida south school|             1-3 years|        Junior college|          Full time|    2|\n",
            "|  Honeycomb mainten...|4 thousand -6 tho...|           Changchun|      Dongnanhu road|          Under 1 year|        Junior college|          Full time|    2|\n",
            "|          Data analyst|4 thousand -6 tho...|Chaoyang District...|      Qianjin avenue|  Experience is unl...|                master|          Full time|    2|\n",
            "|  Copywriting opera...|4 thousand -6 tho...|           Changchun|   Jida south school|  Experience is unl...|        Junior college|          Full time|    2|\n",
            "|  Stable-Work, Sale...|4 thousand -6 tho...|           Changchun|              Puyang|  Experience is unl...|  Education is not ...|          Full time|    2|\n",
            "|  Weak current pre-...|4 thousand -6 tho...|           Changchun|   Jida south school|             1-3 years|        Junior college|          Full time|    2|\n",
            "|  Product planning ...|5 thousand-10 tho...|           Changchun|High tech Develop...|             1-3 years|                master|          Full time|    2|\n",
            "|     Sales back office|Two thousand-four...|           Changchun|   Jida south school|  Experience is unl...|        Junior college|          Full time|    2|\n",
            "|  Used car informat...|           3.5k-4.5k|Changchun High-te...|High tech Develop...|             1-3 years|  Education is not ...|          Full time|    2|\n",
            "|  Sales Manager-Cho...|    15,000 to 20,000|           Chongqing|    Shangqing temple|             3-5 years|  Undergraduate course|          Full time|    2|\n",
            "+----------------------+--------------------+--------------------+--------------------+----------------------+----------------------+-------------------+-----+\n",
            "\n"
          ]
        }
      ],
      "source": [
        "\n",
        "duplicate_columns = advert_df.columns\n",
        "\n",
        "advert_df.groupBy(duplicate_columns).count().sort(\"count\",ascending=False).filter(col('count')>1).show(advert_df.count())"
      ]
    },
    {
      "cell_type": "markdown",
      "metadata": {
        "id": "nRpE7vk_NzLo"
      },
      "source": [
        "### Remove duplicate job adverts  [2 Marks]"
      ]
    },
    {
      "cell_type": "code",
      "execution_count": null,
      "metadata": {
        "id": "VYCDjK3vPvrb",
        "colab": {
          "base_uri": "https://localhost:8080/"
        },
        "outputId": "f4249bed-ecff-436b-9b88-343b6f7d48d3"
      },
      "outputs": [
        {
          "output_type": "stream",
          "name": "stdout",
          "text": [
            "The total number of unique job adverts is: 14465\n"
          ]
        }
      ],
      "source": [
        "\n",
        "advert_df = advert_df.dropDuplicates(advert_df.columns)\n",
        "unique_count = advert_df.distinct().count()\n",
        "print(f\"The total number of unique job adverts is: {unique_count}\")"
      ]
    },
    {
      "cell_type": "markdown",
      "metadata": {
        "id": "q3pHLYSu5WPw"
      },
      "source": [
        "### Combine the columns `Location 1` and `Location 2` as `Location`  [1 Mark]"
      ]
    },
    {
      "cell_type": "code",
      "execution_count": null,
      "metadata": {
        "id": "BoQBjuje0kbv",
        "colab": {
          "base_uri": "https://localhost:8080/"
        },
        "outputId": "7fc0728b-b3a8-4bf2-eff8-7b5906e2b951"
      },
      "outputs": [
        {
          "output_type": "stream",
          "name": "stdout",
          "text": [
            "+------------------------------------------------------------------------+-----------------------+-------------------------------------+-----------------------+----------------------+----------------+\n",
            "|Job title                                                               |Salary range           |Location                             |Experience requirement |Education requirements|Job requirements|\n",
            "+------------------------------------------------------------------------+-----------------------+-------------------------------------+-----------------------+----------------------+----------------+\n",
            "|Data warehouse development engineer                                     |Negotiable             |Beijing Chaoyang road                |3-5 years              |Undergraduate course  |Full time       |\n",
            "|Data visualization engineer assistant (can practice for 5K)             |6 thousand -8 thousand |Beijing Baishiqiao                   |Experience is unlimited|Junior college        |Full time       |\n",
            "|Data Management Consultant-Data Quality Direction                       |10 thousand-15 thousand|Beijing Drum tower                   |3-5 years              |Junior college        |Full time       |\n",
            "|Data return visit specialist                                            |4 thousand -6 thousand |Wuhou District, Chengdu Tongzi forest|Under 1 year           |Junior college        |Full time       |\n",
            "|Data assistant                                                          |6 thousand -9 thousand |Chengdu high-tech zone Neutralization|1-3 years              |Undergraduate course  |Full time       |\n",
            "|Data product manager                                                    |15,000 to 30,000       |Wuhou District, Chengdu Guixi        |3-5 years              |Junior college        |Full time       |\n",
            "|Big Data (College Teachers)                                             |6 thousand -9 thousand |Chengdu Tianfu New District Unity    |1-3 years              |Undergraduate course  |Full time       |\n",
            "|Financial data analyst                                                  |8000-15000             |Chengdu high-tech zone Neutralization|1-3 years              |Undergraduate course  |Full time       |\n",
            "|Internet data analysis specialist                                       |6 thousand -8 thousand |Chengdu Liucheng                     |Experience is unlimited|Junior college        |Full time       |\n",
            "|Python+java development engineer (data mining and database construction)|75 thousand-15 thousand|Chengdu Zhengxing                    |1-3 years              |master                |Full time       |\n",
            "+------------------------------------------------------------------------+-----------------------+-------------------------------------+-----------------------+----------------------+----------------+\n",
            "only showing top 10 rows\n",
            "\n"
          ]
        }
      ],
      "source": [
        "\n",
        "advert_df = advert_df.withColumn(\"Location\",concat_ws(' ',col('Location 1'),col('Location 2')))\n",
        "advert_df = advert_df.drop('Location 1').drop('Location 2')\n",
        "advert_df = advert_df.select(advert_df.columns[:2]+[advert_df.columns[-1]]+advert_df.columns[2:-1])\n",
        "advert_df.show(10,truncate=False)"
      ]
    },
    {
      "cell_type": "markdown",
      "metadata": {
        "id": "c0t_Ot4NK_Fx"
      },
      "source": [
        "### Normalise the data in `Salary range` [10 Marks]\n",
        "\n",
        "Normalise the records in `Salary range` column according the following definition. For a salary record in the range of $[A,B]$, compute the average $C = \\frac{A+B}{2}$ and use the following mapping for the new value of the record:\n",
        "\n",
        "* If $0 \\leq C < 4000$, then `record_value = '(A)<4K'`\n",
        "* If $4000 \\leq C < 8000$, then `record_value = '(B)[4K,8K)'`\n",
        "* If $8000 \\leq C < 12000$, then `record_value = '(C)[8K,12K)'`\n",
        "* If $12000 \\leq C < 16000$, then `record_value = '(D)[12K,16K)'`\n",
        "* If $16000 \\leq C < 20000$, then `record_value = '(E)[16K,20K)'`\n",
        "* If $C \\geq 20000$, then `record_value = '(F)>20K'`\n",
        "* Otherwise, `record_value = '(G)Interview'`\n",
        "\n",
        "You must use Pyspark UDF from `from pyspark.sql.functions import udf` to implement this task."
      ]
    },
    {
      "cell_type": "code",
      "execution_count": null,
      "metadata": {
        "colab": {
          "base_uri": "https://localhost:8080/"
        },
        "id": "YURkVenY7jOX",
        "outputId": "cbdd09af-bde5-4218-c3ac-5e0c178707c3"
      },
      "outputs": [
        {
          "output_type": "stream",
          "name": "stdout",
          "text": [
            "+--------------------+------------+--------------------+----------------------+----------------------+----------------+\n",
            "|           Job title|Salary range|            Location|Experience requirement|Education requirements|Job requirements|\n",
            "+--------------------+------------+--------------------+----------------------+----------------------+----------------+\n",
            "|Data warehouse de...|(G)Interview|Beijing Chaoyang ...|             3-5 years|  Undergraduate course|       Full time|\n",
            "|Data visualizatio...|  (B)[4K-8K)|  Beijing Baishiqiao|  Experience is unl...|        Junior college|       Full time|\n",
            "|Data Management C...|(D)[12K-16K)|  Beijing Drum tower|             3-5 years|        Junior college|       Full time|\n",
            "|Data return visit...|  (B)[4K-8K)|Wuhou District, C...|          Under 1 year|        Junior college|       Full time|\n",
            "|      Data assistant|  (B)[4K-8K)|Chengdu high-tech...|             1-3 years|  Undergraduate course|       Full time|\n",
            "|Data product manager|    (F)>=20K|Wuhou District, C...|             3-5 years|        Junior college|       Full time|\n",
            "|Big Data (College...|  (B)[4K-8K)|Chengdu Tianfu Ne...|             1-3 years|  Undergraduate course|       Full time|\n",
            "|Financial data an...| (C)[8K-12K)|Chengdu high-tech...|             1-3 years|  Undergraduate course|       Full time|\n",
            "|Internet data ana...|  (B)[4K-8K)|    Chengdu Liucheng|  Experience is unl...|        Junior college|       Full time|\n",
            "|Python+java devel...|    (F)>=20K|   Chengdu Zhengxing|             1-3 years|                master|       Full time|\n",
            "|Bank credit card ...| (C)[8K-12K)|Qingyang District...|  Experience is unl...|        Junior college|       Full time|\n",
            "|Data Clerk (Civil...|(G)Interview|Ganjingzi Distric...|             1-3 years|        Junior college|       Full time|\n",
            "|A clerk (data ana...|      (A)<4K|Dalian Zhongshan ...|             1-3 years|  Undergraduate course|       Full time|\n",
            "|Big Data R&D Engi...|  (B)[4K-8K)| Fuzhou Copper plate|             1-3 years|  Undergraduate course|       Full time|\n",
            "|Data Operations A...|  (B)[4K-8K)|Guangzhou Golden ...|  Experience is unl...|        Junior college|       Full time|\n",
            "|Data center infra...|  (B)[4K-8K)|   Guangzhou Shiqiao|  Experience is unl...|  Education is not ...|       Full time|\n",
            "|Data analysis ass...|  (B)[4K-8K)|     Guangzhou Shahe|          inexperience|  Undergraduate course|          Campus|\n",
            "|Financial data an...|  (B)[4K-8K)|Guangzhou Tianhe Bei|  Experience is unl...|  Undergraduate course|       Full time|\n",
            "|Big data developm...|(E)[16K-20K)| Guangzhou east wind|             3-5 years|  Undergraduate course|       Full time|\n",
            "|Senior Big Data E...|    (F)>=20K|    Guangzhou Dongpu|             3-5 years|  Undergraduate course|       Full time|\n",
            "|Intermediate data...|(D)[12K-16K)|Guangzhou sports ...|             3-5 years|  Undergraduate course|       Full time|\n",
            "|Big data analysis...|  (B)[4K-8K)|    Guiyang Fountain|  Experience is unl...|  Technical seconda...|       Full time|\n",
            "|First-and second-...|(E)[16K-20K)|Guiyang Yan shan ...|  Experience is unl...|  Education is not ...|       Full time|\n",
            "|Java development ...|(D)[12K-16K)|Yunyan District o...|             3-5 years|  Undergraduate course|       Full time|\n",
            "|Data Model Design...|    (F)>=20K|    Beijing Sanlitun|             3-5 years|  Undergraduate course|       Full time|\n",
            "|Senior data analy...|(G)Interview|    Beijing Wangjing|             1-3 years|  Undergraduate course|       Full time|\n",
            "|Data research spe...| (C)[8K-12K)|    Beijing Xizhimen|  Experience is unl...|  Undergraduate course|       Full time|\n",
            "|Big Data Speciali...|  (B)[4K-8K)|Beijing West Rail...|          inexperience|        Junior college|       Full time|\n",
            "|        data analyst|(D)[12K-16K)|         Beijing CBD|  Experience is unl...|  Education is not ...|       Full time|\n",
            "|      Data operation| (C)[8K-12K)|Chengdu chenghua ...|  Experience is unl...|        Junior college|       Full time|\n",
            "|Data processing s...|  (B)[4K-8K)|Chengdu high-tech...|  Experience is unl...|        Junior college|       Full time|\n",
            "|     Data annotation|(G)Interview|Chengdu gaoxin we...|  Experience is unl...|  Education is not ...|       Full time|\n",
            "|Data Analyst (Inf...| (C)[8K-12K)|Chengdu south rai...|             1-3 years|  Undergraduate course|       Full time|\n",
            "|Data annotator (c...|  (B)[4K-8K)|Chengdu Niuwang t...|  Experience is unl...|        Junior college|       Full time|\n",
            "|Data analysis on ...|  (B)[4K-8K)|Chengdu high-tech...|  Experience is unl...|  Undergraduate course|       Full time|\n",
            "|Big Data Product ...|(G)Interview|Chengdu high-tech...|             3-5 years|  Undergraduate course|       Full time|\n",
            "|Procurement data ...|  (B)[4K-8K)|Dalian developmen...|             1-3 years|  Undergraduate course|       Full time|\n",
            "|  5G signal debugger|  (B)[4K-8K)|Dalian Zhongshan ...|  Experience is unl...|  Technical seconda...|       Full time|\n",
            "|     project manager| (C)[8K-12K)|  Dalian Yingchengzi|             3-5 years|  Undergraduate course|       Full time|\n",
            "|bigdata analyst/d...|(D)[12K-16K)|Fuzhou Hongshan b...|             3-5 years|  Undergraduate course|       Full time|\n",
            "|   Data optimization|  (B)[4K-8K)|  Guangzhou Huangshi|             1-3 years|        Junior college|       Full time|\n",
            "|Data Maintenance ...| (C)[8K-12K)|   Guangzhou Newport|             1-3 years|  Undergraduate course|       Full time|\n",
            "|      Data operation|  (B)[4K-8K)|    Guangzhou Shipai|  Experience is unl...|        Junior college|       Full time|\n",
            "|Data analysis spe...|  (B)[4K-8K)|   Guangzhou Newport|          inexperience|        Junior college|       Full time|\n",
            "|Department Manage...|(D)[12K-16K)|    Guangzhou Dongpu|             3-5 years|        Junior college|       Full time|\n",
            "|Big data development| (C)[8K-12K)|Nanming District,...|             3-5 years|  Undergraduate course|       Full time|\n",
            "|Big data connecti...|  (B)[4K-8K)|Wudang District o...|  Experience is unl...|  Education is not ...|       Full time|\n",
            "|        data analyst|(E)[16K-20K)|Beijing Jingshan ...|             3-5 years|  Undergraduate course|       Full time|\n",
            "|Logistics data st...|  (B)[4K-8K)|Jinjiang District...|  Experience is unl...|        Junior college|       Full time|\n",
            "|     Data specialist|  (B)[4K-8K)|Wuhou District, C...|          Under 1 year|        Junior college|       Full time|\n",
            "|      Data operation|(E)[16K-20K)|Wuhou District, C...|             3-5 years|  Undergraduate course|       Full time|\n",
            "|   Big data analysis|    (F)>=20K|Chengdu gaoxin we...|            5-10 years|  Undergraduate course|       Full time|\n",
            "|Data Statistics A...|  (B)[4K-8K)|Guangzhou Golden ...|  Experience is unl...|        Junior college|       Full time|\n",
            "|Interns in Big Da...|      (A)<4K|Guangzhou Zhujian...|          inexperience|  Undergraduate course|       Full time|\n",
            "|Manager of promot...|    (F)>=20K|   Guangzhou Newport|            5-10 years|  Undergraduate course|       Full time|\n",
            "|Data Mining Engin...|(D)[12K-16K)|     Guangzhou Dasha|             3-5 years|  Undergraduate course|       Full time|\n",
            "|JAVA Development ...|    (F)>=20K|    Guangzhou Wushan|             3-5 years|  Undergraduate course|       Full time|\n",
            "|GIS data processi...|  (B)[4K-8K)|Guangzhou Guangzh...|  Experience is unl...|  Undergraduate course|       Full time|\n",
            "|Legal affairs (en...| (C)[8K-12K)|Guiyang Yan shan ...|             3-5 years|  Undergraduate course|       Full time|\n",
            "| Intern data analyst|      (A)<4K| Beijing Dawang road|          inexperience|  Undergraduate course|      Internship|\n",
            "| Sales data analysis| (C)[8K-12K)|Beijing taiping b...|  Experience is unl...|        Junior college|       Full time|\n",
            "|        data analyst|(D)[12K-16K)|Chengdu high-tech...|             3-5 years|  Undergraduate course|       Full time|\n",
            "|bigdata analyst/d...| (C)[8K-12K)|    Chengdu Jin Quan|             3-5 years|        Junior college|       Full time|\n",
            "|Environmental Dat...|  (B)[4K-8K)|       Chengdu Guixi|          inexperience|                master|       Full time|\n",
            "|Advanced data ope...| (C)[8K-12K)|Jinjiang District...|             3-5 years|  Undergraduate course|       Full time|\n",
            "|PLSQL senior posi...|(D)[12K-16K)|Shahekou District...|             3-5 years|  Undergraduate course|       Full time|\n",
            "|Data development ...| (C)[8K-12K)|    Fuzhou New store|             1-3 years|  Undergraduate course|       Full time|\n",
            "|Data middle offic...|(D)[12K-16K)|Fuzhou Hongshan b...|             1-3 years|  Undergraduate course|       Full time|\n",
            "|Real estate busin...|(D)[12K-16K)|Guangzhou Linhe v...|             1-3 years|  Undergraduate course|       Full time|\n",
            "|Big data team leader|    (F)>=20K|    Guangzhou Longxi|            5-10 years|  Undergraduate course|       Full time|\n",
            "|Senior data admin...| (C)[8K-12K)|Guangzhou South S...|            5-10 years|  Undergraduate course|       Full time|\n",
            "|Big data operatio...|(D)[12K-16K)|Guangzhou Zhujian...|            5-10 years|  Undergraduate course|       Full time|\n",
            "|Data Operation (R...|(G)Interview| Guangzhou Qiba road|             1-3 years|        Junior college|       Full time|\n",
            "|Data analysis dev...|(D)[12K-16K)|    Guangzhou Dongpu|             1-3 years|        Junior college|       Full time|\n",
            "|Head of guest res...|(D)[12K-16K)|Guanshanhu Distri...|             3-5 years|  Undergraduate course|       Full time|\n",
            "|Computer data tec...|  (B)[4K-8K)|  Beijing you an men|  Experience is unl...|        Junior college|       Full time|\n",
            "|Data Management D...|(G)Interview|Beijing Apple orc...|             3-5 years|  Undergraduate course|       Full time|\n",
            "|        Data support| (C)[8K-12K)|         Beijing CBD|  Experience is unl...|        Junior college|       Full time|\n",
            "|Data processing i...| (C)[8K-12K)|    Beijing Yizhuang|  Experience is unl...|        Junior college|       Full time|\n",
            "| WMPS- data analysis|(G)Interview|    Beijing Wangjing|             1-3 years|  Undergraduate course|       Full time|\n",
            "+--------------------+------------+--------------------+----------------------+----------------------+----------------+\n",
            "only showing top 80 rows\n",
            "\n"
          ]
        }
      ],
      "source": [
        "\n",
        "from pyspark.sql.functions import udf\n",
        "from pyspark.sql.types import IntegerType, StructType, StructField\n",
        "import re\n",
        "\n",
        "def normalise_salary_range(A,B):\n",
        "  C = (A + B) / 2\n",
        "  if C>= 0 and C < 4000:\n",
        "      return \"(A)<4K\"\n",
        "  elif C>=4000 and C < 8000:\n",
        "      return \"(B)[4K-8K)\"\n",
        "  elif C>=8000 and C < 12000:\n",
        "      return \"(C)[8K-12K)\"\n",
        "  elif C>=12000 and C < 16000:\n",
        "      return \"(D)[12K-16K)\"\n",
        "  elif C>=16000 and C < 20000:\n",
        "      return \"(E)[16K-20K)\"\n",
        "  elif C>=20000:\n",
        "      return \"(F)>=20K\"\n",
        "  else :\n",
        "      return \"(G)Interview\"\n",
        "\n",
        "\n",
        "normalise_salary_range_udf = udf(normalise_salary_range, StringType())\n",
        "\n",
        "def extract_salary_range(input_str):\n",
        "    lower = float(-1)\n",
        "    upper = float(-1)\n",
        "    input_str = input_str.replace(\",\", \"\") # remove commas\n",
        "    #regex to select lower and upper bound for strings containing a '-' and (optionally) the word 'thousand' or a 'k' or a decimal\n",
        "    match = re.match(r\"\\$?(\\d+(?:\\.\\d+)?)(?:k)?\\s*(?:thousand)?\\s*-\\s*\\$?(\\d+(?:\\.\\d+)?)(?:k)?\\s*(?:thousand)?\", input_str)\n",
        "\n",
        "    if match:\n",
        "        lower = float(match.group(1))\n",
        "        upper = float(match.group(2))\n",
        "\n",
        "        if (float(match.group(1)) < 1000):\n",
        "            lower *= 1000\n",
        "            upper *= 1000\n",
        "    else:\n",
        "      #regex to select bounds for string containing the word 'to'\n",
        "        match = re.match(r\"(\\d+)\\s*(?:thousand)?\\s*to\\s*(\\d+)\\s*(?:thousand)?\", input_str)\n",
        "        if match:\n",
        "            lower = float(match.group(1))\n",
        "            upper = float(match.group(2))\n",
        "            if (float(match.group(1)) < 1000):\n",
        "              lower *= 1000\n",
        "              upper *= 1000\n",
        "        else:\n",
        "          #convert words to numbers ie. \"Two thousand-four thousand\"\n",
        "          if  len(input_str.split('-'))>1:\n",
        "\n",
        "              range_parts = input_str.split('-')\n",
        "              lower_limit = range_parts[0].strip().lower()\n",
        "              upper_limit = range_parts[1].strip().lower()\n",
        "\n",
        "              number_map = {\n",
        "                  'zero': 0, 'one': 1, 'two': 2, 'three': 3, 'four': 4,\n",
        "                  'five': 5, 'six': 6, 'seven': 7, 'eight': 8, 'nine': 9,\n",
        "                  'ten': 10, 'eleven': 11, 'twelve': 12, 'thirteen': 13, 'fourteen': 14,\n",
        "                  'fifteen': 15, 'sixteen': 16, 'seventeen': 17, 'eighteen': 18, 'nineteen': 19,\n",
        "                  'twenty': 20, 'thirty': 30, 'forty': 40, 'fifty': 50, 'sixty': 60,\n",
        "                  'seventy': 70, 'eighty': 80, 'ninety': 90\n",
        "              }\n",
        "\n",
        "              def convert_word_to_number(word):\n",
        "                  if word in number_map:\n",
        "                      return number_map[word]\n",
        "                  else:\n",
        "                      return None\n",
        "\n",
        "              lower_words = lower_limit.split()\n",
        "              upper_words = upper_limit.split()\n",
        "\n",
        "              lower = 0.0\n",
        "              upper = 0.0\n",
        "\n",
        "              for word in lower_words:\n",
        "                  number = convert_word_to_number(word)\n",
        "                  if number is not None:\n",
        "                      lower += number\n",
        "\n",
        "              for word in upper_words:\n",
        "                  number = convert_word_to_number(word)\n",
        "                  if number is not None:\n",
        "                      upper += number\n",
        "              if upper < 1000:\n",
        "                upper *= 1000\n",
        "              if lower < 1000:\n",
        "                lower *= 1000\n",
        "\n",
        "    return (lower, upper)\n",
        "\n",
        "# Register the function as a UDF\n",
        "extract_salary_range_udf = udf(extract_salary_range, StructType([\n",
        "    StructField(\"Lower\", FloatType(), nullable=True),\n",
        "    StructField(\"Upper\", FloatType(), nullable=True)\n",
        "]))\n",
        "\n",
        "advert_df = advert_df.withColumn(\"Salary range\", extract_salary_range_udf(col(\"Salary range\")))\n",
        "advert_df = advert_df.withColumn(\"Salary range\", normalise_salary_range_udf(col('Salary range.Lower'), col(\"Salary range.Upper\")))\n",
        "advert_df.show(80)"
      ]
    },
    {
      "cell_type": "markdown",
      "metadata": {
        "id": "2MEmLCA_-ZDr"
      },
      "source": [
        "### Normalise the data in `Location` as `Location` and `Tier`  [5 Marks]\n",
        "\n",
        "Normalise the records in `Location` column according the following definition. If the string value of the record contains any of the cities in the following dictionary, set the `Location` and the corresponding `Tier` for the record accordingly. If the string value does not contain any of the cities in the dictionary, then the corresponding record must be dropped. You need to pay particular attention to the city `Xi'an` in the records during the normalisation process.\n",
        "\n",
        "```\n",
        "cities = dict()\n",
        "cities[\"First-tier cities\"] = [\"Beijing\", \"Shanghai\", \"Guangzhou\", \"Shenzhen\"]\n",
        "\n",
        "cities[\"New first-tier cities\"] = [\"Chengdu\", \"Hefei\", \"Hangzhou\", \"Nanjing\",\n",
        "                                    \"Shenyang\", \"Tianjin\", \"Wuxi\", \"Wuhan\",\n",
        "                                    \"Xi'an\", \"Changsha\", \"Zhengzhou\", \"Chongqing\"]\n",
        "                                    \n",
        "cities[\"Others\"] = [\"Dalian\", \"Fuzhou\", \"Harbin\", \"Guiyang\", \"Jinan\", \"Ningbo\",\n",
        "                    \"Xiamen\", \"Shijiazhuang\", \"Changchun\"]\n",
        "```\n",
        "\n",
        "You must use Pyspark UDF from `from pyspark.sql.functions import udf` to implement this task."
      ]
    },
    {
      "cell_type": "markdown",
      "metadata": {
        "id": "wbcA9-yKr5OO"
      },
      "source": []
    },
    {
      "cell_type": "code",
      "execution_count": null,
      "metadata": {
        "id": "UHC-hu_AZ4LQ",
        "colab": {
          "base_uri": "https://localhost:8080/"
        },
        "outputId": "bd7f1c48-192c-4782-91f4-2ccebe3ca789"
      },
      "outputs": [
        {
          "output_type": "stream",
          "name": "stdout",
          "text": [
            "+--------------------+------------+---------+--------------------+----------------------+----------------------+----------------+\n",
            "|           Job title|Salary range| Location|                Tier|Experience requirement|Education requirements|Job requirements|\n",
            "+--------------------+------------+---------+--------------------+----------------------+----------------------+----------------+\n",
            "|Data warehouse de...|(G)Interview|  Beijing|   First-tier cities|             3-5 years|  Undergraduate course|       Full time|\n",
            "|Data visualizatio...|  (B)[4K-8K)|  Beijing|   First-tier cities|  Experience is unl...|        Junior college|       Full time|\n",
            "|Data Management C...|(D)[12K-16K)|  Beijing|   First-tier cities|             3-5 years|        Junior college|       Full time|\n",
            "|Data return visit...|  (B)[4K-8K)|  Chengdu|New first-tier ci...|          Under 1 year|        Junior college|       Full time|\n",
            "|      Data assistant|  (B)[4K-8K)|  Chengdu|New first-tier ci...|             1-3 years|  Undergraduate course|       Full time|\n",
            "|Data product manager|    (F)>=20K|  Chengdu|New first-tier ci...|             3-5 years|        Junior college|       Full time|\n",
            "|Big Data (College...|  (B)[4K-8K)|  Chengdu|New first-tier ci...|             1-3 years|  Undergraduate course|       Full time|\n",
            "|Financial data an...| (C)[8K-12K)|  Chengdu|New first-tier ci...|             1-3 years|  Undergraduate course|       Full time|\n",
            "|Internet data ana...|  (B)[4K-8K)|  Chengdu|New first-tier ci...|  Experience is unl...|        Junior college|       Full time|\n",
            "|Python+java devel...|    (F)>=20K|  Chengdu|New first-tier ci...|             1-3 years|                master|       Full time|\n",
            "|Bank credit card ...| (C)[8K-12K)|  Chengdu|New first-tier ci...|  Experience is unl...|        Junior college|       Full time|\n",
            "|Data Clerk (Civil...|(G)Interview|   Dalian|              Others|             1-3 years|        Junior college|       Full time|\n",
            "|A clerk (data ana...|      (A)<4K|   Dalian|              Others|             1-3 years|  Undergraduate course|       Full time|\n",
            "|Big Data R&D Engi...|  (B)[4K-8K)|   Fuzhou|              Others|             1-3 years|  Undergraduate course|       Full time|\n",
            "|Data Operations A...|  (B)[4K-8K)|Guangzhou|   First-tier cities|  Experience is unl...|        Junior college|       Full time|\n",
            "|Data center infra...|  (B)[4K-8K)|Guangzhou|   First-tier cities|  Experience is unl...|  Education is not ...|       Full time|\n",
            "|Data analysis ass...|  (B)[4K-8K)|Guangzhou|   First-tier cities|          inexperience|  Undergraduate course|          Campus|\n",
            "|Financial data an...|  (B)[4K-8K)|Guangzhou|   First-tier cities|  Experience is unl...|  Undergraduate course|       Full time|\n",
            "|Big data developm...|(E)[16K-20K)|Guangzhou|   First-tier cities|             3-5 years|  Undergraduate course|       Full time|\n",
            "|Senior Big Data E...|    (F)>=20K|Guangzhou|   First-tier cities|             3-5 years|  Undergraduate course|       Full time|\n",
            "|Intermediate data...|(D)[12K-16K)|Guangzhou|   First-tier cities|             3-5 years|  Undergraduate course|       Full time|\n",
            "|Big data analysis...|  (B)[4K-8K)|  Guiyang|              Others|  Experience is unl...|  Technical seconda...|       Full time|\n",
            "|First-and second-...|(E)[16K-20K)|  Guiyang|              Others|  Experience is unl...|  Education is not ...|       Full time|\n",
            "|Java development ...|(D)[12K-16K)|  Guiyang|              Others|             3-5 years|  Undergraduate course|       Full time|\n",
            "|Data Model Design...|    (F)>=20K|  Beijing|   First-tier cities|             3-5 years|  Undergraduate course|       Full time|\n",
            "|Senior data analy...|(G)Interview|  Beijing|   First-tier cities|             1-3 years|  Undergraduate course|       Full time|\n",
            "|Data research spe...| (C)[8K-12K)|  Beijing|   First-tier cities|  Experience is unl...|  Undergraduate course|       Full time|\n",
            "|Big Data Speciali...|  (B)[4K-8K)|  Beijing|   First-tier cities|          inexperience|        Junior college|       Full time|\n",
            "|        data analyst|(D)[12K-16K)|  Beijing|   First-tier cities|  Experience is unl...|  Education is not ...|       Full time|\n",
            "|      Data operation| (C)[8K-12K)|  Chengdu|New first-tier ci...|  Experience is unl...|        Junior college|       Full time|\n",
            "|Data processing s...|  (B)[4K-8K)|  Chengdu|New first-tier ci...|  Experience is unl...|        Junior college|       Full time|\n",
            "|     Data annotation|(G)Interview|  Chengdu|New first-tier ci...|  Experience is unl...|  Education is not ...|       Full time|\n",
            "|Data Analyst (Inf...| (C)[8K-12K)|  Chengdu|New first-tier ci...|             1-3 years|  Undergraduate course|       Full time|\n",
            "|Data annotator (c...|  (B)[4K-8K)|  Chengdu|New first-tier ci...|  Experience is unl...|        Junior college|       Full time|\n",
            "|Data analysis on ...|  (B)[4K-8K)|  Chengdu|New first-tier ci...|  Experience is unl...|  Undergraduate course|       Full time|\n",
            "|Big Data Product ...|(G)Interview|  Chengdu|New first-tier ci...|             3-5 years|  Undergraduate course|       Full time|\n",
            "|Procurement data ...|  (B)[4K-8K)|   Dalian|              Others|             1-3 years|  Undergraduate course|       Full time|\n",
            "|  5G signal debugger|  (B)[4K-8K)|   Dalian|              Others|  Experience is unl...|  Technical seconda...|       Full time|\n",
            "|     project manager| (C)[8K-12K)|   Dalian|              Others|             3-5 years|  Undergraduate course|       Full time|\n",
            "|bigdata analyst/d...|(D)[12K-16K)|   Fuzhou|              Others|             3-5 years|  Undergraduate course|       Full time|\n",
            "|   Data optimization|  (B)[4K-8K)|Guangzhou|   First-tier cities|             1-3 years|        Junior college|       Full time|\n",
            "|Data Maintenance ...| (C)[8K-12K)|Guangzhou|   First-tier cities|             1-3 years|  Undergraduate course|       Full time|\n",
            "|      Data operation|  (B)[4K-8K)|Guangzhou|   First-tier cities|  Experience is unl...|        Junior college|       Full time|\n",
            "|Data analysis spe...|  (B)[4K-8K)|Guangzhou|   First-tier cities|          inexperience|        Junior college|       Full time|\n",
            "|Department Manage...|(D)[12K-16K)|Guangzhou|   First-tier cities|             3-5 years|        Junior college|       Full time|\n",
            "|Big data development| (C)[8K-12K)|  Guiyang|              Others|             3-5 years|  Undergraduate course|       Full time|\n",
            "|Big data connecti...|  (B)[4K-8K)|  Guiyang|              Others|  Experience is unl...|  Education is not ...|       Full time|\n",
            "|        data analyst|(E)[16K-20K)|  Beijing|   First-tier cities|             3-5 years|  Undergraduate course|       Full time|\n",
            "|Logistics data st...|  (B)[4K-8K)|  Chengdu|New first-tier ci...|  Experience is unl...|        Junior college|       Full time|\n",
            "|     Data specialist|  (B)[4K-8K)|  Chengdu|New first-tier ci...|          Under 1 year|        Junior college|       Full time|\n",
            "|      Data operation|(E)[16K-20K)|  Chengdu|New first-tier ci...|             3-5 years|  Undergraduate course|       Full time|\n",
            "|   Big data analysis|    (F)>=20K|  Chengdu|New first-tier ci...|            5-10 years|  Undergraduate course|       Full time|\n",
            "|Data Statistics A...|  (B)[4K-8K)|Guangzhou|   First-tier cities|  Experience is unl...|        Junior college|       Full time|\n",
            "|Interns in Big Da...|      (A)<4K|Guangzhou|   First-tier cities|          inexperience|  Undergraduate course|       Full time|\n",
            "|Manager of promot...|    (F)>=20K|Guangzhou|   First-tier cities|            5-10 years|  Undergraduate course|       Full time|\n",
            "|Data Mining Engin...|(D)[12K-16K)|Guangzhou|   First-tier cities|             3-5 years|  Undergraduate course|       Full time|\n",
            "|JAVA Development ...|    (F)>=20K|Guangzhou|   First-tier cities|             3-5 years|  Undergraduate course|       Full time|\n",
            "|GIS data processi...|  (B)[4K-8K)|Guangzhou|   First-tier cities|  Experience is unl...|  Undergraduate course|       Full time|\n",
            "|Legal affairs (en...| (C)[8K-12K)|  Guiyang|              Others|             3-5 years|  Undergraduate course|       Full time|\n",
            "| Intern data analyst|      (A)<4K|  Beijing|   First-tier cities|          inexperience|  Undergraduate course|      Internship|\n",
            "| Sales data analysis| (C)[8K-12K)|  Beijing|   First-tier cities|  Experience is unl...|        Junior college|       Full time|\n",
            "|        data analyst|(D)[12K-16K)|  Chengdu|New first-tier ci...|             3-5 years|  Undergraduate course|       Full time|\n",
            "|bigdata analyst/d...| (C)[8K-12K)|  Chengdu|New first-tier ci...|             3-5 years|        Junior college|       Full time|\n",
            "|Environmental Dat...|  (B)[4K-8K)|  Chengdu|New first-tier ci...|          inexperience|                master|       Full time|\n",
            "|Advanced data ope...| (C)[8K-12K)|  Chengdu|New first-tier ci...|             3-5 years|  Undergraduate course|       Full time|\n",
            "|PLSQL senior posi...|(D)[12K-16K)|   Dalian|              Others|             3-5 years|  Undergraduate course|       Full time|\n",
            "|Data development ...| (C)[8K-12K)|   Fuzhou|              Others|             1-3 years|  Undergraduate course|       Full time|\n",
            "|Data middle offic...|(D)[12K-16K)|   Fuzhou|              Others|             1-3 years|  Undergraduate course|       Full time|\n",
            "|Real estate busin...|(D)[12K-16K)|Guangzhou|   First-tier cities|             1-3 years|  Undergraduate course|       Full time|\n",
            "|Big data team leader|    (F)>=20K|Guangzhou|   First-tier cities|            5-10 years|  Undergraduate course|       Full time|\n",
            "|Senior data admin...| (C)[8K-12K)|Guangzhou|   First-tier cities|            5-10 years|  Undergraduate course|       Full time|\n",
            "|Big data operatio...|(D)[12K-16K)|Guangzhou|   First-tier cities|            5-10 years|  Undergraduate course|       Full time|\n",
            "|Data Operation (R...|(G)Interview|Guangzhou|   First-tier cities|             1-3 years|        Junior college|       Full time|\n",
            "|Data analysis dev...|(D)[12K-16K)|Guangzhou|   First-tier cities|             1-3 years|        Junior college|       Full time|\n",
            "|Head of guest res...|(D)[12K-16K)|  Guiyang|              Others|             3-5 years|  Undergraduate course|       Full time|\n",
            "|Computer data tec...|  (B)[4K-8K)|  Beijing|   First-tier cities|  Experience is unl...|        Junior college|       Full time|\n",
            "|Data Management D...|(G)Interview|  Beijing|   First-tier cities|             3-5 years|  Undergraduate course|       Full time|\n",
            "|        Data support| (C)[8K-12K)|  Beijing|   First-tier cities|  Experience is unl...|        Junior college|       Full time|\n",
            "|Data processing i...| (C)[8K-12K)|  Beijing|   First-tier cities|  Experience is unl...|        Junior college|       Full time|\n",
            "| WMPS- data analysis|(G)Interview|  Beijing|   First-tier cities|             1-3 years|  Undergraduate course|       Full time|\n",
            "+--------------------+------------+---------+--------------------+----------------------+----------------------+----------------+\n",
            "only showing top 80 rows\n",
            "\n"
          ]
        }
      ],
      "source": [
        "\n",
        "from pyspark.sql.functions import col, udf\n",
        "from pyspark.sql.types import StringType\n",
        "\n",
        "cities = dict()\n",
        "cities[\"First-tier cities\"] = [\"Beijing\", \"Shanghai\", \"Guangzhou\", \"Shenzhen\"]\n",
        "\n",
        "cities[\"New first-tier cities\"] = [\"Chengdu\", \"Hefei\", \"Hangzhou\", \"Nanjing\",\n",
        "                                    \"Shenyang\", \"Tianjin\", \"Wuxi\", \"Wuhan\",\n",
        "                                    \"Xi'an\", \"Changsha\", \"Zhengzhou\", \"Chongqing\"]\n",
        "\n",
        "cities[\"Others\"] = [\"Dalian\", \"Fuzhou\", \"Harbin\", \"Guiyang\", \"Jinan\", \"Ningbo\",\n",
        "                    \"Xiamen\", \"Shijiazhuang\", \"Changchun\"]\n",
        "\n",
        "city_list = [city for item in cities.values() for city in item] #get cities in one list\n",
        "\n",
        "def set_tier(location):\n",
        "  #convert the location string to a list, exclude whitespace and non-word characters ie ','\n",
        "  location_n = re.findall(r\"\\s*(\\w+(?:\\s*'\\s*\\w+)?)\\s*\", location)\n",
        "  location_n = [word.replace(\" \",'') for word in location_n]\n",
        "  location_n = [word.replace(\",\",'') for word in location_n]\n",
        "  location_n = [x.capitalize() for x in location_n]\n",
        "\n",
        "  for word in location_n:\n",
        "    if word in city_list:\n",
        "      location_n = word\n",
        "      break\n",
        "\n",
        "  if location_n in cities[\"First-tier cities\"]:\n",
        "    return (location_n,\"First-tier cities\")\n",
        "  elif location_n in cities[\"New first-tier cities\"]:\n",
        "    return (location_n,\"New first-tier cities\")\n",
        "  elif location_n in cities[\"Others\"]:\n",
        "    return (location_n,\"Others\")\n",
        "  return (location_n,None)\n",
        "\n",
        "#make udf\n",
        "set_tier_udf = udf(set_tier, StructType([\n",
        "    StructField(\"location\", StringType(), nullable=True),\n",
        "    StructField(\"tier\", StringType(), nullable=True)\n",
        "]))\n",
        "\n",
        "advert_df = advert_df.withColumn(\"temp\", set_tier_udf(col(\"Location\")))\n",
        "advert_df = advert_df.withColumn(\"Location\", col(\"temp.location\"))\n",
        "advert_df = advert_df.withColumn(\"Tier\", col(\"temp.tier\")).drop(\"temp\")\n",
        "\n",
        "advert_df = advert_df.na.drop(subset=['Tier'])\n",
        "advert_df = advert_df.select(advert_df.columns[:3]+[advert_df.columns[-1]]+advert_df.columns[3:-1])\n",
        "advert_df.show(80)"
      ]
    },
    {
      "cell_type": "markdown",
      "metadata": {
        "id": "APkxiZg1EWmw"
      },
      "source": [
        "### Check the shape of the dataset after normalisation, i.e., the numbers of rows and columns"
      ]
    },
    {
      "cell_type": "code",
      "execution_count": null,
      "metadata": {
        "id": "wJQDT6LTEV8E",
        "colab": {
          "base_uri": "https://localhost:8080/"
        },
        "outputId": "71378689-eb82-4eff-fe9a-50ba2e72c4e3"
      },
      "outputs": [
        {
          "output_type": "stream",
          "name": "stdout",
          "text": [
            "The shape of the dataset is 14377 rows by 7 columns\n"
          ]
        }
      ],
      "source": [
        "print(\"The shape of the dataset is {:d} rows by {:d} columns\".format(advert_df.count(), len(advert_df.columns)))"
      ]
    },
    {
      "cell_type": "markdown",
      "metadata": {
        "id": "LN4BlaW5Jncp"
      },
      "source": [
        "### Normalise the data in `Experience requirement`  [5 Marks]\n",
        "\n",
        "Normalise the records in `Experience` column according the following definition. For an experience requirement in the range of $[A,B]$, compute the average $C = \\frac{A+B}{2}$ and use the following mapping for the new value of the record:\n",
        "\n",
        "* If $C <= 3$, then `record_value = '(A)1-3 years'`\n",
        "* If $C > 3$, then `record_value = '(B)More than 3 years'`\n",
        "* Otherwise, `record_value = '(C)Experience unlimited'`\n",
        "\n",
        "You must use Pyspark UDF from `from pyspark.sql.functions import udf` to implement this task."
      ]
    },
    {
      "cell_type": "code",
      "execution_count": null,
      "metadata": {
        "id": "0u0vNbRCLSlR",
        "colab": {
          "base_uri": "https://localhost:8080/"
        },
        "outputId": "7cb6b115-ebdb-43d4-aa92-f0ce530be6cd"
      },
      "outputs": [
        {
          "output_type": "stream",
          "name": "stdout",
          "text": [
            "+--------------------+------------+---------+--------------------+----------------------+----------------------+----------------+\n",
            "|           Job title|Salary range| Location|                Tier|Experience requirement|Education requirements|Job requirements|\n",
            "+--------------------+------------+---------+--------------------+----------------------+----------------------+----------------+\n",
            "|Data warehouse de...|(G)Interview|  Beijing|   First-tier cities|  (B)More than 3 years|  Undergraduate course|       Full time|\n",
            "|Data visualizatio...|  (B)[4K-8K)|  Beijing|   First-tier cities|  (C)Experience unl...|        Junior college|       Full time|\n",
            "|Data Management C...|(D)[12K-16K)|  Beijing|   First-tier cities|  (B)More than 3 years|        Junior college|       Full time|\n",
            "|Data return visit...|  (B)[4K-8K)|  Chengdu|New first-tier ci...|          (A)1-3 years|        Junior college|       Full time|\n",
            "|      Data assistant|  (B)[4K-8K)|  Chengdu|New first-tier ci...|          (A)1-3 years|  Undergraduate course|       Full time|\n",
            "|Data product manager|    (F)>=20K|  Chengdu|New first-tier ci...|  (B)More than 3 years|        Junior college|       Full time|\n",
            "|Big Data (College...|  (B)[4K-8K)|  Chengdu|New first-tier ci...|          (A)1-3 years|  Undergraduate course|       Full time|\n",
            "|Financial data an...| (C)[8K-12K)|  Chengdu|New first-tier ci...|          (A)1-3 years|  Undergraduate course|       Full time|\n",
            "|Internet data ana...|  (B)[4K-8K)|  Chengdu|New first-tier ci...|  (C)Experience unl...|        Junior college|       Full time|\n",
            "|Python+java devel...|    (F)>=20K|  Chengdu|New first-tier ci...|          (A)1-3 years|                master|       Full time|\n",
            "|Bank credit card ...| (C)[8K-12K)|  Chengdu|New first-tier ci...|  (C)Experience unl...|        Junior college|       Full time|\n",
            "|Data Clerk (Civil...|(G)Interview|   Dalian|              Others|          (A)1-3 years|        Junior college|       Full time|\n",
            "|A clerk (data ana...|      (A)<4K|   Dalian|              Others|          (A)1-3 years|  Undergraduate course|       Full time|\n",
            "|Big Data R&D Engi...|  (B)[4K-8K)|   Fuzhou|              Others|          (A)1-3 years|  Undergraduate course|       Full time|\n",
            "|Data Operations A...|  (B)[4K-8K)|Guangzhou|   First-tier cities|  (C)Experience unl...|        Junior college|       Full time|\n",
            "|Data center infra...|  (B)[4K-8K)|Guangzhou|   First-tier cities|  (C)Experience unl...|  Education is not ...|       Full time|\n",
            "|Data analysis ass...|  (B)[4K-8K)|Guangzhou|   First-tier cities|  (C)Experience unl...|  Undergraduate course|          Campus|\n",
            "|Financial data an...|  (B)[4K-8K)|Guangzhou|   First-tier cities|  (C)Experience unl...|  Undergraduate course|       Full time|\n",
            "|Big data developm...|(E)[16K-20K)|Guangzhou|   First-tier cities|  (B)More than 3 years|  Undergraduate course|       Full time|\n",
            "|Senior Big Data E...|    (F)>=20K|Guangzhou|   First-tier cities|  (B)More than 3 years|  Undergraduate course|       Full time|\n",
            "|Intermediate data...|(D)[12K-16K)|Guangzhou|   First-tier cities|  (B)More than 3 years|  Undergraduate course|       Full time|\n",
            "|Big data analysis...|  (B)[4K-8K)|  Guiyang|              Others|  (C)Experience unl...|  Technical seconda...|       Full time|\n",
            "|First-and second-...|(E)[16K-20K)|  Guiyang|              Others|  (C)Experience unl...|  Education is not ...|       Full time|\n",
            "|Java development ...|(D)[12K-16K)|  Guiyang|              Others|  (B)More than 3 years|  Undergraduate course|       Full time|\n",
            "|Data Model Design...|    (F)>=20K|  Beijing|   First-tier cities|  (B)More than 3 years|  Undergraduate course|       Full time|\n",
            "|Senior data analy...|(G)Interview|  Beijing|   First-tier cities|          (A)1-3 years|  Undergraduate course|       Full time|\n",
            "|Data research spe...| (C)[8K-12K)|  Beijing|   First-tier cities|  (C)Experience unl...|  Undergraduate course|       Full time|\n",
            "|Big Data Speciali...|  (B)[4K-8K)|  Beijing|   First-tier cities|  (C)Experience unl...|        Junior college|       Full time|\n",
            "|        data analyst|(D)[12K-16K)|  Beijing|   First-tier cities|  (C)Experience unl...|  Education is not ...|       Full time|\n",
            "|      Data operation| (C)[8K-12K)|  Chengdu|New first-tier ci...|  (C)Experience unl...|        Junior college|       Full time|\n",
            "|Data processing s...|  (B)[4K-8K)|  Chengdu|New first-tier ci...|  (C)Experience unl...|        Junior college|       Full time|\n",
            "|     Data annotation|(G)Interview|  Chengdu|New first-tier ci...|  (C)Experience unl...|  Education is not ...|       Full time|\n",
            "|Data Analyst (Inf...| (C)[8K-12K)|  Chengdu|New first-tier ci...|          (A)1-3 years|  Undergraduate course|       Full time|\n",
            "|Data annotator (c...|  (B)[4K-8K)|  Chengdu|New first-tier ci...|  (C)Experience unl...|        Junior college|       Full time|\n",
            "|Data analysis on ...|  (B)[4K-8K)|  Chengdu|New first-tier ci...|  (C)Experience unl...|  Undergraduate course|       Full time|\n",
            "|Big Data Product ...|(G)Interview|  Chengdu|New first-tier ci...|  (B)More than 3 years|  Undergraduate course|       Full time|\n",
            "|Procurement data ...|  (B)[4K-8K)|   Dalian|              Others|          (A)1-3 years|  Undergraduate course|       Full time|\n",
            "|  5G signal debugger|  (B)[4K-8K)|   Dalian|              Others|  (C)Experience unl...|  Technical seconda...|       Full time|\n",
            "|     project manager| (C)[8K-12K)|   Dalian|              Others|  (B)More than 3 years|  Undergraduate course|       Full time|\n",
            "|bigdata analyst/d...|(D)[12K-16K)|   Fuzhou|              Others|  (B)More than 3 years|  Undergraduate course|       Full time|\n",
            "|   Data optimization|  (B)[4K-8K)|Guangzhou|   First-tier cities|          (A)1-3 years|        Junior college|       Full time|\n",
            "|Data Maintenance ...| (C)[8K-12K)|Guangzhou|   First-tier cities|          (A)1-3 years|  Undergraduate course|       Full time|\n",
            "|      Data operation|  (B)[4K-8K)|Guangzhou|   First-tier cities|  (C)Experience unl...|        Junior college|       Full time|\n",
            "|Data analysis spe...|  (B)[4K-8K)|Guangzhou|   First-tier cities|  (C)Experience unl...|        Junior college|       Full time|\n",
            "|Department Manage...|(D)[12K-16K)|Guangzhou|   First-tier cities|  (B)More than 3 years|        Junior college|       Full time|\n",
            "|Big data development| (C)[8K-12K)|  Guiyang|              Others|  (B)More than 3 years|  Undergraduate course|       Full time|\n",
            "|Big data connecti...|  (B)[4K-8K)|  Guiyang|              Others|  (C)Experience unl...|  Education is not ...|       Full time|\n",
            "|        data analyst|(E)[16K-20K)|  Beijing|   First-tier cities|  (B)More than 3 years|  Undergraduate course|       Full time|\n",
            "|Logistics data st...|  (B)[4K-8K)|  Chengdu|New first-tier ci...|  (C)Experience unl...|        Junior college|       Full time|\n",
            "|     Data specialist|  (B)[4K-8K)|  Chengdu|New first-tier ci...|          (A)1-3 years|        Junior college|       Full time|\n",
            "|      Data operation|(E)[16K-20K)|  Chengdu|New first-tier ci...|  (B)More than 3 years|  Undergraduate course|       Full time|\n",
            "|   Big data analysis|    (F)>=20K|  Chengdu|New first-tier ci...|  (B)More than 3 years|  Undergraduate course|       Full time|\n",
            "|Data Statistics A...|  (B)[4K-8K)|Guangzhou|   First-tier cities|  (C)Experience unl...|        Junior college|       Full time|\n",
            "|Interns in Big Da...|      (A)<4K|Guangzhou|   First-tier cities|  (C)Experience unl...|  Undergraduate course|       Full time|\n",
            "|Manager of promot...|    (F)>=20K|Guangzhou|   First-tier cities|  (B)More than 3 years|  Undergraduate course|       Full time|\n",
            "|Data Mining Engin...|(D)[12K-16K)|Guangzhou|   First-tier cities|  (B)More than 3 years|  Undergraduate course|       Full time|\n",
            "|JAVA Development ...|    (F)>=20K|Guangzhou|   First-tier cities|  (B)More than 3 years|  Undergraduate course|       Full time|\n",
            "|GIS data processi...|  (B)[4K-8K)|Guangzhou|   First-tier cities|  (C)Experience unl...|  Undergraduate course|       Full time|\n",
            "|Legal affairs (en...| (C)[8K-12K)|  Guiyang|              Others|  (B)More than 3 years|  Undergraduate course|       Full time|\n",
            "| Intern data analyst|      (A)<4K|  Beijing|   First-tier cities|  (C)Experience unl...|  Undergraduate course|      Internship|\n",
            "| Sales data analysis| (C)[8K-12K)|  Beijing|   First-tier cities|  (C)Experience unl...|        Junior college|       Full time|\n",
            "|        data analyst|(D)[12K-16K)|  Chengdu|New first-tier ci...|  (B)More than 3 years|  Undergraduate course|       Full time|\n",
            "|bigdata analyst/d...| (C)[8K-12K)|  Chengdu|New first-tier ci...|  (B)More than 3 years|        Junior college|       Full time|\n",
            "|Environmental Dat...|  (B)[4K-8K)|  Chengdu|New first-tier ci...|  (C)Experience unl...|                master|       Full time|\n",
            "|Advanced data ope...| (C)[8K-12K)|  Chengdu|New first-tier ci...|  (B)More than 3 years|  Undergraduate course|       Full time|\n",
            "|PLSQL senior posi...|(D)[12K-16K)|   Dalian|              Others|  (B)More than 3 years|  Undergraduate course|       Full time|\n",
            "|Data development ...| (C)[8K-12K)|   Fuzhou|              Others|          (A)1-3 years|  Undergraduate course|       Full time|\n",
            "|Data middle offic...|(D)[12K-16K)|   Fuzhou|              Others|          (A)1-3 years|  Undergraduate course|       Full time|\n",
            "|Real estate busin...|(D)[12K-16K)|Guangzhou|   First-tier cities|          (A)1-3 years|  Undergraduate course|       Full time|\n",
            "|Big data team leader|    (F)>=20K|Guangzhou|   First-tier cities|  (B)More than 3 years|  Undergraduate course|       Full time|\n",
            "|Senior data admin...| (C)[8K-12K)|Guangzhou|   First-tier cities|  (B)More than 3 years|  Undergraduate course|       Full time|\n",
            "|Big data operatio...|(D)[12K-16K)|Guangzhou|   First-tier cities|  (B)More than 3 years|  Undergraduate course|       Full time|\n",
            "|Data Operation (R...|(G)Interview|Guangzhou|   First-tier cities|          (A)1-3 years|        Junior college|       Full time|\n",
            "|Data analysis dev...|(D)[12K-16K)|Guangzhou|   First-tier cities|          (A)1-3 years|        Junior college|       Full time|\n",
            "|Head of guest res...|(D)[12K-16K)|  Guiyang|              Others|  (B)More than 3 years|  Undergraduate course|       Full time|\n",
            "|Computer data tec...|  (B)[4K-8K)|  Beijing|   First-tier cities|  (C)Experience unl...|        Junior college|       Full time|\n",
            "|Data Management D...|(G)Interview|  Beijing|   First-tier cities|  (B)More than 3 years|  Undergraduate course|       Full time|\n",
            "|        Data support| (C)[8K-12K)|  Beijing|   First-tier cities|  (C)Experience unl...|        Junior college|       Full time|\n",
            "|Data processing i...| (C)[8K-12K)|  Beijing|   First-tier cities|  (C)Experience unl...|        Junior college|       Full time|\n",
            "| WMPS- data analysis|(G)Interview|  Beijing|   First-tier cities|          (A)1-3 years|  Undergraduate course|       Full time|\n",
            "+--------------------+------------+---------+--------------------+----------------------+----------------------+----------------+\n",
            "only showing top 80 rows\n",
            "\n"
          ]
        }
      ],
      "source": [
        "\n",
        "def normalise_experience(experience):\n",
        "  match = re.findall(r\"\\d+\",experience)\n",
        "  if (len(match)>1):\n",
        "    average = (int(match[0])+int(match[1]))/2\n",
        "  elif (len(match)==1):\n",
        "    average = int(match[0])\n",
        "  else:\n",
        "    average = -1\n",
        "\n",
        "  if average<=3 and average>=0:\n",
        "    return '(A)1-3 years'\n",
        "  elif average>3:\n",
        "    return '(B)More than 3 years'\n",
        "\n",
        "  return'(C)Experience unlimited'\n",
        "\n",
        "normalise_experience_udf = udf(normalise_experience, StringType())\n",
        "advert_df = advert_df.withColumn(\"Experience requirement\", normalise_experience_udf(col(\"Experience requirement\")))\n",
        "advert_df.show(80)"
      ]
    },
    {
      "cell_type": "markdown",
      "metadata": {
        "id": "YHI19Y10QNUR"
      },
      "source": [
        "### Normalise the data in `Education requirements`  [5 Marks]\n",
        "\n",
        "Normalise the records in `Education requirements` column according the following dictionary.\n",
        "\n",
        "```\n",
        "education = dict()\n",
        "education[\"(A)Primary Education\"] = [\"Junior high school and below\"]\n",
        "education[\"(B)Secondary Education\"] = [\"Technical secondary school/technical secondary school\",\n",
        "                                    \"High school\",\"Junior college\"]\n",
        "education[\"(C)Undergraduate\"] = [\"Undergraduate course\"]\n",
        "education[\"(D)Graduate\"] = [\"master\", \"Doctor\"]\n",
        "education[\"(E)Education Unlimited\"] = [\"Education is not limited\"]\n",
        "```\n",
        "\n",
        "You must use Pyspark UDF from `from pyspark.sql.functions import udf` to implement this task."
      ]
    },
    {
      "cell_type": "code",
      "execution_count": null,
      "metadata": {
        "id": "aPyeRcWLYRlz",
        "colab": {
          "base_uri": "https://localhost:8080/"
        },
        "outputId": "3e859a80-274f-40f3-d962-7d28daea9f82"
      },
      "outputs": [
        {
          "output_type": "stream",
          "name": "stdout",
          "text": [
            "+--------------------+------------+---------+--------------------+----------------------+----------------------+----------------+\n",
            "|           Job title|Salary range| Location|                Tier|Experience requirement|Education requirements|Job requirements|\n",
            "+--------------------+------------+---------+--------------------+----------------------+----------------------+----------------+\n",
            "|Data warehouse de...|(G)Interview|  Beijing|   First-tier cities|  (B)More than 3 years|      (C)Undergraduate|       Full time|\n",
            "|Data visualizatio...|  (B)[4K-8K)|  Beijing|   First-tier cities|  (C)Experience unl...|  (B)Secondary Educ...|       Full time|\n",
            "|Data Management C...|(D)[12K-16K)|  Beijing|   First-tier cities|  (B)More than 3 years|  (B)Secondary Educ...|       Full time|\n",
            "|Data return visit...|  (B)[4K-8K)|  Chengdu|New first-tier ci...|          (A)1-3 years|  (B)Secondary Educ...|       Full time|\n",
            "|      Data assistant|  (B)[4K-8K)|  Chengdu|New first-tier ci...|          (A)1-3 years|      (C)Undergraduate|       Full time|\n",
            "|Data product manager|    (F)>=20K|  Chengdu|New first-tier ci...|  (B)More than 3 years|  (B)Secondary Educ...|       Full time|\n",
            "|Big Data (College...|  (B)[4K-8K)|  Chengdu|New first-tier ci...|          (A)1-3 years|      (C)Undergraduate|       Full time|\n",
            "|Financial data an...| (C)[8K-12K)|  Chengdu|New first-tier ci...|          (A)1-3 years|      (C)Undergraduate|       Full time|\n",
            "|Internet data ana...|  (B)[4K-8K)|  Chengdu|New first-tier ci...|  (C)Experience unl...|  (B)Secondary Educ...|       Full time|\n",
            "|Python+java devel...|    (F)>=20K|  Chengdu|New first-tier ci...|          (A)1-3 years|           (D)Graduate|       Full time|\n",
            "|Bank credit card ...| (C)[8K-12K)|  Chengdu|New first-tier ci...|  (C)Experience unl...|  (B)Secondary Educ...|       Full time|\n",
            "|Data Clerk (Civil...|(G)Interview|   Dalian|              Others|          (A)1-3 years|  (B)Secondary Educ...|       Full time|\n",
            "|A clerk (data ana...|      (A)<4K|   Dalian|              Others|          (A)1-3 years|      (C)Undergraduate|       Full time|\n",
            "|Big Data R&D Engi...|  (B)[4K-8K)|   Fuzhou|              Others|          (A)1-3 years|      (C)Undergraduate|       Full time|\n",
            "|Data Operations A...|  (B)[4K-8K)|Guangzhou|   First-tier cities|  (C)Experience unl...|  (B)Secondary Educ...|       Full time|\n",
            "|Data center infra...|  (B)[4K-8K)|Guangzhou|   First-tier cities|  (C)Experience unl...|  (E)Education Unli...|       Full time|\n",
            "|Data analysis ass...|  (B)[4K-8K)|Guangzhou|   First-tier cities|  (C)Experience unl...|      (C)Undergraduate|          Campus|\n",
            "|Financial data an...|  (B)[4K-8K)|Guangzhou|   First-tier cities|  (C)Experience unl...|      (C)Undergraduate|       Full time|\n",
            "|Big data developm...|(E)[16K-20K)|Guangzhou|   First-tier cities|  (B)More than 3 years|      (C)Undergraduate|       Full time|\n",
            "|Senior Big Data E...|    (F)>=20K|Guangzhou|   First-tier cities|  (B)More than 3 years|      (C)Undergraduate|       Full time|\n",
            "|Intermediate data...|(D)[12K-16K)|Guangzhou|   First-tier cities|  (B)More than 3 years|      (C)Undergraduate|       Full time|\n",
            "|Big data analysis...|  (B)[4K-8K)|  Guiyang|              Others|  (C)Experience unl...|  (B)Secondary Educ...|       Full time|\n",
            "|First-and second-...|(E)[16K-20K)|  Guiyang|              Others|  (C)Experience unl...|  (E)Education Unli...|       Full time|\n",
            "|Java development ...|(D)[12K-16K)|  Guiyang|              Others|  (B)More than 3 years|      (C)Undergraduate|       Full time|\n",
            "|Data Model Design...|    (F)>=20K|  Beijing|   First-tier cities|  (B)More than 3 years|      (C)Undergraduate|       Full time|\n",
            "|Senior data analy...|(G)Interview|  Beijing|   First-tier cities|          (A)1-3 years|      (C)Undergraduate|       Full time|\n",
            "|Data research spe...| (C)[8K-12K)|  Beijing|   First-tier cities|  (C)Experience unl...|      (C)Undergraduate|       Full time|\n",
            "|Big Data Speciali...|  (B)[4K-8K)|  Beijing|   First-tier cities|  (C)Experience unl...|  (B)Secondary Educ...|       Full time|\n",
            "|        data analyst|(D)[12K-16K)|  Beijing|   First-tier cities|  (C)Experience unl...|  (E)Education Unli...|       Full time|\n",
            "|      Data operation| (C)[8K-12K)|  Chengdu|New first-tier ci...|  (C)Experience unl...|  (B)Secondary Educ...|       Full time|\n",
            "|Data processing s...|  (B)[4K-8K)|  Chengdu|New first-tier ci...|  (C)Experience unl...|  (B)Secondary Educ...|       Full time|\n",
            "|     Data annotation|(G)Interview|  Chengdu|New first-tier ci...|  (C)Experience unl...|  (E)Education Unli...|       Full time|\n",
            "|Data Analyst (Inf...| (C)[8K-12K)|  Chengdu|New first-tier ci...|          (A)1-3 years|      (C)Undergraduate|       Full time|\n",
            "|Data annotator (c...|  (B)[4K-8K)|  Chengdu|New first-tier ci...|  (C)Experience unl...|  (B)Secondary Educ...|       Full time|\n",
            "|Data analysis on ...|  (B)[4K-8K)|  Chengdu|New first-tier ci...|  (C)Experience unl...|      (C)Undergraduate|       Full time|\n",
            "|Big Data Product ...|(G)Interview|  Chengdu|New first-tier ci...|  (B)More than 3 years|      (C)Undergraduate|       Full time|\n",
            "|Procurement data ...|  (B)[4K-8K)|   Dalian|              Others|          (A)1-3 years|      (C)Undergraduate|       Full time|\n",
            "|  5G signal debugger|  (B)[4K-8K)|   Dalian|              Others|  (C)Experience unl...|  (B)Secondary Educ...|       Full time|\n",
            "|     project manager| (C)[8K-12K)|   Dalian|              Others|  (B)More than 3 years|      (C)Undergraduate|       Full time|\n",
            "|bigdata analyst/d...|(D)[12K-16K)|   Fuzhou|              Others|  (B)More than 3 years|      (C)Undergraduate|       Full time|\n",
            "|   Data optimization|  (B)[4K-8K)|Guangzhou|   First-tier cities|          (A)1-3 years|  (B)Secondary Educ...|       Full time|\n",
            "|Data Maintenance ...| (C)[8K-12K)|Guangzhou|   First-tier cities|          (A)1-3 years|      (C)Undergraduate|       Full time|\n",
            "|      Data operation|  (B)[4K-8K)|Guangzhou|   First-tier cities|  (C)Experience unl...|  (B)Secondary Educ...|       Full time|\n",
            "|Data analysis spe...|  (B)[4K-8K)|Guangzhou|   First-tier cities|  (C)Experience unl...|  (B)Secondary Educ...|       Full time|\n",
            "|Department Manage...|(D)[12K-16K)|Guangzhou|   First-tier cities|  (B)More than 3 years|  (B)Secondary Educ...|       Full time|\n",
            "|Big data development| (C)[8K-12K)|  Guiyang|              Others|  (B)More than 3 years|      (C)Undergraduate|       Full time|\n",
            "|Big data connecti...|  (B)[4K-8K)|  Guiyang|              Others|  (C)Experience unl...|  (E)Education Unli...|       Full time|\n",
            "|        data analyst|(E)[16K-20K)|  Beijing|   First-tier cities|  (B)More than 3 years|      (C)Undergraduate|       Full time|\n",
            "|Logistics data st...|  (B)[4K-8K)|  Chengdu|New first-tier ci...|  (C)Experience unl...|  (B)Secondary Educ...|       Full time|\n",
            "|     Data specialist|  (B)[4K-8K)|  Chengdu|New first-tier ci...|          (A)1-3 years|  (B)Secondary Educ...|       Full time|\n",
            "|      Data operation|(E)[16K-20K)|  Chengdu|New first-tier ci...|  (B)More than 3 years|      (C)Undergraduate|       Full time|\n",
            "|   Big data analysis|    (F)>=20K|  Chengdu|New first-tier ci...|  (B)More than 3 years|      (C)Undergraduate|       Full time|\n",
            "|Data Statistics A...|  (B)[4K-8K)|Guangzhou|   First-tier cities|  (C)Experience unl...|  (B)Secondary Educ...|       Full time|\n",
            "|Interns in Big Da...|      (A)<4K|Guangzhou|   First-tier cities|  (C)Experience unl...|      (C)Undergraduate|       Full time|\n",
            "|Manager of promot...|    (F)>=20K|Guangzhou|   First-tier cities|  (B)More than 3 years|      (C)Undergraduate|       Full time|\n",
            "|Data Mining Engin...|(D)[12K-16K)|Guangzhou|   First-tier cities|  (B)More than 3 years|      (C)Undergraduate|       Full time|\n",
            "|JAVA Development ...|    (F)>=20K|Guangzhou|   First-tier cities|  (B)More than 3 years|      (C)Undergraduate|       Full time|\n",
            "|GIS data processi...|  (B)[4K-8K)|Guangzhou|   First-tier cities|  (C)Experience unl...|      (C)Undergraduate|       Full time|\n",
            "|Legal affairs (en...| (C)[8K-12K)|  Guiyang|              Others|  (B)More than 3 years|      (C)Undergraduate|       Full time|\n",
            "| Intern data analyst|      (A)<4K|  Beijing|   First-tier cities|  (C)Experience unl...|      (C)Undergraduate|      Internship|\n",
            "| Sales data analysis| (C)[8K-12K)|  Beijing|   First-tier cities|  (C)Experience unl...|  (B)Secondary Educ...|       Full time|\n",
            "|        data analyst|(D)[12K-16K)|  Chengdu|New first-tier ci...|  (B)More than 3 years|      (C)Undergraduate|       Full time|\n",
            "|bigdata analyst/d...| (C)[8K-12K)|  Chengdu|New first-tier ci...|  (B)More than 3 years|  (B)Secondary Educ...|       Full time|\n",
            "|Environmental Dat...|  (B)[4K-8K)|  Chengdu|New first-tier ci...|  (C)Experience unl...|           (D)Graduate|       Full time|\n",
            "|Advanced data ope...| (C)[8K-12K)|  Chengdu|New first-tier ci...|  (B)More than 3 years|      (C)Undergraduate|       Full time|\n",
            "|PLSQL senior posi...|(D)[12K-16K)|   Dalian|              Others|  (B)More than 3 years|      (C)Undergraduate|       Full time|\n",
            "|Data development ...| (C)[8K-12K)|   Fuzhou|              Others|          (A)1-3 years|      (C)Undergraduate|       Full time|\n",
            "|Data middle offic...|(D)[12K-16K)|   Fuzhou|              Others|          (A)1-3 years|      (C)Undergraduate|       Full time|\n",
            "|Real estate busin...|(D)[12K-16K)|Guangzhou|   First-tier cities|          (A)1-3 years|      (C)Undergraduate|       Full time|\n",
            "|Big data team leader|    (F)>=20K|Guangzhou|   First-tier cities|  (B)More than 3 years|      (C)Undergraduate|       Full time|\n",
            "|Senior data admin...| (C)[8K-12K)|Guangzhou|   First-tier cities|  (B)More than 3 years|      (C)Undergraduate|       Full time|\n",
            "|Big data operatio...|(D)[12K-16K)|Guangzhou|   First-tier cities|  (B)More than 3 years|      (C)Undergraduate|       Full time|\n",
            "|Data Operation (R...|(G)Interview|Guangzhou|   First-tier cities|          (A)1-3 years|  (B)Secondary Educ...|       Full time|\n",
            "|Data analysis dev...|(D)[12K-16K)|Guangzhou|   First-tier cities|          (A)1-3 years|  (B)Secondary Educ...|       Full time|\n",
            "|Head of guest res...|(D)[12K-16K)|  Guiyang|              Others|  (B)More than 3 years|      (C)Undergraduate|       Full time|\n",
            "|Computer data tec...|  (B)[4K-8K)|  Beijing|   First-tier cities|  (C)Experience unl...|  (B)Secondary Educ...|       Full time|\n",
            "|Data Management D...|(G)Interview|  Beijing|   First-tier cities|  (B)More than 3 years|      (C)Undergraduate|       Full time|\n",
            "|        Data support| (C)[8K-12K)|  Beijing|   First-tier cities|  (C)Experience unl...|  (B)Secondary Educ...|       Full time|\n",
            "|Data processing i...| (C)[8K-12K)|  Beijing|   First-tier cities|  (C)Experience unl...|  (B)Secondary Educ...|       Full time|\n",
            "| WMPS- data analysis|(G)Interview|  Beijing|   First-tier cities|          (A)1-3 years|      (C)Undergraduate|       Full time|\n",
            "+--------------------+------------+---------+--------------------+----------------------+----------------------+----------------+\n",
            "only showing top 80 rows\n",
            "\n"
          ]
        }
      ],
      "source": [
        "\n",
        "education = dict()\n",
        "education[\"(A)Primary Education\"] = [\"Junior high school and below\"]\n",
        "education[\"(B)Secondary Education\"] = [\"Technical secondary school/technical secondary school\",\n",
        "                                    \"High school\",\"Junior college\"]\n",
        "education[\"(C)Undergraduate\"] = [\"Undergraduate course\"]\n",
        "education[\"(D)Graduate\"] = [\"master\", \"Doctor\"]\n",
        "education[\"(E)Education Unlimited\"] = [\"Education is not limited\"]\n",
        "\n",
        "def normalise_education(education_val):\n",
        "  if education_val in education[\"(A)Primary Education\"]:\n",
        "    return \"(A)Primary Education\"\n",
        "  elif education_val in education[\"(B)Secondary Education\"]:\n",
        "    return \"(B)Secondary Education\"\n",
        "  elif education_val in education[\"(C)Undergraduate\"]:\n",
        "    return \"(C)Undergraduate\"\n",
        "  elif education_val in education[\"(D)Graduate\"]:\n",
        "    return \"(D)Graduate\"\n",
        "  else :\n",
        "    return \"(E)Education Unlimited\"\n",
        "\n",
        "normalise_education_udf = udf(normalise_education, StringType())\n",
        "advert_df = advert_df.withColumn(\"Education requirements\",normalise_education_udf(col(\"Education requirements\")))\n",
        "advert_df.show(80)"
      ]
    },
    {
      "cell_type": "markdown",
      "metadata": {
        "id": "66pFGdch-BU_"
      },
      "source": [
        "# **Data Preprocessing**"
      ]
    },
    {
      "cell_type": "markdown",
      "metadata": {
        "id": "pzjt71kS-ZwY"
      },
      "source": [
        "In this assignment, we are working with text data in the `Job title` column and our ultimate goal is to cluster job adverts into groups of coherent \"topics\" using one of the clustering algorithms we know (e.g., K-means). This is a specific task of a more general area, which is referred to as _natural language processing_ (NLP).\n",
        "\n",
        "As **preliminary** steps of any NLP task, at least the following pipeline must be executed first:\n",
        "\n",
        "- Text cleaning:\n",
        " - Case normalization (<code>lower</code>) -> convert all text to lower case;\n",
        " - Filter out _leading_ and _trailing_ whitespaces (<code>trim</code>);\n",
        " - Filter out punctuation symbols (<code>regexp_replace</code>);\n",
        " - Filter out any internal extra whitespace resulting from the step above (<code>regexp_replace</code> + <code>trim</code>).\n",
        "- Tokenization (<code>Tokenizer</code>): splitting raw text into a list of individual _tokens_ (i.e., words), typically using whitespace as delimiter\n",
        "- Stopwords removal (<code>StopWordsRemover</code>): removing so-called _stopwords_, namely words that do not contribute to the deeper meaning of the document like \"the\", \"a\", \"me\", etc.\n",
        "- Stemming (<code>SnowballStemmer</code>): reducing each word to its root or base. For example \"fishing\", \"fished\", \"fisher\" all reduce to the stem \"fish\"."
      ]
    },
    {
      "cell_type": "code",
      "execution_count": null,
      "metadata": {
        "id": "prr9bVUydzmI"
      },
      "outputs": [],
      "source": [
        "def clean_text(df, column_name=\"Job title\"):\n",
        "    \"\"\"\n",
        "    This function takes the raw text data and apply a standard NLP preprocessing pipeline consisting of the following steps:\n",
        "      - Text cleaning\n",
        "      - Tokenization\n",
        "      - Stopwords removal\n",
        "      - Stemming (Snowball stemmer)\n",
        "\n",
        "    parameter: dataframe\n",
        "    returns: the input dataframe along with the `Job title (cleaned)` column as the results of the NLP preprocessing pipeline\n",
        "\n",
        "    \"\"\"\n",
        "    from pyspark.sql.functions import udf, col, lower, trim, regexp_replace\n",
        "    from pyspark.ml.feature import Tokenizer, StopWordsRemover\n",
        "    from nltk.stem.snowball import SnowballStemmer\n",
        "\n",
        "    # Text preprocessing pipeline\n",
        "    print(\"***** Text Preprocessing Pipeline *****\\n\")\n",
        "\n",
        "    # 1. Text cleaning\n",
        "    print(\"# 1. Text Cleaning\\n\")\n",
        "    # 1.a Case normalization\n",
        "    print(\"1.a Case normalization:\")\n",
        "    lower_case_news_df = df.select(\"Salary range\", \"Location\", \"Tier\", \"Experience requirement\", \"Education requirements\", lower(col(column_name)).alias(column_name))\n",
        "    lower_case_news_df.show(10)\n",
        "    # 1.b Trimming\n",
        "    print(\"1.b Trimming:\")\n",
        "    trimmed_news_df = lower_case_news_df.select(\"Salary range\", \"Location\", \"Tier\", \"Experience requirement\", \"Education requirements\", trim(col(column_name)).alias(column_name))\n",
        "    trimmed_news_df.show(10)\n",
        "    # 1.c Filter out punctuation symbols\n",
        "    print(\"1.c Filter out punctuation:\")\n",
        "    no_punct_news_df = trimmed_news_df.select(\"Salary range\", \"Location\", \"Tier\", \"Experience requirement\", \"Education requirements\", (regexp_replace(col(column_name), \"[^a-zA-Z\\\\s]\", \"\")).alias(column_name))\n",
        "    no_punct_news_df.show(10)\n",
        "    # 1.d Filter out any internal extra whitespace\n",
        "    print(\"1.d Filter out extra whitespaces:\")\n",
        "    cleaned_news_df = no_punct_news_df.select(\"Salary range\", \"Location\", \"Tier\", \"Experience requirement\", \"Education requirements\", trim(regexp_replace(col(column_name), \" +\", \" \")).alias(column_name))\n",
        "    cleaned_news_df.show(10)\n",
        "\n",
        "    # 2. Tokenization (split text into tokens)\n",
        "    print(\"# 2. Tokenization:\")\n",
        "    tokenizer = Tokenizer(inputCol=column_name, outputCol=\"tokens\")\n",
        "    tokens_df = tokenizer.transform(cleaned_news_df)\n",
        "    tokens_df.show(10)\n",
        "\n",
        "    # 3. Stopwords removal\n",
        "    print(\"# 3. Stopwords removal:\")\n",
        "    stopwords_remover = StopWordsRemover(inputCol=\"tokens\", outputCol=\"terms\")\n",
        "    terms_df = stopwords_remover.transform(tokens_df)\n",
        "    terms_df.show(10)\n",
        "\n",
        "    # 4. Stemming (Snowball stemmer)\n",
        "    print(\"# 4. Stemming:\")\n",
        "    stemmer = SnowballStemmer(language=\"english\")\n",
        "    stemmer_udf = udf(lambda tokens: [stemmer.stem(token) for token in tokens], ArrayType(StringType()))\n",
        "    terms_stemmed_df = terms_df.withColumn(\"terms_stemmed\", stemmer_udf(\"terms\"))\n",
        "    terms_stemmed_df.show(10)\n",
        "\n",
        "    return terms_stemmed_df"
      ]
    },
    {
      "cell_type": "code",
      "execution_count": null,
      "metadata": {
        "id": "kOITbChE0WRp",
        "colab": {
          "base_uri": "https://localhost:8080/"
        },
        "outputId": "2b22fec0-2867-4462-e2fd-9d16d3040660"
      },
      "outputs": [
        {
          "output_type": "stream",
          "name": "stdout",
          "text": [
            "***** Text Preprocessing Pipeline *****\n",
            "\n",
            "# 1. Text Cleaning\n",
            "\n",
            "1.a Case normalization:\n",
            "+------------+--------+--------------------+----------------------+----------------------+--------------------+\n",
            "|Salary range|Location|                Tier|Experience requirement|Education requirements|           Job title|\n",
            "+------------+--------+--------------------+----------------------+----------------------+--------------------+\n",
            "|(G)Interview| Beijing|   First-tier cities|  (B)More than 3 years|      (C)Undergraduate|data warehouse de...|\n",
            "|  (B)[4K-8K)| Beijing|   First-tier cities|  (C)Experience unl...|  (B)Secondary Educ...|data visualizatio...|\n",
            "|(D)[12K-16K)| Beijing|   First-tier cities|  (B)More than 3 years|  (B)Secondary Educ...|data management c...|\n",
            "|  (B)[4K-8K)| Chengdu|New first-tier ci...|          (A)1-3 years|  (B)Secondary Educ...|data return visit...|\n",
            "|  (B)[4K-8K)| Chengdu|New first-tier ci...|          (A)1-3 years|      (C)Undergraduate|      data assistant|\n",
            "|    (F)>=20K| Chengdu|New first-tier ci...|  (B)More than 3 years|  (B)Secondary Educ...|data product manager|\n",
            "|  (B)[4K-8K)| Chengdu|New first-tier ci...|          (A)1-3 years|      (C)Undergraduate|big data (college...|\n",
            "| (C)[8K-12K)| Chengdu|New first-tier ci...|          (A)1-3 years|      (C)Undergraduate|financial data an...|\n",
            "|  (B)[4K-8K)| Chengdu|New first-tier ci...|  (C)Experience unl...|  (B)Secondary Educ...|internet data ana...|\n",
            "|    (F)>=20K| Chengdu|New first-tier ci...|          (A)1-3 years|           (D)Graduate|python+java devel...|\n",
            "+------------+--------+--------------------+----------------------+----------------------+--------------------+\n",
            "only showing top 10 rows\n",
            "\n",
            "1.b Trimming:\n",
            "+------------+--------+--------------------+----------------------+----------------------+--------------------+\n",
            "|Salary range|Location|                Tier|Experience requirement|Education requirements|           Job title|\n",
            "+------------+--------+--------------------+----------------------+----------------------+--------------------+\n",
            "|(G)Interview| Beijing|   First-tier cities|  (B)More than 3 years|      (C)Undergraduate|data warehouse de...|\n",
            "|  (B)[4K-8K)| Beijing|   First-tier cities|  (C)Experience unl...|  (B)Secondary Educ...|data visualizatio...|\n",
            "|(D)[12K-16K)| Beijing|   First-tier cities|  (B)More than 3 years|  (B)Secondary Educ...|data management c...|\n",
            "|  (B)[4K-8K)| Chengdu|New first-tier ci...|          (A)1-3 years|  (B)Secondary Educ...|data return visit...|\n",
            "|  (B)[4K-8K)| Chengdu|New first-tier ci...|          (A)1-3 years|      (C)Undergraduate|      data assistant|\n",
            "|    (F)>=20K| Chengdu|New first-tier ci...|  (B)More than 3 years|  (B)Secondary Educ...|data product manager|\n",
            "|  (B)[4K-8K)| Chengdu|New first-tier ci...|          (A)1-3 years|      (C)Undergraduate|big data (college...|\n",
            "| (C)[8K-12K)| Chengdu|New first-tier ci...|          (A)1-3 years|      (C)Undergraduate|financial data an...|\n",
            "|  (B)[4K-8K)| Chengdu|New first-tier ci...|  (C)Experience unl...|  (B)Secondary Educ...|internet data ana...|\n",
            "|    (F)>=20K| Chengdu|New first-tier ci...|          (A)1-3 years|           (D)Graduate|python+java devel...|\n",
            "+------------+--------+--------------------+----------------------+----------------------+--------------------+\n",
            "only showing top 10 rows\n",
            "\n",
            "1.c Filter out punctuation:\n",
            "+------------+--------+--------------------+----------------------+----------------------+--------------------+\n",
            "|Salary range|Location|                Tier|Experience requirement|Education requirements|           Job title|\n",
            "+------------+--------+--------------------+----------------------+----------------------+--------------------+\n",
            "|(G)Interview| Beijing|   First-tier cities|  (B)More than 3 years|      (C)Undergraduate|data warehouse de...|\n",
            "|  (B)[4K-8K)| Beijing|   First-tier cities|  (C)Experience unl...|  (B)Secondary Educ...|data visualizatio...|\n",
            "|(D)[12K-16K)| Beijing|   First-tier cities|  (B)More than 3 years|  (B)Secondary Educ...|data management c...|\n",
            "|  (B)[4K-8K)| Chengdu|New first-tier ci...|          (A)1-3 years|  (B)Secondary Educ...|data return visit...|\n",
            "|  (B)[4K-8K)| Chengdu|New first-tier ci...|          (A)1-3 years|      (C)Undergraduate|      data assistant|\n",
            "|    (F)>=20K| Chengdu|New first-tier ci...|  (B)More than 3 years|  (B)Secondary Educ...|data product manager|\n",
            "|  (B)[4K-8K)| Chengdu|New first-tier ci...|          (A)1-3 years|      (C)Undergraduate|big data college ...|\n",
            "| (C)[8K-12K)| Chengdu|New first-tier ci...|          (A)1-3 years|      (C)Undergraduate|financial data an...|\n",
            "|  (B)[4K-8K)| Chengdu|New first-tier ci...|  (C)Experience unl...|  (B)Secondary Educ...|internet data ana...|\n",
            "|    (F)>=20K| Chengdu|New first-tier ci...|          (A)1-3 years|           (D)Graduate|pythonjava develo...|\n",
            "+------------+--------+--------------------+----------------------+----------------------+--------------------+\n",
            "only showing top 10 rows\n",
            "\n",
            "1.d Filter out extra whitespaces:\n",
            "+------------+--------+--------------------+----------------------+----------------------+--------------------+\n",
            "|Salary range|Location|                Tier|Experience requirement|Education requirements|           Job title|\n",
            "+------------+--------+--------------------+----------------------+----------------------+--------------------+\n",
            "|(G)Interview| Beijing|   First-tier cities|  (B)More than 3 years|      (C)Undergraduate|data warehouse de...|\n",
            "|  (B)[4K-8K)| Beijing|   First-tier cities|  (C)Experience unl...|  (B)Secondary Educ...|data visualizatio...|\n",
            "|(D)[12K-16K)| Beijing|   First-tier cities|  (B)More than 3 years|  (B)Secondary Educ...|data management c...|\n",
            "|  (B)[4K-8K)| Chengdu|New first-tier ci...|          (A)1-3 years|  (B)Secondary Educ...|data return visit...|\n",
            "|  (B)[4K-8K)| Chengdu|New first-tier ci...|          (A)1-3 years|      (C)Undergraduate|      data assistant|\n",
            "|    (F)>=20K| Chengdu|New first-tier ci...|  (B)More than 3 years|  (B)Secondary Educ...|data product manager|\n",
            "|  (B)[4K-8K)| Chengdu|New first-tier ci...|          (A)1-3 years|      (C)Undergraduate|big data college ...|\n",
            "| (C)[8K-12K)| Chengdu|New first-tier ci...|          (A)1-3 years|      (C)Undergraduate|financial data an...|\n",
            "|  (B)[4K-8K)| Chengdu|New first-tier ci...|  (C)Experience unl...|  (B)Secondary Educ...|internet data ana...|\n",
            "|    (F)>=20K| Chengdu|New first-tier ci...|          (A)1-3 years|           (D)Graduate|pythonjava develo...|\n",
            "+------------+--------+--------------------+----------------------+----------------------+--------------------+\n",
            "only showing top 10 rows\n",
            "\n",
            "# 2. Tokenization:\n",
            "+------------+--------+--------------------+----------------------+----------------------+--------------------+--------------------+\n",
            "|Salary range|Location|                Tier|Experience requirement|Education requirements|           Job title|              tokens|\n",
            "+------------+--------+--------------------+----------------------+----------------------+--------------------+--------------------+\n",
            "|(G)Interview| Beijing|   First-tier cities|  (B)More than 3 years|      (C)Undergraduate|data warehouse de...|[data, warehouse,...|\n",
            "|  (B)[4K-8K)| Beijing|   First-tier cities|  (C)Experience unl...|  (B)Secondary Educ...|data visualizatio...|[data, visualizat...|\n",
            "|(D)[12K-16K)| Beijing|   First-tier cities|  (B)More than 3 years|  (B)Secondary Educ...|data management c...|[data, management...|\n",
            "|  (B)[4K-8K)| Chengdu|New first-tier ci...|          (A)1-3 years|  (B)Secondary Educ...|data return visit...|[data, return, vi...|\n",
            "|  (B)[4K-8K)| Chengdu|New first-tier ci...|          (A)1-3 years|      (C)Undergraduate|      data assistant|   [data, assistant]|\n",
            "|    (F)>=20K| Chengdu|New first-tier ci...|  (B)More than 3 years|  (B)Secondary Educ...|data product manager|[data, product, m...|\n",
            "|  (B)[4K-8K)| Chengdu|New first-tier ci...|          (A)1-3 years|      (C)Undergraduate|big data college ...|[big, data, colle...|\n",
            "| (C)[8K-12K)| Chengdu|New first-tier ci...|          (A)1-3 years|      (C)Undergraduate|financial data an...|[financial, data,...|\n",
            "|  (B)[4K-8K)| Chengdu|New first-tier ci...|  (C)Experience unl...|  (B)Secondary Educ...|internet data ana...|[internet, data, ...|\n",
            "|    (F)>=20K| Chengdu|New first-tier ci...|          (A)1-3 years|           (D)Graduate|pythonjava develo...|[pythonjava, deve...|\n",
            "+------------+--------+--------------------+----------------------+----------------------+--------------------+--------------------+\n",
            "only showing top 10 rows\n",
            "\n",
            "# 3. Stopwords removal:\n",
            "+------------+--------+--------------------+----------------------+----------------------+--------------------+--------------------+--------------------+\n",
            "|Salary range|Location|                Tier|Experience requirement|Education requirements|           Job title|              tokens|               terms|\n",
            "+------------+--------+--------------------+----------------------+----------------------+--------------------+--------------------+--------------------+\n",
            "|(G)Interview| Beijing|   First-tier cities|  (B)More than 3 years|      (C)Undergraduate|data warehouse de...|[data, warehouse,...|[data, warehouse,...|\n",
            "|  (B)[4K-8K)| Beijing|   First-tier cities|  (C)Experience unl...|  (B)Secondary Educ...|data visualizatio...|[data, visualizat...|[data, visualizat...|\n",
            "|(D)[12K-16K)| Beijing|   First-tier cities|  (B)More than 3 years|  (B)Secondary Educ...|data management c...|[data, management...|[data, management...|\n",
            "|  (B)[4K-8K)| Chengdu|New first-tier ci...|          (A)1-3 years|  (B)Secondary Educ...|data return visit...|[data, return, vi...|[data, return, vi...|\n",
            "|  (B)[4K-8K)| Chengdu|New first-tier ci...|          (A)1-3 years|      (C)Undergraduate|      data assistant|   [data, assistant]|   [data, assistant]|\n",
            "|    (F)>=20K| Chengdu|New first-tier ci...|  (B)More than 3 years|  (B)Secondary Educ...|data product manager|[data, product, m...|[data, product, m...|\n",
            "|  (B)[4K-8K)| Chengdu|New first-tier ci...|          (A)1-3 years|      (C)Undergraduate|big data college ...|[big, data, colle...|[big, data, colle...|\n",
            "| (C)[8K-12K)| Chengdu|New first-tier ci...|          (A)1-3 years|      (C)Undergraduate|financial data an...|[financial, data,...|[financial, data,...|\n",
            "|  (B)[4K-8K)| Chengdu|New first-tier ci...|  (C)Experience unl...|  (B)Secondary Educ...|internet data ana...|[internet, data, ...|[internet, data, ...|\n",
            "|    (F)>=20K| Chengdu|New first-tier ci...|          (A)1-3 years|           (D)Graduate|pythonjava develo...|[pythonjava, deve...|[pythonjava, deve...|\n",
            "+------------+--------+--------------------+----------------------+----------------------+--------------------+--------------------+--------------------+\n",
            "only showing top 10 rows\n",
            "\n",
            "# 4. Stemming:\n",
            "+------------+--------+--------------------+----------------------+----------------------+--------------------+--------------------+--------------------+--------------------+\n",
            "|Salary range|Location|                Tier|Experience requirement|Education requirements|           Job title|              tokens|               terms|       terms_stemmed|\n",
            "+------------+--------+--------------------+----------------------+----------------------+--------------------+--------------------+--------------------+--------------------+\n",
            "|(G)Interview| Beijing|   First-tier cities|  (B)More than 3 years|      (C)Undergraduate|data warehouse de...|[data, warehouse,...|[data, warehouse,...|[data, warehous, ...|\n",
            "|  (B)[4K-8K)| Beijing|   First-tier cities|  (C)Experience unl...|  (B)Secondary Educ...|data visualizatio...|[data, visualizat...|[data, visualizat...|[data, visual, en...|\n",
            "|(D)[12K-16K)| Beijing|   First-tier cities|  (B)More than 3 years|  (B)Secondary Educ...|data management c...|[data, management...|[data, management...|[data, manag, con...|\n",
            "|  (B)[4K-8K)| Chengdu|New first-tier ci...|          (A)1-3 years|  (B)Secondary Educ...|data return visit...|[data, return, vi...|[data, return, vi...|[data, return, vi...|\n",
            "|  (B)[4K-8K)| Chengdu|New first-tier ci...|          (A)1-3 years|      (C)Undergraduate|      data assistant|   [data, assistant]|   [data, assistant]|      [data, assist]|\n",
            "|    (F)>=20K| Chengdu|New first-tier ci...|  (B)More than 3 years|  (B)Secondary Educ...|data product manager|[data, product, m...|[data, product, m...|[data, product, m...|\n",
            "|  (B)[4K-8K)| Chengdu|New first-tier ci...|          (A)1-3 years|      (C)Undergraduate|big data college ...|[big, data, colle...|[big, data, colle...|[big, data, colle...|\n",
            "| (C)[8K-12K)| Chengdu|New first-tier ci...|          (A)1-3 years|      (C)Undergraduate|financial data an...|[financial, data,...|[financial, data,...|[financi, data, a...|\n",
            "|  (B)[4K-8K)| Chengdu|New first-tier ci...|  (C)Experience unl...|  (B)Secondary Educ...|internet data ana...|[internet, data, ...|[internet, data, ...|[internet, data, ...|\n",
            "|    (F)>=20K| Chengdu|New first-tier ci...|          (A)1-3 years|           (D)Graduate|pythonjava develo...|[pythonjava, deve...|[pythonjava, deve...|[pythonjava, deve...|\n",
            "+------------+--------+--------------------+----------------------+----------------------+--------------------+--------------------+--------------------+--------------------+\n",
            "only showing top 10 rows\n",
            "\n"
          ]
        },
        {
          "output_type": "execute_result",
          "data": {
            "text/plain": [
              "DataFrame[Salary range: string, Location: string, Tier: string, Experience requirement: string, Education requirements: string, Job title: string, tokens: array<string>, terms: array<string>, terms_stemmed: array<string>]"
            ]
          },
          "metadata": {},
          "execution_count": 27
        }
      ],
      "source": [
        "clean_advert_df = clean_text(advert_df)\n",
        "clean_advert_df.cache()"
      ]
    },
    {
      "cell_type": "markdown",
      "metadata": {
        "id": "KxYII3XAqCp7"
      },
      "source": [
        "# **Feature Engineering**\n",
        "\n",
        "Machine learning techniques cannot work directly on text data; in fact, words must be first converted into some numerical representation which machine learning algorithms can make use of. This process is often known as _embedding_ or _vectorization_.\n",
        "\n",
        "In terms of vectorization, it is important to remember that it isn't merely turning a single word into a single number. While words can be transformed into numbers, an entire document can be translated into a vector. Moreover, vectors derived from text data are usually high-dimensional. This is because each dimension of the feature space will correspond to a word, and the language in the documents may have thousands of words."
      ]
    },
    {
      "cell_type": "markdown",
      "metadata": {
        "id": "e2Ck6WXpAaqs"
      },
      "source": [
        "## TF-IDF\n",
        "In information retrieval, **tf-idf** - short for term frequency-inverse document frequency - is a numerical statistic that is intended to reflect how important a word is to a document in a collection or corpus.\n",
        "\n",
        "The tf-idf value increases proportionally to the number of times a word appears in the document and is offset by the frequency of the word in the corpus, which helps to adjust for the fact that some words appear more frequently in general."
      ]
    },
    {
      "cell_type": "code",
      "execution_count": null,
      "metadata": {
        "id": "13RW7AdQBeD_"
      },
      "outputs": [],
      "source": [
        "def extract_tfidf_features(df, column_name=\"terms_stemmed\", vocabSize=1000, minDF=100, numFeatures=200):\n",
        "    \"\"\"\n",
        "    This function takes the text data and converts it into a term frequency-inverse document frequency vector\n",
        "\n",
        "    parameter: dataframe\n",
        "    returns: dataframe with tf-idf vectors\n",
        "\n",
        "    \"\"\"\n",
        "\n",
        "    # Importing the feature transformation classes for doing TF-IDF\n",
        "    from pyspark.ml.feature import HashingTF, CountVectorizer, IDF\n",
        "    from pyspark.ml import Pipeline\n",
        "\n",
        "    ## Creating Term Frequency Vector for each word\n",
        "    #cv = CountVectorizer(inputCol=column_name, outputCol=\"tf_features\", vocabSize=vocabSize, minDF=minDF)\n",
        "    #cvModel = cv.fit(df)\n",
        "    #tf_features_df = cvModel.transform(df)\n",
        "\n",
        "    ## Alternatively to CountVectorizer, use HashingTF\n",
        "    #hashingTF = HashingTF(inputCol=column_name, outputCol=\"tf_features\", numFeatures=numFeatures)\n",
        "    #tf_features_df = hashingTF.transform(df)\n",
        "\n",
        "    ## Carrying out Inverse Document Frequency on the TF data\n",
        "    #idf = IDF(inputCol=\"tf_features\", outputCol=\"features\")\n",
        "    #idfModel = idf.fit(tf_features_df)\n",
        "    #tf_idf_features_df = idfModel.transform(tf_features_df)\n",
        "\n",
        "    # USING PIPELINE\n",
        "    cv = CountVectorizer(inputCol=column_name, outputCol=\"tf_features\", vocabSize=vocabSize, minDF=minDF)\n",
        "    # hashingTF = HashingTF(inputCol=column_name, outputCol=\"tf_features\", numFeatures=numFeatures)\n",
        "    idf = IDF(inputCol=\"tf_features\", outputCol=\"features\")\n",
        "\n",
        "    pipeline = Pipeline(stages=[cv, idf]) # replace `cv` with `hashingTF` if needed\n",
        "    features = pipeline.fit(df)\n",
        "    tf_idf_features_df = features.transform(df)\n",
        "\n",
        "    return tf_idf_features_df"
      ]
    },
    {
      "cell_type": "code",
      "execution_count": null,
      "metadata": {
        "id": "IQprR3DjdYDY",
        "colab": {
          "base_uri": "https://localhost:8080/"
        },
        "outputId": "133758cd-518f-4c74-fb3e-82ae99eee73d"
      },
      "outputs": [
        {
          "output_type": "execute_result",
          "data": {
            "text/plain": [
              "DataFrame[Salary range: string, Location: string, Tier: string, Experience requirement: string, Education requirements: string, Job title: string, tokens: array<string>, terms: array<string>, terms_stemmed: array<string>, tf_features: vector, features: vector]"
            ]
          },
          "metadata": {},
          "execution_count": 29
        }
      ],
      "source": [
        "tf_idf_df = extract_tfidf_features(clean_advert_df)\n",
        "tf_idf_df.cache()"
      ]
    },
    {
      "cell_type": "markdown",
      "metadata": {
        "id": "iroAmo0bII9V"
      },
      "source": [
        "### Clean-up unused variables"
      ]
    },
    {
      "cell_type": "code",
      "execution_count": null,
      "metadata": {
        "id": "PD1xi6IZH1nX",
        "colab": {
          "base_uri": "https://localhost:8080/"
        },
        "outputId": "c1cd4223-22d2-4ee3-b227-031f72aba254"
      },
      "outputs": [
        {
          "output_type": "stream",
          "name": "stdout",
          "text": [
            "Garbage collector: collected 570 objects\n"
          ]
        }
      ],
      "source": [
        "# Let's try to free-up some RAM\n",
        "import gc\n",
        "\n",
        "del advert_df\n",
        "del clean_advert_df\n",
        "# ...\n",
        "\n",
        "print(\"Garbage collector: collected %d objects\" % (gc.collect()))"
      ]
    },
    {
      "cell_type": "code",
      "execution_count": null,
      "metadata": {
        "id": "OcjFWSitdday",
        "colab": {
          "base_uri": "https://localhost:8080/"
        },
        "outputId": "6e571b69-c795-4063-ab25-31418150527b"
      },
      "outputs": [
        {
          "output_type": "stream",
          "name": "stdout",
          "text": [
            "+----------------------------------------------------------------------------------------------------------------+\n",
            "|features                                                                                                        |\n",
            "+----------------------------------------------------------------------------------------------------------------+\n",
            "|(74,[0,1,3,33],[0.3156582264113388,1.3800543075917189,2.037624076745449,4.1011838658723425])                    |\n",
            "|(74,[0,1,12,21],[0.3156582264113388,1.3800543075917189,3.308153326806107,3.7896293572140793])                   |\n",
            "|(74,[0,5,14],[0.3156582264113388,2.267594506859808,3.569567472437278])                                          |\n",
            "|(74,[0,7],[0.3156582264113388,2.5311683676040735])                                                              |\n",
            "|(74,[0,12],[0.3156582264113388,3.308153326806107])                                                              |\n",
            "|(74,[0,5,10],[0.3156582264113388,2.267594506859808,3.233095235816065])                                          |\n",
            "|(74,[0,2],[0.3156582264113388,1.8946655413446634])                                                              |\n",
            "|(74,[0,6,30],[0.3156582264113388,2.3010561469737705,3.9937247135575946])                                        |\n",
            "|(74,[0,4,7],[0.3156582264113388,2.1504832884943963,2.5311683676040735])                                         |\n",
            "|(74,[0,1,3,37,44],[0.3156582264113388,1.3800543075917189,2.037624076745449,4.245578370754235,4.347707865830616])|\n",
            "+----------------------------------------------------------------------------------------------------------------+\n",
            "only showing top 10 rows\n",
            "\n"
          ]
        }
      ],
      "source": [
        "tf_idf_df.select(col(\"features\")).show(10, truncate=False)"
      ]
    },
    {
      "cell_type": "markdown",
      "metadata": {
        "id": "r_AVPZudEfZv"
      },
      "source": [
        "### Check and remove any possible zero-length vector"
      ]
    },
    {
      "cell_type": "code",
      "execution_count": null,
      "metadata": {
        "id": "gus3IFnA7JAC"
      },
      "outputs": [],
      "source": [
        "@udf(\"long\")\n",
        "def num_nonzeros(v):\n",
        "    return v.numNonzeros()"
      ]
    },
    {
      "cell_type": "markdown",
      "metadata": {
        "id": "qFYhRWY_PwHC"
      },
      "source": [
        "### Check if there is any zero-length vector\n",
        "\n"
      ]
    },
    {
      "cell_type": "code",
      "execution_count": null,
      "metadata": {
        "id": "VyZj5ONJPuth",
        "colab": {
          "base_uri": "https://localhost:8080/"
        },
        "outputId": "a981232f-f350-4fc8-a00b-03e8a55eac31"
      },
      "outputs": [
        {
          "output_type": "stream",
          "name": "stdout",
          "text": [
            "Total n. of zero-length vectors: 330\n"
          ]
        }
      ],
      "source": [
        "print(\"Total n. of zero-length vectors: {:d}\".\n",
        "      format(tf_idf_df.where(num_nonzeros(\"features\") == 0).count()))"
      ]
    },
    {
      "cell_type": "markdown",
      "metadata": {
        "id": "23FneXsvQJaZ"
      },
      "source": [
        "### Remove zero-length vector(s)\n"
      ]
    },
    {
      "cell_type": "code",
      "execution_count": null,
      "metadata": {
        "id": "8-YCkcO4PrWP"
      },
      "outputs": [],
      "source": [
        "tf_idf_df = tf_idf_df.where(num_nonzeros(\"features\") > 0)"
      ]
    },
    {
      "cell_type": "markdown",
      "metadata": {
        "id": "MEAtctNbQNeG"
      },
      "source": [
        "### Double-check there is no more zero-length vector"
      ]
    },
    {
      "cell_type": "code",
      "execution_count": null,
      "metadata": {
        "id": "7TNJ35M0GoBD",
        "colab": {
          "base_uri": "https://localhost:8080/"
        },
        "outputId": "dbd8dec8-098b-4da2-bdc5-ecf44c86bf95"
      },
      "outputs": [
        {
          "output_type": "stream",
          "name": "stdout",
          "text": [
            "Total n. of zero-length vectors (after removal): 0\n"
          ]
        }
      ],
      "source": [
        "print(\"Total n. of zero-length vectors (after removal): {:d}\".\n",
        "      format(tf_idf_df.where(num_nonzeros(\"features\") == 0).count()))"
      ]
    },
    {
      "cell_type": "code",
      "execution_count": null,
      "metadata": {
        "id": "91W9fYNwvIev",
        "colab": {
          "base_uri": "https://localhost:8080/"
        },
        "outputId": "22f44667-f7ce-4ffa-d84e-0ac9cfe7d09f"
      },
      "outputs": [
        {
          "output_type": "stream",
          "name": "stdout",
          "text": [
            "Garbage collector: collected 97 objects\n"
          ]
        }
      ],
      "source": [
        "print(\"Garbage collector: collected %d objects\" % (gc.collect()))"
      ]
    },
    {
      "cell_type": "markdown",
      "metadata": {
        "id": "ZE2DTA2NdfSA"
      },
      "source": [
        "# **K-means Clustering**"
      ]
    },
    {
      "cell_type": "markdown",
      "metadata": {
        "id": "jPdq2yVE9LzC"
      },
      "source": [
        "### Function used for running K-means"
      ]
    },
    {
      "cell_type": "code",
      "execution_count": null,
      "metadata": {
        "id": "JP1deqVUurtB"
      },
      "outputs": [],
      "source": [
        "def k_means(dataset,\n",
        "            n_clusters,\n",
        "            distance_measure=\"euclidean\",\n",
        "            max_iter=20,\n",
        "            features_col=\"features\",\n",
        "            prediction_col=\"cluster\",\n",
        "            random_seed=RANDOM_SEED):\n",
        "\n",
        "  from pyspark.ml.clustering import KMeans\n",
        "  from pyspark.ml.feature import Normalizer\n",
        "\n",
        "  print(\"\"\"Training K-means clustering using the following parameters:\n",
        "  - K (n. of clusters) = {:d}\n",
        "  - max_iter (max n. of iterations) = {:d}\n",
        "  - distance measure = {:s}\n",
        "  - random seed = {:d}\n",
        "  \"\"\".format(n_clusters, max_iter, distance_measure, random_seed))\n",
        "\n",
        "  if distance_measure == \"cosine\":\n",
        "      # Normalize inputs to unit-length vectors\n",
        "      dataset = Normalizer(inputCol=features_col, outputCol=features_col+\"_norm\", p=1).transform(dataset)\n",
        "      features_col = features_col+\"_norm\"\n",
        "  # Train a K-means model\n",
        "  kmeans = KMeans(featuresCol=features_col,\n",
        "                   predictionCol=prediction_col,\n",
        "                   k=n_clusters,\n",
        "                   initMode=\"k-means||\",\n",
        "                   initSteps=5,\n",
        "                   tol=0.000001,\n",
        "                   maxIter=max_iter,\n",
        "                   seed=random_seed,\n",
        "                   distanceMeasure=distance_measure)\n",
        "  model = kmeans.fit(dataset)\n",
        "\n",
        "  # Make clusters\n",
        "  clusters_df = model.transform(dataset)\n",
        "\n",
        "  return model, clusters_df"
      ]
    },
    {
      "cell_type": "markdown",
      "metadata": {
        "id": "pi3FUnyx9ZWi"
      },
      "source": [
        "### Function used to evaluate obtained clusters"
      ]
    },
    {
      "cell_type": "code",
      "execution_count": null,
      "metadata": {
        "id": "nZTOi7TWvcXJ"
      },
      "outputs": [],
      "source": [
        "def evaluate_k_means(clusters,\n",
        "                     metric_name=\"silhouette\",\n",
        "                     distance_measure=\"squaredEuclidean\", # cosine\n",
        "                     prediction_col=\"cluster\"\n",
        "                     ):\n",
        "\n",
        "  from pyspark.ml.evaluation import ClusteringEvaluator\n",
        "\n",
        "  # Evaluate clustering by computing Silhouette score\n",
        "  evaluator = ClusteringEvaluator(metricName=metric_name,\n",
        "                                  distanceMeasure=distance_measure,\n",
        "                                  predictionCol=prediction_col\n",
        "                                  )\n",
        "\n",
        "  return evaluator.evaluate(clusters)"
      ]
    },
    {
      "cell_type": "markdown",
      "metadata": {
        "id": "sYb2BV7JNaJ9"
      },
      "source": [
        "### Select the Best Value of K with the Elbow Method"
      ]
    },
    {
      "cell_type": "code",
      "execution_count": null,
      "metadata": {
        "id": "pWtUbOOvNhiE"
      },
      "outputs": [],
      "source": [
        "def do_clustering():\n",
        "    clustering_results = {}\n",
        "    for k in range(5, MAX_K_CLUSTERS + 1, 5):\n",
        "        print(\"Running K-means using K = {:d}\".format(k))\n",
        "        model, clusters_df = k_means(tf_idf_df, k, max_iter=50, distance_measure=\"cosine\") # Alternatively, distance_measure=\"euclidean\"\n",
        "        silhouette_k = evaluate_k_means(clusters_df, distance_measure=\"cosine\") # Alternatively, distance_measure=\"squaredEuclidean\"\n",
        "        wssd_k = model.summary.trainingCost\n",
        "        print(\"Silhouette coefficient computed with cosine distance: {:.3f}\".format(silhouette_k))\n",
        "        print(\"Within-cluster Sum of Squared Distances (using cosine distance): {:.3f}\".format(wssd_k))\n",
        "        print(\"--------------------------------------------------------------------------------------\")\n",
        "        clustering_results[k] = (silhouette_k, wssd_k)\n",
        "        # Free up memory space at the end of each iteration\n",
        "        del model\n",
        "        del clusters_df\n",
        "        gc.collect()\n",
        "    return clustering_results"
      ]
    },
    {
      "cell_type": "code",
      "execution_count": null,
      "metadata": {
        "id": "JjmgjmDCzpOW",
        "colab": {
          "base_uri": "https://localhost:8080/"
        },
        "outputId": "2ae8b9ce-0f26-42cd-c24f-2fc56cc20c7f"
      },
      "outputs": [
        {
          "output_type": "stream",
          "name": "stdout",
          "text": [
            "Running K-means using K = 5\n",
            "Training K-means clustering using the following parameters: \n",
            "  - K (n. of clusters) = 5\n",
            "  - max_iter (max n. of iterations) = 50\n",
            "  - distance measure = cosine\n",
            "  - random seed = 42\n",
            "  \n",
            "Silhouette coefficient computed with cosine distance: 0.175\n",
            "Within-cluster Sum of Squared Distances (using cosine distance): 7724.345\n",
            "--------------------------------------------------------------------------------------\n",
            "Running K-means using K = 10\n",
            "Training K-means clustering using the following parameters: \n",
            "  - K (n. of clusters) = 10\n",
            "  - max_iter (max n. of iterations) = 50\n",
            "  - distance measure = cosine\n",
            "  - random seed = 42\n",
            "  \n",
            "Silhouette coefficient computed with cosine distance: 0.238\n",
            "Within-cluster Sum of Squared Distances (using cosine distance): 6469.251\n",
            "--------------------------------------------------------------------------------------\n"
          ]
        }
      ],
      "source": [
        "clustering_results = do_clustering()"
      ]
    },
    {
      "cell_type": "code",
      "execution_count": null,
      "metadata": {
        "id": "JGNn4X6tz5mQ"
      },
      "outputs": [],
      "source": [
        "def plot_clustering_results(clustering_results):\n",
        "    # load the dictionary into pandas\n",
        "    df = pd.DataFrame.from_dict(clustering_results, orient='index').reset_index()\n",
        "    df.columns = ['K','Silhouette', 'WSSD']\n",
        "    # Create a 1x1 figure\n",
        "    fig, ax = plt.subplots(1,1, figsize=(8,6))\n",
        "\n",
        "    _ = sns.pointplot(data=df, x=\"K\", y=\"WSSD\", ax=ax, color=\"orangered\")\n",
        "    _ = ax.set_xlabel(\"K\")\n",
        "    _ = ax.set_ylabel(\"WSSD\")"
      ]
    },
    {
      "cell_type": "code",
      "execution_count": null,
      "metadata": {
        "id": "DrOIVGaQ2uF3",
        "colab": {
          "base_uri": "https://localhost:8080/",
          "height": 521
        },
        "outputId": "73072a3a-75b8-4780-db89-caf2d9fea07a"
      },
      "outputs": [
        {
          "output_type": "display_data",
          "data": {
            "text/plain": [
              "<Figure size 800x600 with 1 Axes>"
            ],
            "image/png": "[encoded data removed]"
          },
          "metadata": {}
        }
      ],
      "source": [
        "plot_clustering_results(clustering_results)"
      ]
    },
    {
      "cell_type": "code",
      "execution_count": null,
      "metadata": {
        "id": "Q_1-52c-HtVh",
        "colab": {
          "base_uri": "https://localhost:8080/"
        },
        "outputId": "91158558-b82b-42ce-f180-7411971b1f71"
      },
      "outputs": [
        {
          "output_type": "stream",
          "name": "stdout",
          "text": [
            "Running K-means using K = 10\n",
            "Training K-means clustering using the following parameters: \n",
            "  - K (n. of clusters) = 10\n",
            "  - max_iter (max n. of iterations) = 50\n",
            "  - distance measure = cosine\n",
            "  - random seed = 42\n",
            "  \n"
          ]
        },
        {
          "output_type": "execute_result",
          "data": {
            "text/plain": [
              "DataFrame[Salary range: string, Location: string, Tier: string, Experience requirement: string, Education requirements: string, Job title: string, tokens: array<string>, terms: array<string>, terms_stemmed: array<string>, tf_features: vector, features: vector, features_norm: vector, cluster: int]"
            ]
          },
          "metadata": {},
          "execution_count": 43
        }
      ],
      "source": [
        "K=10 # Best value of K (whatever this is!)\n",
        "print(\"Running K-means using K = {:d}\".format(K))\n",
        "model, clusters_df = k_means(tf_idf_df, K, max_iter=50, distance_measure=\"cosine\")\n",
        "clusters_df.cache()"
      ]
    },
    {
      "cell_type": "markdown",
      "metadata": {
        "id": "Ou7T2HynjlmA"
      },
      "source": [
        "### Inspect some clusters"
      ]
    },
    {
      "cell_type": "code",
      "execution_count": null,
      "metadata": {
        "id": "O2MLijHVJHIi",
        "colab": {
          "base_uri": "https://localhost:8080/"
        },
        "outputId": "b1ba6c5a-6940-4f6f-d4ad-893da727e443"
      },
      "outputs": [
        {
          "output_type": "stream",
          "name": "stdout",
          "text": [
            "+-------+-----+\n",
            "|cluster|count|\n",
            "+-------+-----+\n",
            "|      0| 1156|\n",
            "|      1| 4183|\n",
            "|      2|  321|\n",
            "|      3| 1567|\n",
            "|      4|  614|\n",
            "|      5| 1096|\n",
            "|      6| 1379|\n",
            "|      7|  669|\n",
            "|      8| 1370|\n",
            "|      9| 1692|\n",
            "+-------+-----+\n",
            "\n"
          ]
        }
      ],
      "source": [
        "clusters_df.groupBy(\"cluster\").count().sort(\"cluster\").show()"
      ]
    },
    {
      "cell_type": "code",
      "execution_count": null,
      "metadata": {
        "id": "Qqft7DRcHUoG",
        "colab": {
          "base_uri": "https://localhost:8080/"
        },
        "outputId": "7c2d71f2-b379-45b1-c8d7-ab6bc01ca781"
      },
      "outputs": [
        {
          "output_type": "stream",
          "name": "stdout",
          "text": [
            "Cluster IDs: [0, 1, 2, 3, 4, 5, 6, 7, 8, 9]\n",
            "Showing the first 20 records of cluster ID #0\n",
            "+-------+---------------------------------------------------------------------------------------+------------+---------+---------------------+-----------------------+----------------------+\n",
            "|cluster|Job title                                                                              |Salary range|Location |Tier                 |Experience requirement |Education requirements|\n",
            "+-------+---------------------------------------------------------------------------------------+------------+---------+---------------------+-----------------------+----------------------+\n",
            "|0      |big data statistics assistant wrapdouble break                                         |(B)[4K-8K)  |Shenzhen |First-tier cities    |(C)Experience unlimited|(B)Secondary Education|\n",
            "|0      |data entry clerk                                                                       |(B)[4K-8K)  |Tianjin  |New first-tier cities|(C)Experience unlimited|(B)Secondary Education|\n",
            "|0      |financial accounting                                                                   |(B)[4K-8K)  |Tianjin  |New first-tier cities|(A)1-3 years           |(B)Secondary Education|\n",
            "|0      |financial sharing centeraccounts receivable accounting wuhan                           |(B)[4K-8K)  |Wuhan    |New first-tier cities|(C)Experience unlimited|(C)Undergraduate      |\n",
            "|0      |statistics clerk weekend closed to                                                     |(B)[4K-8K)  |Xi'an    |New first-tier cities|(C)Experience unlimited|(B)Secondary Education|\n",
            "|0      |statistics clerk easy k paid annual leave                                              |(B)[4K-8K)  |Xi'an    |New first-tier cities|(C)Experience unlimited|(B)Secondary Education|\n",
            "|0      |data specialist weekend break five insurances one gold annual leave and winter vacation|(B)[4K-8K)  |Shenyang |New first-tier cities|(A)1-3 years           |(B)Secondary Education|\n",
            "|0      |recruiter                                                                              |(B)[4K-8K)  |Wuhan    |New first-tier cities|(A)1-3 years           |(B)Secondary Education|\n",
            "|0      |logistics data statistician double breakfive insurance and one goldeasy and stable     |(B)[4K-8K)  |Chengdu  |New first-tier cities|(C)Experience unlimited|(B)Secondary Education|\n",
            "|0      |data statistics analystdouble leave                                                    |(B)[4K-8K)  |Guangzhou|First-tier cities    |(C)Experience unlimited|(B)Secondary Education|\n",
            "|0      |front desk clerk                                                                       |(B)[4K-8K)  |Hangzhou |New first-tier cities|(C)Experience unlimited|(B)Secondary Education|\n",
            "|0      |product data operationpaying five insurances and one gold for employmentweekend break  |(B)[4K-8K)  |Jinan    |Others               |(C)Experience unlimited|(C)Undergraduate      |\n",
            "|0      |database engineer five insurance and one gold listed company                           |(B)[4K-8K)  |Nanjing  |New first-tier cities|(A)1-3 years           |(C)Undergraduate      |\n",
            "|0      |statistics clerk civilian postaverage salary k paid internship                         |(B)[4K-8K)  |Xi'an    |New first-tier cities|(C)Experience unlimited|(B)Secondary Education|\n",
            "|0      |k financial data analystfive insurance and one goldweekend breakpaid annual leave      |(B)[4K-8K)  |Xi'an    |New first-tier cities|(A)1-3 years           |(C)Undergraduate      |\n",
            "|0      |statistical commissioner                                                               |(B)[4K-8K)  |Xi'an    |New first-tier cities|(A)1-3 years           |(C)Undergraduate      |\n",
            "|0      |general ledger accounting                                                              |(B)[4K-8K)  |Zhengzhou|New first-tier cities|(B)More than 3 years   |(B)Secondary Education|\n",
            "|0      |data statistics assistant five insurance and one gold                                  |(B)[4K-8K)  |Shenyang |New first-tier cities|(C)Experience unlimited|(B)Secondary Education|\n",
            "|0      |cataloging data clerk                                                                  |(B)[4K-8K)  |Guangzhou|First-tier cities    |(C)Experience unlimited|(C)Undergraduate      |\n",
            "|0      |data entry team leader                                                                 |(B)[4K-8K)  |Guangzhou|First-tier cities    |(B)More than 3 years   |(B)Secondary Education|\n",
            "+-------+---------------------------------------------------------------------------------------+------------+---------+---------------------+-----------------------+----------------------+\n",
            "only showing top 20 rows\n",
            "\n",
            "Showing the first 20 records of cluster ID #1\n",
            "+-------+---------------------------------------------------------------------+------------+---------+---------------------+-----------------------+----------------------+\n",
            "|cluster|Job title                                                            |Salary range|Location |Tier                 |Experience requirement |Education requirements|\n",
            "+-------+---------------------------------------------------------------------+------------+---------+---------------------+-----------------------+----------------------+\n",
            "|1      |data warehouse development engineer                                  |(G)Interview|Beijing  |First-tier cities    |(B)More than 3 years   |(C)Undergraduate      |\n",
            "|1      |big data college teachers                                            |(B)[4K-8K)  |Chengdu  |New first-tier cities|(A)1-3 years           |(C)Undergraduate      |\n",
            "|1      |pythonjava development engineer data mining and database construction|(F)>=20K    |Chengdu  |New first-tier cities|(A)1-3 years           |(D)Graduate           |\n",
            "|1      |big data rd engineer                                                 |(B)[4K-8K)  |Fuzhou   |Others               |(A)1-3 years           |(C)Undergraduate      |\n",
            "|1      |data operations assistantdouble salary at the end of the year        |(B)[4K-8K)  |Guangzhou|First-tier cities    |(C)Experience unlimited|(B)Secondary Education|\n",
            "|1      |big data development engineer                                        |(E)[16K-20K)|Guangzhou|First-tier cities    |(B)More than 3 years   |(C)Undergraduate      |\n",
            "|1      |senior big data engineer                                             |(F)>=20K    |Guangzhou|First-tier cities    |(B)More than 3 years   |(C)Undergraduate      |\n",
            "|1      |intermediate database engineering                                    |(D)[12K-16K)|Guangzhou|First-tier cities    |(B)More than 3 years   |(C)Undergraduate      |\n",
            "|1      |java development engineer                                            |(D)[12K-16K)|Guiyang  |Others               |(B)More than 3 years   |(C)Undergraduate      |\n",
            "|1      |technology and finance gang big data development direction           |(C)[8K-12K) |Hangzhou |New first-tier cities|(C)Experience unlimited|(C)Undergraduate      |\n",
            "|1      |data integration engineer                                            |(B)[4K-8K)  |Jinan    |Others               |(A)1-3 years           |(B)Secondary Education|\n",
            "|1      |etl engineer of big data                                             |(B)[4K-8K)  |Jinan    |Others               |(C)Experience unlimited|(B)Secondary Education|\n",
            "|1      |big data warehouse engineer                                          |(D)[12K-16K)|Nanjing  |New first-tier cities|(B)More than 3 years   |(C)Undergraduate      |\n",
            "|1      |intermediate big data development engineer                           |(E)[16K-20K)|Nanjing  |New first-tier cities|(B)More than 3 years   |(C)Undergraduate      |\n",
            "|1      |senior java development engineer                                     |(D)[12K-16K)|Nanjing  |New first-tier cities|(B)More than 3 years   |(C)Undergraduate      |\n",
            "|1      |spark development engineer                                           |(E)[16K-20K)|Nanjing  |New first-tier cities|(B)More than 3 years   |(C)Undergraduate      |\n",
            "|1      |etl development engineer                                             |(C)[8K-12K) |Xiamen   |Others               |(B)More than 3 years   |(C)Undergraduate      |\n",
            "|1      |data operation                                                       |(C)[8K-12K) |Shenzhen |First-tier cities    |(A)1-3 years           |(C)Undergraduate      |\n",
            "|1      |data processing engineer changsha                                    |(C)[8K-12K) |Wuxi     |New first-tier cities|(B)More than 3 years   |(C)Undergraduate      |\n",
            "|1      |oracledba senior engineer                                            |(C)[8K-12K) |Wuhan    |New first-tier cities|(B)More than 3 years   |(C)Undergraduate      |\n",
            "+-------+---------------------------------------------------------------------+------------+---------+---------------------+-----------------------+----------------------+\n",
            "only showing top 20 rows\n",
            "\n",
            "Showing the first 20 records of cluster ID #2\n",
            "+-------+------------------------------------------------------------------------------------+------------+---------+---------------------+-----------------------+----------------------+\n",
            "|cluster|Job title                                                                           |Salary range|Location |Tier                 |Experience requirement |Education requirements|\n",
            "+-------+------------------------------------------------------------------------------------+------------+---------+---------------------+-----------------------+----------------------+\n",
            "|2      |visual software engineer                                                            |(D)[12K-16K)|Tianjin  |New first-tier cities|(A)1-3 years           |(C)Undergraduate      |\n",
            "|2      |test intern engineer                                                                |(B)[4K-8K)  |Zhengzhou|New first-tier cities|(C)Experience unlimited|(B)Secondary Education|\n",
            "|2      |test engineer                                                                       |(B)[4K-8K)  |Hangzhou |New first-tier cities|(C)Experience unlimited|(C)Undergraduate      |\n",
            "|2      |software technical director project manager and java big data architect             |(F)>=20K    |Nanjing  |New first-tier cities|(B)More than 3 years   |(C)Undergraduate      |\n",
            "|2      |simulation software development engineer                                            |(D)[12K-16K)|Tianjin  |New first-tier cities|(B)More than 3 years   |(C)Undergraduate      |\n",
            "|2      |test engineer big data                                                              |(D)[12K-16K)|Guangzhou|First-tier cities    |(C)Experience unlimited|(C)Undergraduate      |\n",
            "|2      |senior software engineer hybris                                                     |(C)[8K-12K) |Tianjin  |New first-tier cities|(B)More than 3 years   |(C)Undergraduate      |\n",
            "|2      |junior software engineer                                                            |(B)[4K-8K)  |Wuhan    |New first-tier cities|(A)1-3 years           |(C)Undergraduate      |\n",
            "|2      |project manager bank software development direction java or data direction          |(F)>=20K    |Nanjing  |New first-tier cities|(B)More than 3 years   |(C)Undergraduate      |\n",
            "|2      |software technical support engineer                                                 |(D)[12K-16K)|Tianjin  |New first-tier cities|(B)More than 3 years   |(C)Undergraduate      |\n",
            "|2      |test data compilation clerk                                                         |(B)[4K-8K)  |Hefei    |New first-tier cities|(C)Experience unlimited|(E)Education Unlimited|\n",
            "|2      |data and test engineer                                                              |(C)[8K-12K) |Changsha |New first-tier cities|(B)More than 3 years   |(C)Undergraduate      |\n",
            "|2      |big data test engineer                                                              |(D)[12K-16K)|Shenzhen |First-tier cities    |(B)More than 3 years   |(B)Secondary Education|\n",
            "|2      |government projectautomation test managerperformance test manager big data direction|(F)>=20K    |Shenyang |New first-tier cities|(B)More than 3 years   |(B)Secondary Education|\n",
            "|2      |sales director industrial internet software project industry                        |(D)[12K-16K)|Tianjin  |New first-tier cities|(B)More than 3 years   |(C)Undergraduate      |\n",
            "|2      |data software account manager                                                       |(D)[12K-16K)|Beijing  |First-tier cities    |(A)1-3 years           |(C)Undergraduate      |\n",
            "|2      |software development centerdata security management consultant                      |(F)>=20K    |Beijing  |First-tier cities    |(B)More than 3 years   |(C)Undergraduate      |\n",
            "|2      |senior java hadoop big data software engineer                                       |(D)[12K-16K)|Shanghai |First-tier cities    |(B)More than 3 years   |(C)Undergraduate      |\n",
            "|2      |java software trainer web frontend trainerbig data development trainer              |(C)[8K-12K) |Dalian   |Others               |(B)More than 3 years   |(C)Undergraduate      |\n",
            "|2      |securities data software specialistproviding accommodation j                        |(B)[4K-8K)  |Guangzhou|First-tier cities    |(C)Experience unlimited|(C)Undergraduate      |\n",
            "+-------+------------------------------------------------------------------------------------+------------+---------+---------------------+-----------------------+----------------------+\n",
            "only showing top 20 rows\n",
            "\n",
            "Showing the first 20 records of cluster ID #3\n",
            "+-------+--------------------------------------------------------+------------+---------+---------------------+-----------------------+----------------------+\n",
            "|cluster|Job title                                               |Salary range|Location |Tier                 |Experience requirement |Education requirements|\n",
            "+-------+--------------------------------------------------------+------------+---------+---------------------+-----------------------+----------------------+\n",
            "|3      |data visualization engineer assistant can practice for k|(B)[4K-8K)  |Beijing  |First-tier cities    |(C)Experience unlimited|(B)Secondary Education|\n",
            "|3      |data assistant                                          |(B)[4K-8K)  |Chengdu  |New first-tier cities|(A)1-3 years           |(C)Undergraduate      |\n",
            "|3      |a clerk data analysis assistant is urgently hired       |(A)<4K      |Dalian   |Others               |(A)1-3 years           |(C)Undergraduate      |\n",
            "|3      |data analysis assistant                                 |(B)[4K-8K)  |Guangzhou|First-tier cities    |(C)Experience unlimited|(C)Undergraduate      |\n",
            "|3      |big data analysis assistant                             |(B)[4K-8K)  |Guiyang  |Others               |(C)Experience unlimited|(B)Secondary Education|\n",
            "|3      |data analysis engineer                                  |(C)[8K-12K) |Jinan    |Others               |(B)More than 3 years   |(C)Undergraduate      |\n",
            "|3      |data analysis                                           |(C)[8K-12K) |Shanghai |First-tier cities    |(A)1-3 years           |(C)Undergraduate      |\n",
            "|3      |intern project assistant government coordination        |(B)[4K-8K)  |Tianjin  |New first-tier cities|(C)Experience unlimited|(B)Secondary Education|\n",
            "|3      |mt strategy analysis                                    |(B)[4K-8K)  |Tianjin  |New first-tier cities|(C)Experience unlimited|(E)Education Unlimited|\n",
            "|3      |data analysis assistant                                 |(B)[4K-8K)  |Xi'an    |New first-tier cities|(C)Experience unlimited|(B)Secondary Education|\n",
            "|3      |data analysis engineerchongqing                         |(C)[8K-12K) |Chongqing|New first-tier cities|(A)1-3 years           |(C)Undergraduate      |\n",
            "|3      |data analysis on weekends                               |(B)[4K-8K)  |Chengdu  |New first-tier cities|(C)Experience unlimited|(C)Undergraduate      |\n",
            "|3      |ecommerce data analysis                                 |(C)[8K-12K) |Hefei    |New first-tier cities|(A)1-3 years           |(C)Undergraduate      |\n",
            "|3      |financial data analysis                                 |(B)[4K-8K)  |Shenyang |New first-tier cities|(C)Experience unlimited|(C)Undergraduate      |\n",
            "|3      |head of data analysis                                   |(B)[4K-8K)  |Changsha |New first-tier cities|(B)More than 3 years   |(B)Secondary Education|\n",
            "|3      |planning data analysis chengduchongqingxi an            |(E)[16K-20K)|Chongqing|New first-tier cities|(A)1-3 years           |(C)Undergraduate      |\n",
            "|3      |big data analysis                                       |(F)>=20K    |Chengdu  |New first-tier cities|(B)More than 3 years   |(C)Undergraduate      |\n",
            "|3      |manager of promotion and data analysis                  |(F)>=20K    |Guangzhou|First-tier cities    |(B)More than 3 years   |(C)Undergraduate      |\n",
            "|3      |new media data analysis assistantwrapdouble break       |(B)[4K-8K)  |Shenzhen |First-tier cities    |(C)Experience unlimited|(B)Secondary Education|\n",
            "|3      |police coordination statistical analysis of data        |(B)[4K-8K)  |Shenzhen |First-tier cities    |(C)Experience unlimited|(C)Undergraduate      |\n",
            "+-------+--------------------------------------------------------+------------+---------+---------------------+-----------------------+----------------------+\n",
            "only showing top 20 rows\n",
            "\n",
            "Showing the first 20 records of cluster ID #4\n",
            "+-------+---------------------------------------------------------------------+------------+---------+---------------------+-----------------------+----------------------+\n",
            "|cluster|Job title                                                            |Salary range|Location |Tier                 |Experience requirement |Education requirements|\n",
            "+-------+---------------------------------------------------------------------+------------+---------+---------------------+-----------------------+----------------------+\n",
            "|4      |data clerk civilian post                                             |(G)Interview|Dalian   |Others               |(A)1-3 years           |(B)Secondary Education|\n",
            "|4      |data center infrastructure shift supervisor                          |(B)[4K-8K)  |Guangzhou|First-tier cities    |(C)Experience unlimited|(E)Education Unlimited|\n",
            "|4      |aftersales data analysis post                                        |(C)[8K-12K) |Shanghai |First-tier cities    |(A)1-3 years           |(C)Undergraduate      |\n",
            "|4      |data maintenance engineerdata maintenance supervisor                 |(C)[8K-12K) |Guangzhou|First-tier cities    |(A)1-3 years           |(C)Undergraduate      |\n",
            "|4      |todays headline data marks the post                                  |(B)[4K-8K)  |Jinan    |Others               |(C)Experience unlimited|(C)Undergraduate      |\n",
            "|4      |presales technical support                                           |(C)[8K-12K) |Zhengzhou|New first-tier cities|(A)1-3 years           |(B)Secondary Education|\n",
            "|4      |maintenance of subway parts                                          |(B)[4K-8K)  |Chongqing|New first-tier cities|(A)1-3 years           |(E)Education Unlimited|\n",
            "|4      |sasrpython data analysis and mining modeling post of bank            |(D)[12K-16K)|Shenzhen |First-tier cities    |(C)Experience unlimited|(C)Undergraduate      |\n",
            "|4      |computer technical engineer                                          |(B)[4K-8K)  |Wuhan    |New first-tier cities|(A)1-3 years           |(E)Education Unlimited|\n",
            "|4      |claims actuarialdata analysis post                                   |(B)[4K-8K)  |Jinan    |Others               |(A)1-3 years           |(C)Undergraduate      |\n",
            "|4      |data management departmentdata architecture and model management post|(G)Interview|Beijing  |First-tier cities    |(B)More than 3 years   |(C)Undergraduate      |\n",
            "|4      |data support                                                         |(C)[8K-12K) |Beijing  |First-tier cities    |(C)Experience unlimited|(B)Secondary Education|\n",
            "|4      |data director                                                        |(F)>=20K    |Guangzhou|First-tier cities    |(B)More than 3 years   |(C)Undergraduate      |\n",
            "|4      |consulting supervisor data post                                      |(B)[4K-8K)  |Hangzhou |New first-tier cities|(C)Experience unlimited|(C)Undergraduate      |\n",
            "|4      |overall designer of data center jinan                                |(D)[12K-16K)|Jinan    |Others               |(C)Experience unlimited|(C)Undergraduate      |\n",
            "|4      |information collector                                                |(B)[4K-8K)  |Xi'an    |New first-tier cities|(C)Experience unlimited|(C)Undergraduate      |\n",
            "|4      |data management post                                                 |(C)[8K-12K) |Beijing  |First-tier cities    |(A)1-3 years           |(C)Undergraduate      |\n",
            "|4      |data analysis modeling post                                          |(C)[8K-12K) |Jinan    |Others               |(A)1-3 years           |(C)Undergraduate      |\n",
            "|4      |data director                                                        |(F)>=20K    |Shenzhen |First-tier cities    |(B)More than 3 years   |(C)Undergraduate      |\n",
            "|4      |data analysis post                                                   |(C)[8K-12K) |Wuhan    |New first-tier cities|(B)More than 3 years   |(B)Secondary Education|\n",
            "+-------+---------------------------------------------------------------------+------------+---------+---------------------+-----------------------+----------------------+\n",
            "only showing top 20 rows\n",
            "\n",
            "Showing the first 20 records of cluster ID #5\n",
            "+-------+---------------------------------------------------------------------------------+------------+------------+---------------------+-----------------------+----------------------+\n",
            "|cluster|Job title                                                                        |Salary range|Location    |Tier                 |Experience requirement |Education requirements|\n",
            "+-------+---------------------------------------------------------------------------------+------------+------------+---------------------+-----------------------+----------------------+\n",
            "|5      |data return visit specialist                                                     |(B)[4K-8K)  |Chengdu     |New first-tier cities|(A)1-3 years           |(B)Secondary Education|\n",
            "|5      |internet data analysis specialist                                                |(B)[4K-8K)  |Chengdu     |New first-tier cities|(C)Experience unlimited|(B)Secondary Education|\n",
            "|5      |data specialist                                                                  |(B)[4K-8K)  |Hangzhou    |New first-tier cities|(C)Experience unlimited|(B)Secondary Education|\n",
            "|5      |data operations specialist                                                       |(B)[4K-8K)  |Shenzhen    |First-tier cities    |(C)Experience unlimited|(B)Secondary Education|\n",
            "|5      |data specialist                                                                  |(B)[4K-8K)  |Shenyang    |New first-tier cities|(A)1-3 years           |(B)Secondary Education|\n",
            "|5      |data analysis specialist                                                         |(G)Interview|Shijiazhuang|Others               |(A)1-3 years           |(C)Undergraduate      |\n",
            "|5      |data analysis specialist                                                         |(B)[4K-8K)  |Wuhan       |New first-tier cities|(A)1-3 years           |(C)Undergraduate      |\n",
            "|5      |operational statistics specialist                                                |(A)<4K      |Xi'an       |New first-tier cities|(A)1-3 years           |(B)Secondary Education|\n",
            "|5      |data analysis specialist                                                         |(B)[4K-8K)  |Zhengzhou   |New first-tier cities|(C)Experience unlimited|(B)Secondary Education|\n",
            "|5      |big data specialist salaries                                                     |(B)[4K-8K)  |Beijing     |First-tier cities    |(C)Experience unlimited|(B)Secondary Education|\n",
            "|5      |procurement data analysis specialist                                             |(B)[4K-8K)  |Dalian      |Others               |(A)1-3 years           |(C)Undergraduate      |\n",
            "|5      |data analysis specialist kk six insurance and one golddomestic and foreign travel|(B)[4K-8K)  |Guangzhou   |First-tier cities    |(C)Experience unlimited|(B)Secondary Education|\n",
            "|5      |asset data specialist hangzhou                                                   |(B)[4K-8K)  |Hangzhou    |New first-tier cities|(C)Experience unlimited|(B)Secondary Education|\n",
            "|5      |data analysis specialist                                                         |(B)[4K-8K)  |Jinan       |Others               |(A)1-3 years           |(C)Undergraduate      |\n",
            "|5      |data specialist                                                                  |(B)[4K-8K)  |Changsha    |New first-tier cities|(C)Experience unlimited|(B)Secondary Education|\n",
            "|5      |data analysis specialist                                                         |(B)[4K-8K)  |Chongqing   |New first-tier cities|(C)Experience unlimited|(B)Secondary Education|\n",
            "|5      |data specialist                                                                  |(B)[4K-8K)  |Chengdu     |New first-tier cities|(A)1-3 years           |(B)Secondary Education|\n",
            "|5      |the data marketing specialist has a double break                                 |(B)[4K-8K)  |Hefei       |New first-tier cities|(C)Experience unlimited|(B)Secondary Education|\n",
            "|5      |personnel data specialist takes k off                                            |(B)[4K-8K)  |Hefei       |New first-tier cities|(A)1-3 years           |(B)Secondary Education|\n",
            "|5      |senior data operations specialist                                                |(C)[8K-12K) |Shenzhen    |First-tier cities    |(A)1-3 years           |(C)Undergraduate      |\n",
            "+-------+---------------------------------------------------------------------------------+------------+------------+---------------------+-----------------------+----------------------+\n",
            "only showing top 20 rows\n",
            "\n",
            "Showing the first 20 records of cluster ID #6\n",
            "+-------+--------------------------------------------------------+------------+---------+---------------------+-----------------------+----------------------+\n",
            "|cluster|Job title                                               |Salary range|Location |Tier                 |Experience requirement |Education requirements|\n",
            "+-------+--------------------------------------------------------+------------+---------+---------------------+-----------------------+----------------------+\n",
            "|6      |financial data analyst                                  |(C)[8K-12K) |Chengdu  |New first-tier cities|(A)1-3 years           |(C)Undergraduate      |\n",
            "|6      |financial data analyst transparent promotiondouble break|(B)[4K-8K)  |Guangzhou|First-tier cities    |(C)Experience unlimited|(C)Undergraduate      |\n",
            "|6      |bi data analyst                                         |(D)[12K-16K)|Hangzhou |New first-tier cities|(B)More than 3 years   |(B)Secondary Education|\n",
            "|6      |data analyst j                                          |(D)[12K-16K)|Hangzhou |New first-tier cities|(A)1-3 years           |(C)Undergraduate      |\n",
            "|6      |patent search analyst                                   |(D)[12K-16K)|Xi'an    |New first-tier cities|(C)Experience unlimited|(C)Undergraduate      |\n",
            "|6      |senior data analyst business operations                 |(G)Interview|Beijing  |First-tier cities    |(A)1-3 years           |(C)Undergraduate      |\n",
            "|6      |data analyst                                            |(D)[12K-16K)|Beijing  |First-tier cities    |(C)Experience unlimited|(E)Education Unlimited|\n",
            "|6      |data analyst information security direction             |(C)[8K-12K) |Chengdu  |New first-tier cities|(A)1-3 years           |(C)Undergraduate      |\n",
            "|6      |data analyst advertising sales side                     |(G)Interview|Shenzhen |First-tier cities    |(A)1-3 years           |(C)Undergraduate      |\n",
            "|6      |data analyst                                            |(D)[12K-16K)|Tianjin  |New first-tier cities|(B)More than 3 years   |(B)Secondary Education|\n",
            "|6      |data analyst intelligent manufacturing                  |(D)[12K-16K)|Xi'an    |New first-tier cities|(A)1-3 years           |(D)Graduate           |\n",
            "|6      |data analyst                                            |(B)[4K-8K)  |Zhengzhou|New first-tier cities|(B)More than 3 years   |(E)Education Unlimited|\n",
            "|6      |data analyst                                            |(E)[16K-20K)|Beijing  |First-tier cities    |(B)More than 3 years   |(C)Undergraduate      |\n",
            "|6      |assistant financial data analyst                        |(B)[4K-8K)  |Tianjin  |New first-tier cities|(A)1-3 years           |(B)Secondary Education|\n",
            "|6      |senior analyst of strategic intelligence big data       |(E)[16K-20K)|Wuhan    |New first-tier cities|(B)More than 3 years   |(D)Graduate           |\n",
            "|6      |information project demand analyst                      |(D)[12K-16K)|Wuhan    |New first-tier cities|(A)1-3 years           |(C)Undergraduate      |\n",
            "|6      |financial data analyst                                  |(B)[4K-8K)  |Xi'an    |New first-tier cities|(A)1-3 years           |(C)Undergraduate      |\n",
            "|6      |data analyst                                            |(E)[16K-20K)|Xi'an    |New first-tier cities|(B)More than 3 years   |(C)Undergraduate      |\n",
            "|6      |data analyst                                            |(C)[8K-12K) |Changsha |New first-tier cities|(B)More than 3 years   |(C)Undergraduate      |\n",
            "|6      |intern data analyst                                     |(A)<4K      |Beijing  |First-tier cities    |(C)Experience unlimited|(C)Undergraduate      |\n",
            "+-------+--------------------------------------------------------+------------+---------+---------------------+-----------------------+----------------------+\n",
            "only showing top 20 rows\n",
            "\n",
            "Showing the first 20 records of cluster ID #7\n",
            "+-------+---------------------------------------------------------------------+------------+---------+---------------------+-----------------------+----------------------+\n",
            "|cluster|Job title                                                            |Salary range|Location |Tier                 |Experience requirement |Education requirements|\n",
            "+-------+---------------------------------------------------------------------+------------+---------+---------------------+-----------------------+----------------------+\n",
            "|7      |administrative assistant and front desk                              |(B)[4K-8K)  |Hangzhou |New first-tier cities|(C)Experience unlimited|(E)Education Unlimited|\n",
            "|7      |market research specialist                                           |(B)[4K-8K)  |Jinan    |Others               |(A)1-3 years           |(B)Secondary Education|\n",
            "|7      |consumer research                                                    |(D)[12K-16K)|Wuhan    |New first-tier cities|(B)More than 3 years   |(C)Undergraduate      |\n",
            "|7      |data research specialist                                             |(C)[8K-12K) |Beijing  |First-tier cities    |(C)Experience unlimited|(C)Undergraduate      |\n",
            "|7      |logistics customer service free accommodationbonus                   |(B)[4K-8K)  |Hangzhou |New first-tier cities|(C)Experience unlimited|(B)Secondary Education|\n",
            "|7      |senior data administrator                                            |(C)[8K-12K) |Guangzhou|First-tier cities    |(B)More than 3 years   |(C)Undergraduate      |\n",
            "|7      |head of guest research g                                             |(D)[12K-16K)|Guiyang  |Others               |(B)More than 3 years   |(C)Undergraduate      |\n",
            "|7      |research director of energy saving and new energy automobile industry|(D)[12K-16K)|Tianjin  |New first-tier cities|(B)More than 3 years   |(D)Graduate           |\n",
            "|7      |innovation research and customer research specialist                 |(C)[8K-12K) |Tianjin  |New first-tier cities|(A)1-3 years           |(C)Undergraduate      |\n",
            "|7      |market research specialist                                           |(B)[4K-8K)  |Chongqing|New first-tier cities|(C)Experience unlimited|(C)Undergraduate      |\n",
            "|7      |administrative commissioner                                          |(B)[4K-8K)  |Hangzhou |New first-tier cities|(C)Experience unlimited|(B)Secondary Education|\n",
            "|7      |professional manager of market research                              |(E)[16K-20K)|Jinan    |Others               |(B)More than 3 years   |(C)Undergraduate      |\n",
            "|7      |sr cdc senior clinical data administrator                            |(D)[12K-16K)|Nanjing  |New first-tier cities|(C)Experience unlimited|(C)Undergraduate      |\n",
            "|7      |k market data assistantdouble restwrap                               |(B)[4K-8K)  |Shenzhen |First-tier cities    |(C)Experience unlimited|(B)Secondary Education|\n",
            "|7      |market researchmarketingtelemarketing                                |(B)[4K-8K)  |Wuhan    |New first-tier cities|(A)1-3 years           |(B)Secondary Education|\n",
            "|7      |integrated marketing industry big data                               |(D)[12K-16K)|Nanjing  |New first-tier cities|(B)More than 3 years   |(C)Undergraduate      |\n",
            "|7      |manpower sharing centeronsite customer service consultant            |(B)[4K-8K)  |Wuhan    |New first-tier cities|(C)Experience unlimited|(C)Undergraduate      |\n",
            "|7      |clinical data administrator                                          |(B)[4K-8K)  |Wuhan    |New first-tier cities|(A)1-3 years           |(C)Undergraduate      |\n",
            "|7      |researcher                                                           |(B)[4K-8K)  |Wuhan    |New first-tier cities|(A)1-3 years           |(C)Undergraduate      |\n",
            "|7      |market research                                                      |(D)[12K-16K)|Wuhan    |New first-tier cities|(C)Experience unlimited|(E)Education Unlimited|\n",
            "+-------+---------------------------------------------------------------------+------------+---------+---------------------+-----------------------+----------------------+\n",
            "only showing top 20 rows\n",
            "\n",
            "Showing the first 20 records of cluster ID #8\n",
            "+-------+------------------------------------------------------------------------------+------------+------------+---------------------+-----------------------+----------------------+\n",
            "|cluster|Job title                                                                     |Salary range|Location    |Tier                 |Experience requirement |Education requirements|\n",
            "+-------+------------------------------------------------------------------------------+------------+------------+---------------------+-----------------------+----------------------+\n",
            "|8      |hr specialistpartial data                                                     |(D)[12K-16K)|Shanghai    |First-tier cities    |(B)More than 3 years   |(C)Undergraduate      |\n",
            "|8      |data processing                                                               |(B)[4K-8K)  |Shenyang    |New first-tier cities|(A)1-3 years           |(C)Undergraduate      |\n",
            "|8      |data statistician                                                             |(B)[4K-8K)  |Wuhan       |New first-tier cities|(C)Experience unlimited|(B)Secondary Education|\n",
            "|8      |data processing specialistcivil basic salary yuanmonthperformance bonussubsidy|(B)[4K-8K)  |Chengdu     |New first-tier cities|(C)Experience unlimited|(B)Secondary Education|\n",
            "|8      |data annotation                                                               |(G)Interview|Chengdu     |New first-tier cities|(C)Experience unlimited|(E)Education Unlimited|\n",
            "|8      |data annotator can practice                                                   |(B)[4K-8K)  |Chengdu     |New first-tier cities|(C)Experience unlimited|(B)Secondary Education|\n",
            "|8      |data optimization                                                             |(B)[4K-8K)  |Guangzhou   |First-tier cities    |(A)1-3 years           |(B)Secondary Education|\n",
            "|8      |data analysthefei                                                             |(C)[8K-12K) |Hefei       |New first-tier cities|(B)More than 3 years   |(C)Undergraduate      |\n",
            "|8      |data engineershenzhen                                                         |(D)[12K-16K)|Shenzhen    |First-tier cities    |(A)1-3 years           |(C)Undergraduate      |\n",
            "|8      |data processing specialistcivilian                                            |(B)[4K-8K)  |Xi'an       |New first-tier cities|(C)Experience unlimited|(B)Secondary Education|\n",
            "|8      |data annotation intern                                                        |(A)<4K      |Nanjing     |New first-tier cities|(C)Experience unlimited|(C)Undergraduate      |\n",
            "|8      |head office guan peisheng it data direction                                   |(C)[8K-12K) |Shenzhen    |First-tier cities    |(C)Experience unlimited|(C)Undergraduate      |\n",
            "|8      |office data librarian                                                         |(B)[4K-8K)  |Shijiazhuang|Others               |(C)Experience unlimited|(B)Secondary Education|\n",
            "|8      |data reduction                                                                |(B)[4K-8K)  |Xi'an       |New first-tier cities|(B)More than 3 years   |(B)Secondary Education|\n",
            "|8      |hightech design of distributed virtualized storage system                     |(C)[8K-12K) |Zhengzhou   |New first-tier cities|(A)1-3 years           |(D)Graduate           |\n",
            "|8      |advanced data operationschengdu j                                             |(C)[8K-12K) |Chengdu     |New first-tier cities|(B)More than 3 years   |(C)Undergraduate      |\n",
            "|8      |data coordinator intern hangzhou school recruitment                           |(B)[4K-8K)  |Hangzhou    |New first-tier cities|(C)Experience unlimited|(C)Undergraduate      |\n",
            "|8      |data analystdouble leave                                                      |(B)[4K-8K)  |Xi'an       |New first-tier cities|(C)Experience unlimited|(C)Undergraduate      |\n",
            "|8      |shuangxiuart design                                                           |(B)[4K-8K)  |Chongqing   |New first-tier cities|(C)Experience unlimited|(E)Education Unlimited|\n",
            "|8      |statistician                                                                  |(A)<4K      |Chongqing   |New first-tier cities|(A)1-3 years           |(B)Secondary Education|\n",
            "+-------+------------------------------------------------------------------------------+------------+------------+---------------------+-----------------------+----------------------+\n",
            "only showing top 20 rows\n",
            "\n",
            "Showing the first 20 records of cluster ID #9\n",
            "+-------+---------------------------------------------------------+------------+------------+---------------------+-----------------------+----------------------+\n",
            "|cluster|Job title                                                |Salary range|Location    |Tier                 |Experience requirement |Education requirements|\n",
            "+-------+---------------------------------------------------------+------------+------------+---------------------+-----------------------+----------------------+\n",
            "|9      |data management consultantdata quality direction         |(D)[12K-16K)|Beijing     |First-tier cities    |(B)More than 3 years   |(B)Secondary Education|\n",
            "|9      |data product manager                                     |(F)>=20K    |Chengdu     |New first-tier cities|(B)More than 3 years   |(B)Secondary Education|\n",
            "|9      |senior regional sales manager                            |(C)[8K-12K) |Nanjing     |New first-tier cities|(A)1-3 years           |(B)Secondary Education|\n",
            "|9      |data center product manager                              |(F)>=20K    |Ningbo      |Others               |(B)More than 3 years   |(C)Undergraduate      |\n",
            "|9      |senior data programming managerdata programming manager j|(F)>=20K    |Shanghai    |First-tier cities    |(B)More than 3 years   |(D)Graduate           |\n",
            "|9      |idc data center computer room project manager            |(C)[8K-12K) |Shijiazhuang|Others               |(A)1-3 years           |(B)Secondary Education|\n",
            "|9      |project assistantpublic management direction             |(B)[4K-8K)  |Changchun   |Others               |(A)1-3 years           |(C)Undergraduate      |\n",
            "|9      |jinba mens wear commodity manager                        |(D)[12K-16K)|Zhengzhou   |New first-tier cities|(B)More than 3 years   |(B)Secondary Education|\n",
            "|9      |data model design manager                                |(F)>=20K    |Beijing     |First-tier cities    |(B)More than 3 years   |(C)Undergraduate      |\n",
            "|9      |big data product manager                                 |(G)Interview|Chengdu     |New first-tier cities|(B)More than 3 years   |(C)Undergraduate      |\n",
            "|9      |project manager                                          |(C)[8K-12K) |Dalian      |Others               |(B)More than 3 years   |(C)Undergraduate      |\n",
            "|9      |department manager real estate data integration          |(D)[12K-16K)|Guangzhou   |First-tier cities    |(B)More than 3 years   |(B)Secondary Education|\n",
            "|9      |regional sales manager jinan                             |(B)[4K-8K)  |Jinan       |Others               |(A)1-3 years           |(B)Secondary Education|\n",
            "|9      |after sales engineer                                     |(B)[4K-8K)  |Nanjing     |New first-tier cities|(A)1-3 years           |(B)Secondary Education|\n",
            "|9      |regional sales manager of network products liaoning      |(B)[4K-8K)  |Shenyang    |New first-tier cities|(A)1-3 years           |(B)Secondary Education|\n",
            "|9      |project manager smart city big data direction            |(D)[12K-16K)|Wuhan       |New first-tier cities|(B)More than 3 years   |(C)Undergraduate      |\n",
            "|9      |collection manager                                       |(D)[12K-16K)|Changsha    |New first-tier cities|(B)More than 3 years   |(B)Secondary Education|\n",
            "|9      |sales specialistmanagerbig data public opinion           |(B)[4K-8K)  |Hangzhou    |New first-tier cities|(C)Experience unlimited|(E)Education Unlimited|\n",
            "|9      |city manager accept national assignment                  |(D)[12K-16K)|Tianjin     |New first-tier cities|(B)More than 3 years   |(C)Undergraduate      |\n",
            "|9      |project manager big data                                 |(E)[16K-20K)|Xi'an       |New first-tier cities|(B)More than 3 years   |(C)Undergraduate      |\n",
            "+-------+---------------------------------------------------------+------------+------------+---------------------+-----------------------+----------------------+\n",
            "only showing top 20 rows\n",
            "\n"
          ]
        }
      ],
      "source": [
        "# Get unique values in the grouping column\n",
        "clusters = sorted([x[0] for x in clusters_df.select(\"cluster\").distinct().collect()])\n",
        "print(\"Cluster IDs: [{:s}]\".format(\", \".join([str(c) for c in clusters])))\n",
        "\n",
        "# Create a filtered DataFrame for each group in a list comprehension\n",
        "cluster_list = [clusters_df.where(clusters_df.cluster == x) for x in clusters]\n",
        "\n",
        "# Show the results\n",
        "for x_id, x in enumerate(cluster_list):\n",
        "  print(\"Showing the first 20 records of cluster ID #{:d}\".format(x_id))\n",
        "  x.select([\"cluster\", \"Job title\", \"Salary range\", \"Location\", \"Tier\", \"Experience requirement\", \"Education requirements\"]).show(20, truncate=False)"
      ]
    },
    {
      "cell_type": "markdown",
      "metadata": {
        "id": "y7gK1GiVsri0"
      },
      "source": [
        "# **Cluster Data Analysis**\n",
        "\n"
      ]
    },
    {
      "cell_type": "markdown",
      "metadata": {
        "id": "QqKi6xT3Me2F"
      },
      "source": [
        "### Show the first 10 most frequently occuring terms in each cluster [5 Marks]"
      ]
    },
    {
      "cell_type": "code",
      "execution_count": null,
      "metadata": {
        "id": "qByS1T-MyUSw",
        "colab": {
          "base_uri": "https://localhost:8080/"
        },
        "outputId": "5a108b19-ee45-4488-8005-bf69739c9914"
      },
      "outputs": [
        {
          "output_type": "stream",
          "name": "stdout",
          "text": [
            "Showing the highest 10 frequency terms for Cluster 0\n",
            "+----------+-----+\n",
            "|     words|count|\n",
            "+----------+-----+\n",
            "|      data|  787|\n",
            "|     clerk|  423|\n",
            "|       one|  258|\n",
            "|     entry|  219|\n",
            "|     break|  205|\n",
            "| insurance|  184|\n",
            "|    double|  182|\n",
            "|      gold|  181|\n",
            "|         k|  180|\n",
            "|statistics|  159|\n",
            "+----------+-----+\n",
            "\n",
            "Showing the highest 10 frequency terms for Cluster 1\n",
            "+-----------+-----+\n",
            "|      words|count|\n",
            "+-----------+-----+\n",
            "|       data| 3335|\n",
            "|   engineer| 2979|\n",
            "|development| 1618|\n",
            "|        big| 1608|\n",
            "|  operation|  367|\n",
            "|     senior|  274|\n",
            "|  architect|  202|\n",
            "|   database|  187|\n",
            "|  warehouse|  178|\n",
            "| operations|  140|\n",
            "+-----------+-----+\n",
            "\n",
            "Showing the highest 10 frequency terms for Cluster 2\n",
            "+-----------+-----+\n",
            "|      words|count|\n",
            "+-----------+-----+\n",
            "|   software|  205|\n",
            "|   engineer|  185|\n",
            "|       data|  157|\n",
            "|       test|  127|\n",
            "|development|   72|\n",
            "|        big|   63|\n",
            "|    manager|   29|\n",
            "|       java|   29|\n",
            "|      sales|   28|\n",
            "|     senior|   22|\n",
            "+-----------+-----+\n",
            "\n",
            "Showing the highest 10 frequency terms for Cluster 3\n",
            "+----------+-----+\n",
            "|     words|count|\n",
            "+----------+-----+\n",
            "|      data| 1332|\n",
            "|  analysis| 1215|\n",
            "| assistant|  285|\n",
            "|  engineer|  236|\n",
            "|  business|  130|\n",
            "|consultant|  101|\n",
            "|       big|   95|\n",
            "|      head|   90|\n",
            "|operations|   73|\n",
            "|     sales|   72|\n",
            "+----------+-----+\n",
            "\n",
            "Showing the highest 10 frequency terms for Cluster 4\n",
            "+----------+-----+\n",
            "|     words|count|\n",
            "+----------+-----+\n",
            "|      data|  457|\n",
            "|      post|  330|\n",
            "|    center|  115|\n",
            "| technical|  109|\n",
            "|  analysis|  103|\n",
            "|   support|  102|\n",
            "|  engineer|   70|\n",
            "| operation|   53|\n",
            "|  director|   51|\n",
            "|management|   50|\n",
            "+----------+-----+\n",
            "\n",
            "Showing the highest 10 frequency terms for Cluster 5\n",
            "+----------+-----+\n",
            "|     words|count|\n",
            "+----------+-----+\n",
            "|specialist| 1050|\n",
            "|      data|  835|\n",
            "|  analysis|  217|\n",
            "|operations|  123|\n",
            "| commodity|  123|\n",
            "|processing|   43|\n",
            "|management|   38|\n",
            "|         k|   24|\n",
            "|  labeling|   22|\n",
            "|supervisor|   22|\n",
            "+----------+-----+\n",
            "\n",
            "Showing the highest 10 frequency terms for Cluster 6\n",
            "+---------+-----+\n",
            "|    words|count|\n",
            "+---------+-----+\n",
            "|  analyst| 1374|\n",
            "|     data| 1327|\n",
            "|financial|   76|\n",
            "|   senior|   69|\n",
            "|      big|   57|\n",
            "|assistant|   53|\n",
            "|        k|   41|\n",
            "| business|   32|\n",
            "|    break|   29|\n",
            "|        j|   24|\n",
            "+---------+-----+\n",
            "\n",
            "Showing the highest 10 frequency terms for Cluster 7\n",
            "+-------------+-----+\n",
            "|        words|count|\n",
            "+-------------+-----+\n",
            "|         data|  278|\n",
            "|     research|  186|\n",
            "|      service|  158|\n",
            "|       market|  145|\n",
            "|     customer|  145|\n",
            "|   researcher|   81|\n",
            "|    marketing|   70|\n",
            "|          big|   69|\n",
            "|administrator|   59|\n",
            "|      manager|   47|\n",
            "+-------------+-----+\n",
            "\n",
            "Showing the highest 10 frequency terms for Cluster 8\n",
            "+------------+-----+\n",
            "|       words|count|\n",
            "+------------+-----+\n",
            "|        data| 1181|\n",
            "|statistician|  241|\n",
            "|  processing|  181|\n",
            "|      intern|  133|\n",
            "|  annotation|  103|\n",
            "|   processor|   84|\n",
            "|   annotator|   54|\n",
            "|  supervisor|   43|\n",
            "|    designer|   41|\n",
            "|     mapping|   39|\n",
            "+------------+-----+\n",
            "\n",
            "Showing the highest 10 frequency terms for Cluster 9\n",
            "+----------+-----+\n",
            "|     words|count|\n",
            "+----------+-----+\n",
            "|   manager| 1058|\n",
            "|      data|  976|\n",
            "|     sales|  448|\n",
            "|   product|  428|\n",
            "|   project|  252|\n",
            "|management|  205|\n",
            "|       big|  184|\n",
            "|    senior|  109|\n",
            "|    center|  108|\n",
            "| direction|   95|\n",
            "+----------+-----+\n",
            "\n"
          ]
        }
      ],
      "source": [
        "\n",
        "for x_id, x in enumerate(cluster_list):\n",
        "  print(f'Showing the highest 10 frequency terms for Cluster {x_id}')\n",
        "\n",
        "  #Explode the terms column to create individual rows for each term:\n",
        "  # exploded_df = x.select(explode(\"terms\").alias(\"words\"))\n",
        "  # exploded_df.groupBy('words').count().sort('count',ascending=False).show(10)\n",
        "\n",
        "  x.createOrReplaceTempView(\"terms_table\")\n",
        "\n",
        "  result = spark.sql(\"\"\"\n",
        "      SELECT words, COUNT(*) as count\n",
        "      FROM (\n",
        "          SELECT explode(terms) as words\n",
        "          FROM terms_table\n",
        "      )\n",
        "      GROUP BY words\n",
        "      ORDER BY count DESC\n",
        "      limit 10\n",
        "  \"\"\").show()"
      ]
    },
    {
      "cell_type": "markdown",
      "metadata": {
        "id": "U_Q9fEccNpJq"
      },
      "source": [
        "### Salary range analysis of jobs according to city tier system [5 Marks]"
      ]
    },
    {
      "cell_type": "code",
      "execution_count": null,
      "metadata": {
        "id": "Euj9qrzuEECc",
        "colab": {
          "base_uri": "https://localhost:8080/",
          "height": 449
        },
        "outputId": "f9f3b238-1563-49ed-83aa-3653609578d2"
      },
      "outputs": [
        {
          "output_type": "display_data",
          "data": {
            "text/plain": [
              "<Figure size 640x480 with 1 Axes>"
            ],
            "image/png": "[encoded data removed]"
          },
          "metadata": {}
        }
      ],
      "source": [
        "\n",
        "df_pandas = clusters_df.toPandas()\n",
        "df_counts = df_pandas.groupby('Tier')['Salary range'].value_counts().unstack().fillna(0)\n",
        "total = df_counts.sum().sum()\n",
        "df_counts = df_counts / total * 100\n",
        "df_counts = df_counts.iloc[:, ::-1]\n",
        "\n",
        "num_categories = len(df_counts.columns)\n",
        "colors = sns.color_palette(\"tab10\", num_categories)\n",
        "ax =df_counts.plot(kind='bar', stacked=True, color= colors[::-1],edgecolor='black',width=0.8)\n",
        "\n",
        "plt.xlabel('Tier')\n",
        "plt.ylabel('Percent')\n",
        "plt.xticks(rotation='horizontal')\n",
        "\n",
        "handles, labels = ax.get_legend_handles_labels()\n",
        "ax.legend(handles[::-1], labels[::-1], title='Salary range', loc='upper right')\n",
        "\n",
        "plt.show()"
      ]
    },
    {
      "cell_type": "markdown",
      "metadata": {
        "id": "Sma7mX8_cHcR"
      },
      "source": [
        "<!-- ### Proportions of jobs available in each cluster [5 Marks] -->"
      ]
    },
    {
      "cell_type": "code",
      "execution_count": null,
      "metadata": {
        "id": "EDkQa57SbxlN",
        "colab": {
          "base_uri": "https://localhost:8080/",
          "height": 406
        },
        "outputId": "517617ea-258b-424c-ba04-b65d5988b6d8"
      },
      "outputs": [
        {
          "output_type": "display_data",
          "data": {
            "text/plain": [
              "<Figure size 640x480 with 1 Axes>"
            ],
            "image/png": "[encoded data removed]"
          },
          "metadata": {}
        }
      ],
      "source": [
        "\n",
        "data = clusters_df.groupBy('cluster').count().sort('count',ascending=False)\n",
        "pandas_df = data.toPandas()\n",
        "clusters = pandas_df['cluster'].tolist()\n",
        "count = pandas_df['count'].tolist()\n",
        "\n",
        "clusters = [f\"Cluster {i}\" for i in clusters]\n",
        "palette_color = sns.color_palette('pastel')\n",
        "\n",
        "\n",
        "plt.pie(count, labels=clusters,colors=palette_color, autopct='%1.1f%%')\n",
        "plt.show()\n"
      ]
    },
    {
      "cell_type": "markdown",
      "metadata": {
        "id": "cONuo36miVrs"
      },
      "source": [
        "### Education requirements analysis of jobs in each cluster [5 Marks]"
      ]
    },
    {
      "cell_type": "code",
      "execution_count": null,
      "metadata": {
        "id": "dB-MX9LOi2cr",
        "colab": {
          "base_uri": "https://localhost:8080/",
          "height": 498
        },
        "outputId": "5a005cfc-e37c-4f52-8e3c-2885b1c705dd"
      },
      "outputs": [
        {
          "output_type": "display_data",
          "data": {
            "text/plain": [
              "<Figure size 640x480 with 1 Axes>"
            ],
            "image/png": "[encoded data removed]"
          },
          "metadata": {}
        }
      ],
      "source": [
        "\n",
        "df_pandas = clusters_df.toPandas()\n",
        "df_pandas['cluster'] = df_pandas['cluster'].apply(lambda x:'Cluster '+str(x) )\n",
        "df_counts = df_pandas.groupby('cluster')['Education requirements'].value_counts().unstack().fillna(0)\n",
        "total = df_counts.sum().sum()\n",
        "df_counts = df_counts / total * 100\n",
        "df_counts = df_counts.iloc[:,::-1]\n",
        "\n",
        "num_categories = len(df_counts.columns)\n",
        "colors = sns.color_palette(\"tab10\", num_categories)\n",
        "ax =df_counts.plot(kind='bar', stacked=True, edgecolor='black', color=colors[::-1],width=0.8)\n",
        "\n",
        "plt.xlabel('cluster')\n",
        "plt.ylabel('Percent')\n",
        "handles, labels = ax.get_legend_handles_labels()\n",
        "ax.legend(handles[::-1], labels[::-1], title='Education requirements', loc='upper right')\n",
        "plt.show()"
      ]
    },
    {
      "cell_type": "markdown",
      "metadata": {
        "id": "99-MoGwDrl3H"
      },
      "source": [
        "### Experience requirements analysis of jobs in each cluster [5 Marks]"
      ]
    },
    {
      "cell_type": "code",
      "execution_count": null,
      "metadata": {
        "id": "uIhm7s-brtUq",
        "colab": {
          "base_uri": "https://localhost:8080/",
          "height": 498
        },
        "outputId": "b7f0d5b0-7bef-442e-a5d0-15679267a1e1"
      },
      "outputs": [
        {
          "output_type": "display_data",
          "data": {
            "text/plain": [
              "<Figure size 640x480 with 1 Axes>"
            ],
            "image/png": "[encoded data removed]"
          },
          "metadata": {}
        }
      ],
      "source": [
        "\n",
        "df_pandas = clusters_df.toPandas()\n",
        "df_pandas['cluster'] = df_pandas['cluster'].apply(lambda x:'Cluster '+str(x) )\n",
        "df_counts = df_pandas.groupby('cluster')['Experience requirement'].value_counts().unstack().fillna(0)\n",
        "total = df_counts.sum().sum()\n",
        "df_counts = df_counts / total * 100\n",
        "\n",
        "colors = sns.color_palette()\n",
        "ax =df_counts.plot(kind='bar', stacked=False, edgecolor='black', color=colors,width=0.8)\n",
        "\n",
        "plt.xlabel('cluster')\n",
        "plt.ylabel('Percent')\n",
        "\n",
        "plt.show()"
      ]
    },
    {
      "cell_type": "markdown",
      "metadata": {
        "id": "WQTbByaGsY0Y"
      },
      "source": [
        "### Why do you think the majority of job adverts falling in Cluster 1 and Cluster 9 require `More than 3 years` experience? Provide your answer here. [10 Marks]"
      ]
    },
    {
      "cell_type": "markdown",
      "source": [
        "This can be seen by the graph above of education requirements of jobs in each cluster. Its can be seen that cluster one has the highest percent of jobs adverts that require higher levels of education such as an undergraduate degree. This is followed by cluster nine with the second highest percent of higher-level education requirements. These jobs typically require more skill and are more complex than those that only require a primary education. Furthermore, due to the difficult nature of these jobs, typically they require a couple years of experience in order to cater for this difficulty and to master the jobs requirements.  \n",
        "\n",
        "It can be seen how different job adverts have varying education requirements and experience requirements. Cluster nine contains job adverts that typically require bachelor’s degrees and more than 3 years of experience. Scanning the data in cluster one and cluster nine, jobs such as a product manager, advanced data operator and senior data administrator can be found. These jobs typically have higher rank in the company, and thus it is expected to have higher education requirements and experience requirements. Compared to cluster 8, which typically has sales related jobs. These jobs generally have lower education requirements and have higher acceptance of college degrees. than those in cluster one and cluster nine. However, with more than 3 years of experience there are more opportunities as seen by the large result in the experience unlimited bar.\n",
        "\n",
        "Thus, cluster one and cluster nine highlights how more challenging, complex and more executive jobs, such as a senior data analyst, have more-demanding requirements such as higher education qualifications\n",
        "\n"
      ],
      "metadata": {
        "id": "F4KqyxACoAcR"
      }
    },
    {
      "cell_type": "markdown",
      "metadata": {
        "id": "eVRDWTYFvMVZ"
      },
      "source": [
        "### Salary range analysis of jobs in each cluster [5 Marks]"
      ]
    },
    {
      "cell_type": "code",
      "execution_count": null,
      "metadata": {
        "id": "QetZHmtHvLMy",
        "colab": {
          "base_uri": "https://localhost:8080/",
          "height": 498
        },
        "outputId": "69a71579-e7ad-458a-a300-fe4c8547bf70"
      },
      "outputs": [
        {
          "output_type": "display_data",
          "data": {
            "text/plain": [
              "<Figure size 640x480 with 1 Axes>"
            ],
            "image/png": "[encoded data removed]"
          },
          "metadata": {}
        }
      ],
      "source": [
        "\n",
        "df_pandas = clusters_df.toPandas()\n",
        "df_pandas['cluster'] = df_pandas['cluster'].apply(lambda x:'Cluster '+str(x) )\n",
        "df_counts = df_pandas.groupby('cluster')['Salary range'].value_counts().unstack().fillna(0)\n",
        "total = df_counts.sum().sum()\n",
        "df_counts = df_counts / total * 100\n",
        "df_counts = df_counts.iloc[:, ::-1]\n",
        "\n",
        "num_categories = len(df_counts.columns)\n",
        "colors = sns.color_palette(\"tab10\", num_categories)\n",
        "ax = df_counts.plot(kind='bar', stacked=True, edgecolor='black', color=colors[::-1],width=0.8)\n",
        "\n",
        "plt.xlabel('cluster')\n",
        "plt.ylabel('Percent')\n",
        "\n",
        "handles, labels = ax.get_legend_handles_labels()\n",
        "ax.legend(handles[::-1], labels[::-1], title='Salary range', loc='upper right')\n",
        "plt.show()"
      ]
    },
    {
      "cell_type": "markdown",
      "metadata": {
        "id": "ij9xmwI-voiG"
      },
      "source": [
        "### Why do you think that jobs in Cluster 1 and Cluster 9 have a higher salary range compared to other clusters? Please provide your answer here. [10 Marks]"
      ]
    },
    {
      "cell_type": "markdown",
      "source": [
        "As mentioned above, clusters one and cluster nine have the highest requirement for higher levels of education such as an undergraduate degree and above. Majority of these jobs in these clusters also require more than 3 years’ experience. This is due to these jobs being more executive, complex and challenging. Such jobs in these clusters are data engineers, and big data operation engineer. Thus, there is a higher salary for these jobs. Clusters nine and one have the largest portion of salaries in the highest range, which is above 20k. Furthermore, due to the higher requirements and expertise required, these jobs typically have very few qualified applicants who are skilled enough as well as have fewer available positions. These senior jobs are in demand in first-tier cities, yet there is a lack of supply of these advanced skills, and as such this drives the salary of these jobs higher.\n",
        "\n",
        "Furthermore, earlier graph of the tier vas the salary highlights how most of the higher salary ranges occur in the ‘first -tier’ cities and the ‘new first-tier cities’. Due to most of the job adverts in clusters one and nine being in these cities, the salaries are generally higher as there is much higher economic development and innovation.\n"
      ],
      "metadata": {
        "id": "XVxq9RIVtQCs"
      }
    },
    {
      "cell_type": "markdown",
      "metadata": {
        "id": "GEXmWOu6wUj7"
      },
      "source": [
        "### Please critically evaluate the performance of the implementation of the K-means text clustering method in this notebook and provide suggestions for enhancing its performance. You are not required to implement your suggestions. Please provider your answer here. [10 Marks]"
      ]
    },
    {
      "cell_type": "markdown",
      "source": [
        "The silhouette coefficient for K=10 was 0.238 which is a moderate level of clustering as considering no hyperparameter tuning. The closer to 1 means the more distinct the clusters are.This means that the clusters arent perfectly distinct, and there portions of misclassification. Thus the silhouette coefficient should be reduced to enable better clustering ability.\n",
        "\n",
        "The reported WCSS of 6469.251. The lower the WCSS, the better the clustering and the clusters become more comapct and distinct. This value is also moderate, but is massively improved due to the data preprocessing\n",
        "\n",
        "\n",
        "**Improvements** :\n",
        "\n",
        "*  Experimenting with different number of clusters. This can be done for random values or using an iterative approach. Then the optimal number of clusters can be determined which will improve the performance\n",
        "*  Plot the clusters and perform analysis of outliers and misclassifications, also known as exploratory data analysis. Then change the clustering parameters and/or change the data preprocessing accordingly\n",
        "* Use a different distance metric to perform the clustering\n",
        "* Experiment with different feature representations such as word embeddings or topic models to capture more meaning from the data\n",
        "* Perform hyperparameter tuning (convergence criteria, learning rate etc.) using random search to find the best combination of parameters that maximises performance.\n",
        "* Explore if performing more iterations of the clustering algorithm improves performance until what number of iterations which is computationally feasible\n",
        "* Use different initialisation techniques such as mini-batch K-means or K-means++ which can improve efficiency of convergence and potentially lead to improved clustering results\n",
        "\n",
        "\n",
        "\n"
      ],
      "metadata": {
        "id": "M9-6JC_yvxOf"
      }
    }
  ],
  "metadata": {
    "colab": {
      "machine_shape": "hm",
      "provenance": []
    },
    "kernelspec": {
      "display_name": "Python 3",
      "name": "python3"
    }
  },
  "nbformat": 4,
  "nbformat_minor": 0
}
